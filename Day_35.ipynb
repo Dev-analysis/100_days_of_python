{
 "cells": [
  {
   "cell_type": "markdown",
   "id": "ea424209-e037-43ab-8ee6-2b59a50d1285",
   "metadata": {},
   "source": [
    "# Python - else in loop\n",
    "\n",
    "we have learned in previous days, that **else** claused is used along with the **if** statement.\n",
    "\n",
    "Python allows the else keyword to be used with the for and while loops too. The else block appears after the body of the loop. The statements in the else block will be executed after all iterations are completed. The program exits the loop only after the else block is executed. \n",
    "\n",
    "**Syntax:**  "
   ]
  },
  {
   "cell_type": "code",
   "execution_count": null,
   "id": "e9fc2a0d-f1bc-43e4-942d-8cf558b72d6a",
   "metadata": {},
   "outputs": [],
   "source": [
    "for counter in sequence:\n",
    "    #Statements inside for loop block\n",
    "else:\n",
    "    #Statements inside else block"
   ]
  },
  {
   "cell_type": "code",
   "execution_count": 2,
   "id": "5c428629-6bf6-4357-a288-166d11f50bab",
   "metadata": {},
   "outputs": [
    {
     "name": "stdout",
     "output_type": "stream",
     "text": [
      "iterations no 1 in for loop\n",
      "iterations no 2 in for loop\n",
      "iterations no 3 in for loop\n",
      "iterations no 4 in for loop\n",
      "iterations no 5 in for loop\n",
      "else block in loop\n",
      "Out of loop\n"
     ]
    }
   ],
   "source": [
    "for x in range(5):\n",
    "    print(\"iterations no {} in for loop\".format(x+1))\n",
    "else:\n",
    "    print(\"else block in loop\")\n",
    "print(\"Out of loop\")"
   ]
  },
  {
   "cell_type": "code",
   "execution_count": null,
   "id": "0e39d059-8724-4a1a-b4d4-2a7074f2134a",
   "metadata": {},
   "outputs": [],
   "source": []
  }
 ],
 "metadata": {
  "kernelspec": {
   "display_name": "Python 3 (ipykernel)",
   "language": "python",
   "name": "python3"
  },
  "language_info": {
   "codemirror_mode": {
    "name": "ipython",
    "version": 3
   },
   "file_extension": ".py",
   "mimetype": "text/x-python",
   "name": "python",
   "nbconvert_exporter": "python",
   "pygments_lexer": "ipython3",
   "version": "3.9.19"
  }
 },
 "nbformat": 4,
 "nbformat_minor": 5
}
