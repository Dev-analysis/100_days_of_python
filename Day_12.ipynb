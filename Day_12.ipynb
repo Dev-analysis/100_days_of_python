{
 "cells": [
  {
   "cell_type": "markdown",
   "id": "694ef6aa",
   "metadata": {},
   "source": [
    "# String Slicing & Operations on String"
   ]
  },
  {
   "cell_type": "markdown",
   "id": "0e95c1fe",
   "metadata": {},
   "source": [
    "## Length of a string\n",
    "\n",
    "We can find the length of a string len() function"
   ]
  },
  {
   "cell_type": "code",
   "execution_count": 4,
   "id": "391abb32",
   "metadata": {},
   "outputs": [
    {
     "name": "stdout",
     "output_type": "stream",
     "text": [
      "Mango is a 5 letter word.\n"
     ]
    }
   ],
   "source": [
    "fruit = \"Mango\"\n",
    "len1 = len(fruit)\n",
    "print(\"Mango is a\", len1, \"letter word.\")"
   ]
  },
  {
   "cell_type": "markdown",
   "id": "51ed400f",
   "metadata": {},
   "source": [
    "## String as an array\n",
    "A string is essentially a sequence of characters also called an array. Thus we can access the element of this array. "
   ]
  },
  {
   "cell_type": "code",
   "execution_count": 6,
   "id": "20ccb655",
   "metadata": {},
   "outputs": [
    {
     "name": "stdout",
     "output_type": "stream",
     "text": [
      "Apple\n",
      "i\n"
     ]
    }
   ],
   "source": [
    "pie = \"ApplePie\"\n",
    "print(pie[:5])\n",
    "print(pie[6]) # returns characters at specified index"
   ]
  },
  {
   "cell_type": "markdown",
   "id": "1602fa2d",
   "metadata": {},
   "source": [
    "**Note: This method of specifying the start and end index to specify a part of a string is called slicing.**"
   ]
  },
  {
   "cell_type": "code",
   "execution_count": 7,
   "id": "6fea345a",
   "metadata": {},
   "outputs": [
    {
     "name": "stdout",
     "output_type": "stream",
     "text": [
      "Apple\n",
      "Pie\n",
      "pleP\n",
      "ApplePie\n"
     ]
    }
   ],
   "source": [
    "pie = \"ApplePie\"\n",
    "print(pie[:5])      #Slicing from Start\n",
    "print(pie[5:])      #Slicing till End\n",
    "print(pie[2:6])     #Slicing in between\n",
    "print(pie[-8:])     #Slicing using negative index"
   ]
  },
  {
   "cell_type": "markdown",
   "id": "0d322459",
   "metadata": {},
   "source": [
    "## Loop through a String\n",
    "\n",
    "Strings are arrays and arrays are iterable. Thus we can loop through strings."
   ]
  },
  {
   "cell_type": "code",
   "execution_count": 8,
   "id": "1430c3ea",
   "metadata": {},
   "outputs": [
    {
     "name": "stdout",
     "output_type": "stream",
     "text": [
      "A\n",
      "B\n",
      "C\n",
      "D\n",
      "E\n"
     ]
    }
   ],
   "source": [
    "alphabets = \"ABCDE\"\n",
    "for i in alphabets: \n",
    "    print(i)"
   ]
  },
  {
   "cell_type": "code",
   "execution_count": null,
   "id": "4634ba30",
   "metadata": {},
   "outputs": [],
   "source": []
  }
 ],
 "metadata": {
  "kernelspec": {
   "display_name": "Python 3 (ipykernel)",
   "language": "python",
   "name": "python3"
  },
  "language_info": {
   "codemirror_mode": {
    "name": "ipython",
    "version": 3
   },
   "file_extension": ".py",
   "mimetype": "text/x-python",
   "name": "python",
   "nbconvert_exporter": "python",
   "pygments_lexer": "ipython3",
   "version": "3.9.12"
  }
 },
 "nbformat": 4,
 "nbformat_minor": 5
}
