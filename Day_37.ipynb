{
 "cells": [
  {
   "cell_type": "markdown",
   "id": "1dfe4f13-50cc-49ac-9409-274dfba44c4b",
   "metadata": {},
   "source": [
    "# Finally Clause\n",
    "The **finally** code block is also a part of exception handling. When we handle exception using the **try and except** block, we can include a finally block at the end. The finally block is always executed, so it is generally used for doing the concluding tasks like closing file resources or closing database connection or may be ending the program execution with delightful message. \n",
    "\n",
    "**Syntax:**"
   ]
  },
  {
   "cell_type": "code",
   "execution_count": null,
   "id": "28f24f45-412b-49c6-9310-c6b75bfd8194",
   "metadata": {},
   "outputs": [],
   "source": [
    "\n",
    "try:\n",
    "    #statements which could generate\n",
    "    #exception\n",
    "except:\n",
    "    #solution of generated exception\n",
    "finally:\n",
    "    #block of code which is going to \n",
    "    #execute in any situation\n"
   ]
  },
  {
   "cell_type": "markdown",
   "id": "847cbd3d-8778-4f67-b156-6133a97c305f",
   "metadata": {},
   "source": [
    "The finally block is executed irrespective of the outcome of try...except...else block\n",
    "\n",
    "One of the important use cases of finally block is in a function which returns a value. "
   ]
  },
  {
   "cell_type": "code",
   "execution_count": 3,
   "id": "8716aa66-6a99-409d-83c3-40532a826e70",
   "metadata": {},
   "outputs": [
    {
     "name": "stdin",
     "output_type": "stream",
     "text": [
      "Enter an integer:  19\n"
     ]
    },
    {
     "name": "stdout",
     "output_type": "stream",
     "text": [
      "Integer Accepted.\n",
      "This block is always executed.\n"
     ]
    }
   ],
   "source": [
    "try:\n",
    "    num = int(input(\"Enter an integer: \"))\n",
    "except ValueError:\n",
    "    print(\"Number entered is not an integer.\")\n",
    "else:\n",
    "    print(\"Integer Accepted.\")\n",
    "finally:\n",
    "    print(\"This block is always executed.\")"
   ]
  },
  {
   "cell_type": "code",
   "execution_count": 4,
   "id": "fce3f842-aec7-4fa4-8767-2e3fcaf6d938",
   "metadata": {},
   "outputs": [
    {
     "name": "stdin",
     "output_type": "stream",
     "text": [
      "Enter an integer:  6.12\n"
     ]
    },
    {
     "name": "stdout",
     "output_type": "stream",
     "text": [
      "Number entered is not an integer.\n",
      "This block is always executed.\n"
     ]
    }
   ],
   "source": [
    "try:\n",
    "    num = int(input(\"Enter an integer: \"))\n",
    "except ValueError:\n",
    "    print(\"Number entered is not an integer.\")\n",
    "else:\n",
    "    print(\"Integer Accepted.\")\n",
    "finally:\n",
    "    print(\"This block is always executed.\")"
   ]
  },
  {
   "cell_type": "code",
   "execution_count": null,
   "id": "a80d2dbd-4176-4602-bb8b-82e953cce81b",
   "metadata": {},
   "outputs": [],
   "source": []
  }
 ],
 "metadata": {
  "kernelspec": {
   "display_name": "Python 3 (ipykernel)",
   "language": "python",
   "name": "python3"
  },
  "language_info": {
   "codemirror_mode": {
    "name": "ipython",
    "version": 3
   },
   "file_extension": ".py",
   "mimetype": "text/x-python",
   "name": "python",
   "nbconvert_exporter": "python",
   "pygments_lexer": "ipython3",
   "version": "3.9.19"
  }
 },
 "nbformat": 4,
 "nbformat_minor": 5
}
