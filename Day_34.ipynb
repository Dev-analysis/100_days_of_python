{
 "cells": [
  {
   "cell_type": "markdown",
   "id": "4f0e9526-6138-4c00-b264-f5060b66444a",
   "metadata": {},
   "source": [
    "# Dictionary Methods\n",
    "Dictionary uses several built-in methods for manipulation. They are listed below\n",
    "\n",
    "### update()\n",
    "The update() method updates the value of the key provided to it if the item already exists in the dictionary, else it creates a new key-value pair."
   ]
  },
  {
   "cell_type": "code",
   "execution_count": 1,
   "id": "a291caea-8af0-4394-8db3-5f4ef4c96e38",
   "metadata": {},
   "outputs": [
    {
     "name": "stdout",
     "output_type": "stream",
     "text": [
      "{'name': 'Karan', 'age': 19, 'eligible': True}\n",
      "{'name': 'Karan', 'age': 20, 'eligible': True, 'DOB': 2001}\n"
     ]
    }
   ],
   "source": [
    "info = {'name':'Karan', 'age':19, 'eligible':True}\n",
    "print(info)\n",
    "info.update({'age':20})\n",
    "info.update({'DOB':2001})\n",
    "print(info)"
   ]
  },
  {
   "cell_type": "markdown",
   "id": "493ea6c0-9794-46bc-b3dc-84c748eb3aa5",
   "metadata": {},
   "source": [
    "## Removing items from dictionary\n",
    "There are a few methods that we can use to remove items from dictionary. \n",
    "\n",
    "### clear():\n",
    "The clear() method removes all the items from the list. "
   ]
  },
  {
   "cell_type": "code",
   "execution_count": 2,
   "id": "0cbd32c7-f0f0-49d8-a299-3e3c6b5aae46",
   "metadata": {},
   "outputs": [
    {
     "name": "stdout",
     "output_type": "stream",
     "text": [
      "{}\n"
     ]
    }
   ],
   "source": [
    "info = {'name':'Karan', 'age':19, 'eligible':True}\n",
    "info.clear()\n",
    "print(info)"
   ]
  },
  {
   "cell_type": "markdown",
   "id": "897587e5-75a0-4871-8366-9f803c97d199",
   "metadata": {},
   "source": [
    "### pop()\n",
    "The pop() method removes the key-value pair whose key is passed as a parameter."
   ]
  },
  {
   "cell_type": "code",
   "execution_count": 3,
   "id": "0145744b-14d4-46fd-9a04-3ec1869a5441",
   "metadata": {},
   "outputs": [
    {
     "name": "stdout",
     "output_type": "stream",
     "text": [
      "{'name': 'Karan', 'age': 19}\n"
     ]
    }
   ],
   "source": [
    "info = {'name':'Karan', 'age':19, 'eligible':True}\n",
    "info.pop('eligible')\n",
    "print(info)\n"
   ]
  },
  {
   "cell_type": "markdown",
   "id": "77c6c4de-683f-44fd-b73d-07330beff719",
   "metadata": {},
   "source": [
    "### popitme():\n",
    "The popitem() method removes the last key-value pair from the dictionary. \n"
   ]
  },
  {
   "cell_type": "code",
   "execution_count": 4,
   "id": "068b15ac-9d87-448a-80ba-f684b8bf76bb",
   "metadata": {},
   "outputs": [
    {
     "name": "stdout",
     "output_type": "stream",
     "text": [
      "{'name': 'karan', 'age': 19, 'eligible': True}\n"
     ]
    }
   ],
   "source": [
    "info = {'name':\"karan\", 'age':19, 'eligible':True, 'DOB':2003}\n",
    "info.popitem()\n",
    "print(info)"
   ]
  },
  {
   "cell_type": "markdown",
   "id": "60c5a906-5ddd-4c9d-9adf-33cf5df0a0fb",
   "metadata": {},
   "source": [
    "### del \n",
    "we can also use the del keyword to remove a dictionary item. "
   ]
  },
  {
   "cell_type": "code",
   "execution_count": 6,
   "id": "d658b503-1167-4d94-895c-e2003df6d9cd",
   "metadata": {},
   "outputs": [
    {
     "name": "stdout",
     "output_type": "stream",
     "text": [
      "{'name': 'Karan', 'eligible': True, 'DOB': 2003}\n"
     ]
    }
   ],
   "source": [
    "info = {'name':'Karan', 'age':19, 'eligible':True, 'DOB':2003}\n",
    "del info['age']\n",
    "print(info)"
   ]
  },
  {
   "cell_type": "markdown",
   "id": "a0853661-1c7e-4fe9-a5a1-e2d0d51069fc",
   "metadata": {},
   "source": [
    "**if is not provided, then the del keyword will delete the dictionary entirely.**"
   ]
  },
  {
   "cell_type": "code",
   "execution_count": 8,
   "id": "13eead10-1fab-4dc5-b53c-8c9efead8080",
   "metadata": {},
   "outputs": [
    {
     "ename": "NameError",
     "evalue": "name 'info' is not defined",
     "output_type": "error",
     "traceback": [
      "\u001b[1;31m---------------------------------------------------------------------------\u001b[0m",
      "\u001b[1;31mNameError\u001b[0m                                 Traceback (most recent call last)",
      "Cell \u001b[1;32mIn[8], line 3\u001b[0m\n\u001b[0;32m      1\u001b[0m info \u001b[38;5;241m=\u001b[39m {\u001b[38;5;124m'\u001b[39m\u001b[38;5;124mname\u001b[39m\u001b[38;5;124m'\u001b[39m:\u001b[38;5;124m'\u001b[39m\u001b[38;5;124mKaran\u001b[39m\u001b[38;5;124m'\u001b[39m, \u001b[38;5;124m'\u001b[39m\u001b[38;5;124mage\u001b[39m\u001b[38;5;124m'\u001b[39m:\u001b[38;5;241m19\u001b[39m, \u001b[38;5;124m'\u001b[39m\u001b[38;5;124meligible\u001b[39m\u001b[38;5;124m'\u001b[39m:\u001b[38;5;28;01mTrue\u001b[39;00m, \u001b[38;5;124m'\u001b[39m\u001b[38;5;124mDOB\u001b[39m\u001b[38;5;124m'\u001b[39m:\u001b[38;5;241m2003\u001b[39m}\n\u001b[0;32m      2\u001b[0m \u001b[38;5;28;01mdel\u001b[39;00m info\n\u001b[1;32m----> 3\u001b[0m \u001b[38;5;28mprint\u001b[39m(\u001b[43minfo\u001b[49m)\n",
      "\u001b[1;31mNameError\u001b[0m: name 'info' is not defined"
     ]
    }
   ],
   "source": [
    "info = {'name':'Karan', 'age':19, 'eligible':True, 'DOB':2003}\n",
    "del info\n",
    "print(info)"
   ]
  },
  {
   "cell_type": "code",
   "execution_count": null,
   "id": "f2012b76-7ebc-4552-957b-9194c5f0da42",
   "metadata": {},
   "outputs": [],
   "source": []
  }
 ],
 "metadata": {
  "kernelspec": {
   "display_name": "Python 3 (ipykernel)",
   "language": "python",
   "name": "python3"
  },
  "language_info": {
   "codemirror_mode": {
    "name": "ipython",
    "version": 3
   },
   "file_extension": ".py",
   "mimetype": "text/x-python",
   "name": "python",
   "nbconvert_exporter": "python",
   "pygments_lexer": "ipython3",
   "version": "3.9.19"
  }
 },
 "nbformat": 4,
 "nbformat_minor": 5
}
