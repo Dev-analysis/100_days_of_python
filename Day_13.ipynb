{
 "cells": [
  {
   "cell_type": "markdown",
   "id": "681f42be",
   "metadata": {},
   "source": [
    "# String methods\n",
    "\n",
    "Python provides a set of built-in methods that can use to alter and modify the strings. \n",
    "\n",
    "## upper(): \n",
    "The upper() method converts a string to upper case. "
   ]
  },
  {
   "cell_type": "code",
   "execution_count": 1,
   "id": "bd758f5e",
   "metadata": {},
   "outputs": [
    {
     "name": "stdout",
     "output_type": "stream",
     "text": [
      "ABCDEGHHIKL\n"
     ]
    }
   ],
   "source": [
    "str1 = \"AbcDEghHIKl\"\n",
    "print(str1.upper())"
   ]
  },
  {
   "cell_type": "markdown",
   "id": "81bd7b0a",
   "metadata": {},
   "source": [
    "## Lower()\n",
    "The lower() method converts a string to lower case. \n"
   ]
  },
  {
   "cell_type": "code",
   "execution_count": 2,
   "id": "ec9d6a10",
   "metadata": {},
   "outputs": [
    {
     "name": "stdout",
     "output_type": "stream",
     "text": [
      "abcdeghhikl\n"
     ]
    }
   ],
   "source": [
    "str2 = \"AbcDEghHIKl\"\n",
    "print(str2.lower())"
   ]
  },
  {
   "cell_type": "markdown",
   "id": "e17617d7",
   "metadata": {},
   "source": [
    "## Strip():\n",
    "The strip() method removes any white spaces before and after the string. "
   ]
  },
  {
   "cell_type": "code",
   "execution_count": 4,
   "id": "c3bea8b3",
   "metadata": {},
   "outputs": [
    {
     "name": "stdout",
     "output_type": "stream",
     "text": [
      "Silver Spoon\n"
     ]
    }
   ],
   "source": [
    "str2 = \" Silver Spoon \"\n",
    "print(str2.strip())"
   ]
  },
  {
   "cell_type": "markdown",
   "id": "87015e3e",
   "metadata": {},
   "source": [
    "## rstrip()\n",
    "The rstrip() removes any trailing characters. "
   ]
  },
  {
   "cell_type": "code",
   "execution_count": 6,
   "id": "af0bfcc4",
   "metadata": {},
   "outputs": [
    {
     "name": "stdout",
     "output_type": "stream",
     "text": [
      "Hello \n"
     ]
    }
   ],
   "source": [
    "str3 = \"Hello !!!\"\n",
    "print(str3.rstrip(\"!\"))"
   ]
  },
  {
   "cell_type": "markdown",
   "id": "d1eb50c4",
   "metadata": {},
   "source": [
    "## replace(): \n",
    "\n",
    "The replace() method replaces all occurences of a string with another string. "
   ]
  },
  {
   "cell_type": "code",
   "execution_count": 8,
   "id": "5b1e7cfd",
   "metadata": {},
   "outputs": [
    {
     "name": "stdout",
     "output_type": "stream",
     "text": [
      "Silver Moon\n"
     ]
    }
   ],
   "source": [
    "str2 = \"Silver Spoon\"\n",
    "print(str2.replace(\"Sp\", \"M\"))"
   ]
  },
  {
   "cell_type": "markdown",
   "id": "a6c18a7e",
   "metadata": {},
   "source": [
    "## split():\n",
    "The split() method splits the given string at the specified instance and returns the separated strings as list items. "
   ]
  },
  {
   "cell_type": "code",
   "execution_count": 9,
   "id": "d383409b",
   "metadata": {},
   "outputs": [
    {
     "name": "stdout",
     "output_type": "stream",
     "text": [
      "['Silver', 'Spoon']\n"
     ]
    }
   ],
   "source": [
    "str2 = \"Silver Spoon\"\n",
    "print(str2.split(\" \"))      #Splits the string at the whitespace \" \"."
   ]
  },
  {
   "cell_type": "markdown",
   "id": "a7c2622a",
   "metadata": {},
   "source": [
    "## capitalize(): \n",
    "The capitalize() method turns only the first character of the string to uppercase and the rest other characters of the string are turned to lowercase. The string has no effect if the first character is already uppercase. "
   ]
  },
  {
   "cell_type": "code",
   "execution_count": 11,
   "id": "7d8a1713",
   "metadata": {},
   "outputs": [
    {
     "name": "stdout",
     "output_type": "stream",
     "text": [
      "Hello\n",
      "Hello world\n"
     ]
    }
   ],
   "source": [
    "str1 = \"hello\"\n",
    "capStr1 = str1.capitalize()\n",
    "print(capStr1)\n",
    "\n",
    "str2 = \"hello WorlD\"\n",
    "capStr2 = str2.capitalize()\n",
    "print(capStr2)"
   ]
  },
  {
   "cell_type": "markdown",
   "id": "2f3c83b1",
   "metadata": {},
   "source": [
    "## center(): \n",
    "The center() method aligns the string to the center as per the parameters given by the user. "
   ]
  },
  {
   "cell_type": "code",
   "execution_count": 1,
   "id": "edf025bf",
   "metadata": {},
   "outputs": [
    {
     "name": "stdout",
     "output_type": "stream",
     "text": [
      "            Welcome to the Console!!!             \n"
     ]
    }
   ],
   "source": [
    "str1 = \"Welcome to the Console!!!\"\n",
    "print(str1.center(50))"
   ]
  },
  {
   "cell_type": "markdown",
   "id": "7c7c09e6",
   "metadata": {},
   "source": [
    "**We can also provide padding character. It will fill the rest of the fill characters provided by the user.**"
   ]
  },
  {
   "cell_type": "code",
   "execution_count": 2,
   "id": "6043930e",
   "metadata": {},
   "outputs": [
    {
     "name": "stdout",
     "output_type": "stream",
     "text": [
      "............Welcome to the Console!!!.............\n"
     ]
    }
   ],
   "source": [
    "str1 = \"Welcome to the Console!!!\"\n",
    "print(str1.center(50, \".\"))"
   ]
  },
  {
   "cell_type": "markdown",
   "id": "15775cda",
   "metadata": {},
   "source": [
    "## count():\n",
    "The count() method returns the numbers of times the given value has occurred within the given string."
   ]
  },
  {
   "cell_type": "code",
   "execution_count": 4,
   "id": "601b7ca6",
   "metadata": {},
   "outputs": [
    {
     "name": "stdout",
     "output_type": "stream",
     "text": [
      "4\n"
     ]
    }
   ],
   "source": [
    "str2 = \"Abracadabra\"\n",
    "countStr = str2.count(\"a\")\n",
    "print(countStr)"
   ]
  },
  {
   "cell_type": "markdown",
   "id": "89d54fdc",
   "metadata": {},
   "source": [
    "## endswith():\n",
    "The endswith() method checks if the string ends with a given value. If yes then return True, else return False. "
   ]
  },
  {
   "cell_type": "code",
   "execution_count": 7,
   "id": "5db323d2",
   "metadata": {},
   "outputs": [
    {
     "name": "stdout",
     "output_type": "stream",
     "text": [
      "True\n"
     ]
    }
   ],
   "source": [
    "str1 = \"Welcome to the Console !!!\"\n",
    "print(str1.endswith(\"!!!\"))"
   ]
  },
  {
   "cell_type": "markdown",
   "id": "0a12f5f8",
   "metadata": {},
   "source": [
    "We can even also check for a value in-between the string by providing start and end index positions. "
   ]
  },
  {
   "cell_type": "code",
   "execution_count": 8,
   "id": "c9d7afb3",
   "metadata": {},
   "outputs": [
    {
     "name": "stdout",
     "output_type": "stream",
     "text": [
      "True\n"
     ]
    }
   ],
   "source": [
    "str1 = \"Welcome to the Console !!!\"\n",
    "print(str1.endswith(\"to\", 4, 10))"
   ]
  },
  {
   "cell_type": "markdown",
   "id": "87e9467a",
   "metadata": {},
   "source": [
    "## find():\n",
    "The find() method searches for the first occurrence of the given value and returns the index where it is present. If given value is absent from the string then return -1."
   ]
  },
  {
   "cell_type": "code",
   "execution_count": 9,
   "id": "064397bc",
   "metadata": {},
   "outputs": [
    {
     "name": "stdout",
     "output_type": "stream",
     "text": [
      "10\n"
     ]
    }
   ],
   "source": [
    "str1 = \"He's name is Dan. He is an honest man.\"\n",
    "print(str1.find(\"is\"))"
   ]
  },
  {
   "cell_type": "markdown",
   "id": "d7ba6d70",
   "metadata": {},
   "source": [
    "As we can see, this method is somewhat similar to the index() method. The major difference being that index() raises an exception if value is absent whereas find() does not. "
   ]
  },
  {
   "cell_type": "code",
   "execution_count": 10,
   "id": "2dd439bd",
   "metadata": {},
   "outputs": [
    {
     "name": "stdout",
     "output_type": "stream",
     "text": [
      "-1\n"
     ]
    }
   ],
   "source": [
    "str1 = \"He's name is Dan. He is an honest man.\"\n",
    "print(str1.find(\"Daniel\"))"
   ]
  },
  {
   "cell_type": "markdown",
   "id": "2c50ed59",
   "metadata": {},
   "source": [
    "## index():\n",
    "The index() method searches for the first occurence of the given value and returns the index where it is present. If given is absent from the string then raise an exception. "
   ]
  },
  {
   "cell_type": "code",
   "execution_count": 11,
   "id": "1415a289",
   "metadata": {},
   "outputs": [
    {
     "name": "stdout",
     "output_type": "stream",
     "text": [
      "13\n"
     ]
    }
   ],
   "source": [
    "str1 = \"He's name is Dan. Dan is an honest man.\"\n",
    "print(str1.index(\"Dan\"))"
   ]
  },
  {
   "cell_type": "markdown",
   "id": "cd9cd272",
   "metadata": {},
   "source": [
    "As we can see, this method is somewhat similar to the find() method. The major difference being that index() raises an exception if value is absent whereas find() does not. "
   ]
  },
  {
   "cell_type": "code",
   "execution_count": 13,
   "id": "5f1b67ef",
   "metadata": {},
   "outputs": [
    {
     "ename": "ValueError",
     "evalue": "substring not found",
     "output_type": "error",
     "traceback": [
      "\u001b[1;31m---------------------------------------------------------------------------\u001b[0m",
      "\u001b[1;31mValueError\u001b[0m                                Traceback (most recent call last)",
      "Input \u001b[1;32mIn [13]\u001b[0m, in \u001b[0;36m<cell line: 2>\u001b[1;34m()\u001b[0m\n\u001b[0;32m      1\u001b[0m str1 \u001b[38;5;241m=\u001b[39m \u001b[38;5;124m\"\u001b[39m\u001b[38;5;124mHe\u001b[39m\u001b[38;5;124m'\u001b[39m\u001b[38;5;124ms name is Dan. Dan is an honest man.\u001b[39m\u001b[38;5;124m\"\u001b[39m\n\u001b[1;32m----> 2\u001b[0m \u001b[38;5;28mprint\u001b[39m(\u001b[43mstr1\u001b[49m\u001b[38;5;241;43m.\u001b[39;49m\u001b[43mindex\u001b[49m\u001b[43m(\u001b[49m\u001b[38;5;124;43m\"\u001b[39;49m\u001b[38;5;124;43mDaniel\u001b[39;49m\u001b[38;5;124;43m\"\u001b[39;49m\u001b[43m)\u001b[49m)\n",
      "\u001b[1;31mValueError\u001b[0m: substring not found"
     ]
    }
   ],
   "source": [
    "str1 = \"He's name is Dan. Dan is an honest man.\"\n",
    "print(str1.index(\"Daniel\"))\n",
    "\n",
    "# ValueError: subtring not found"
   ]
  },
  {
   "cell_type": "markdown",
   "id": "1545aa33",
   "metadata": {},
   "source": [
    "## isalnum():\n",
    "The isalnum() method returns True only if the entire string only consists of A-Z, a-z, 0-9. If any other characters or punctuations are present, then it returns False. "
   ]
  },
  {
   "cell_type": "code",
   "execution_count": 14,
   "id": "bc257001",
   "metadata": {},
   "outputs": [
    {
     "name": "stdout",
     "output_type": "stream",
     "text": [
      "True\n"
     ]
    }
   ],
   "source": [
    "str1 = \"WelcomeToTheConsole\"\n",
    "print(str1.isalnum())"
   ]
  },
  {
   "cell_type": "markdown",
   "id": "d69034a8",
   "metadata": {},
   "source": [
    "## isalpha(): \n",
    "The isalnum() method returns True only if the entire string only consists of A-Z, a-z. If any other characters or punctuations or numbers(0-9) are present, then it returns False. "
   ]
  },
  {
   "cell_type": "code",
   "execution_count": 15,
   "id": "255b1638",
   "metadata": {},
   "outputs": [
    {
     "name": "stdout",
     "output_type": "stream",
     "text": [
      "True\n"
     ]
    }
   ],
   "source": [
    "str1 = \"Welcome\"\n",
    "print(str1.isalpha())"
   ]
  },
  {
   "cell_type": "markdown",
   "id": "c5cbb6c2",
   "metadata": {},
   "source": [
    "## islower():\n",
    "The islower() method returns True if all the characters in the string are lower case, else it returns False."
   ]
  },
  {
   "cell_type": "code",
   "execution_count": 16,
   "id": "715937cb",
   "metadata": {},
   "outputs": [
    {
     "name": "stdout",
     "output_type": "stream",
     "text": [
      "True\n"
     ]
    }
   ],
   "source": [
    "str1 = \"hello world\"\n",
    "print(str1.islower())"
   ]
  },
  {
   "cell_type": "markdown",
   "id": "5e98e47a",
   "metadata": {},
   "source": [
    "## isprintable():\n",
    "The isprintable() method returns True is all the values within the given string are printable, if not, then return False. "
   ]
  },
  {
   "cell_type": "code",
   "execution_count": 18,
   "id": "01f3d327",
   "metadata": {},
   "outputs": [
    {
     "name": "stdout",
     "output_type": "stream",
     "text": [
      "True\n"
     ]
    }
   ],
   "source": [
    "str1 = \"We wish you a Merry Christmas\"\n",
    "print(str1.isprintable())"
   ]
  },
  {
   "cell_type": "markdown",
   "id": "8375f446",
   "metadata": {},
   "source": [
    "## isspace():\n",
    "The isspace() method returns True only and only if the string contains white spaces, else returns False. \n"
   ]
  },
  {
   "cell_type": "code",
   "execution_count": 20,
   "id": "ee07b36d",
   "metadata": {},
   "outputs": [
    {
     "name": "stdout",
     "output_type": "stream",
     "text": [
      "True\n",
      "True\n"
     ]
    }
   ],
   "source": [
    "str1 = \"        \"       #using Spacebar\n",
    "print(str1.isspace())\n",
    "str2 = \"        \"       #using Tab\n",
    "print(str2.isspace())"
   ]
  },
  {
   "cell_type": "markdown",
   "id": "8c5fdff4",
   "metadata": {},
   "source": [
    "## istitle():\n",
    "The istitle() returns True only if the first letter of each word of the string is capitalized, else it returns False"
   ]
  },
  {
   "cell_type": "code",
   "execution_count": 23,
   "id": "31a13a56",
   "metadata": {},
   "outputs": [
    {
     "name": "stdout",
     "output_type": "stream",
     "text": [
      "True\n"
     ]
    }
   ],
   "source": [
    "str1 = \"World Health Organization\"\n",
    "print(str1.istitle())"
   ]
  },
  {
   "cell_type": "code",
   "execution_count": 24,
   "id": "a31b0882",
   "metadata": {},
   "outputs": [
    {
     "name": "stdout",
     "output_type": "stream",
     "text": [
      "False\n"
     ]
    }
   ],
   "source": [
    "str2 = \"To kill a Mocking bird\"\n",
    "print(str2.istitle())"
   ]
  },
  {
   "cell_type": "markdown",
   "id": "2a914d37",
   "metadata": {},
   "source": [
    "## isupper():\n",
    "The isupper() method returns True if all the characters in the string are upper case, else it returns False. "
   ]
  },
  {
   "cell_type": "code",
   "execution_count": 25,
   "id": "a44bf921",
   "metadata": {},
   "outputs": [
    {
     "name": "stdout",
     "output_type": "stream",
     "text": [
      "True\n"
     ]
    }
   ],
   "source": [
    "str1 = \"WORLD HEALTH ORGANIZATION\"\n",
    "print(str1.isupper())"
   ]
  },
  {
   "cell_type": "markdown",
   "id": "de21b725",
   "metadata": {},
   "source": [
    "## startswith(): \n",
    "The startswith() method checks if the string starts with a given value. If yes then return True, else return False. "
   ]
  },
  {
   "cell_type": "code",
   "execution_count": 27,
   "id": "b6f9aaa4",
   "metadata": {},
   "outputs": [
    {
     "name": "stdout",
     "output_type": "stream",
     "text": [
      "True\n"
     ]
    }
   ],
   "source": [
    "str1 = \"Python is Interpreted Language\"\n",
    "print(str1.startswith(\"Python\"))"
   ]
  },
  {
   "cell_type": "markdown",
   "id": "9e4085d3",
   "metadata": {},
   "source": [
    "## swapcase():\n",
    "The swapcase() method changes the character casing of the string. Upper case are converted to lower case and lower case to upper case. "
   ]
  },
  {
   "cell_type": "code",
   "execution_count": 28,
   "id": "dfae8f7e",
   "metadata": {},
   "outputs": [
    {
     "name": "stdout",
     "output_type": "stream",
     "text": [
      "pYTHON IS A iNTERPRETED lANGUAGE\n"
     ]
    }
   ],
   "source": [
    "str1 = \"Python is a Interpreted Language\"\n",
    "print(str1.swapcase())"
   ]
  },
  {
   "cell_type": "markdown",
   "id": "02493e23",
   "metadata": {},
   "source": [
    "## title():\n",
    "The title() method capitalizes each letter of the word within the string. \n"
   ]
  },
  {
   "cell_type": "code",
   "execution_count": 31,
   "id": "8ede1fd9",
   "metadata": {},
   "outputs": [
    {
     "name": "stdout",
     "output_type": "stream",
     "text": [
      "He'S Name Is Dan. Dan Is An Honest Man.\n"
     ]
    }
   ],
   "source": [
    "str1 = \"He's name is Dan. Dan is an honest man.\"\n",
    "print(str1.title())"
   ]
  },
  {
   "cell_type": "code",
   "execution_count": null,
   "id": "3b29c0e3",
   "metadata": {},
   "outputs": [],
   "source": []
  }
 ],
 "metadata": {
  "kernelspec": {
   "display_name": "Python 3 (ipykernel)",
   "language": "python",
   "name": "python3"
  },
  "language_info": {
   "codemirror_mode": {
    "name": "ipython",
    "version": 3
   },
   "file_extension": ".py",
   "mimetype": "text/x-python",
   "name": "python",
   "nbconvert_exporter": "python",
   "pygments_lexer": "ipython3",
   "version": "3.9.12"
  }
 },
 "nbformat": 4,
 "nbformat_minor": 5
}
