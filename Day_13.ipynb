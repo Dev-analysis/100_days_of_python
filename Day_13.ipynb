{
 "cells": [
  {
   "cell_type": "markdown",
   "id": "681f42be",
   "metadata": {},
   "source": [
    "# String methods\n",
    "\n",
    "Python provides a set of built-in methods that can use to alter and modify the strings. \n",
    "\n",
    "## upper(): \n",
    "The upper() method converts a string to upper case. "
   ]
  },
  {
   "cell_type": "code",
   "execution_count": 1,
   "id": "bd758f5e",
   "metadata": {},
   "outputs": [
    {
     "name": "stdout",
     "output_type": "stream",
     "text": [
      "ABCDEGHHIKL\n"
     ]
    }
   ],
   "source": [
    "str1 = \"AbcDEghHIKl\"\n",
    "print(str1.upper())"
   ]
  },
  {
   "cell_type": "markdown",
   "id": "81bd7b0a",
   "metadata": {},
   "source": [
    "## Lower()\n",
    "The lower() method converts a string to lower case. \n"
   ]
  },
  {
   "cell_type": "code",
   "execution_count": 2,
   "id": "ec9d6a10",
   "metadata": {},
   "outputs": [
    {
     "name": "stdout",
     "output_type": "stream",
     "text": [
      "abcdeghhikl\n"
     ]
    }
   ],
   "source": [
    "str2 = \"AbcDEghHIKl\"\n",
    "print(str2.lower())"
   ]
  },
  {
   "cell_type": "markdown",
   "id": "e17617d7",
   "metadata": {},
   "source": [
    "## Strip():\n",
    "The strip() method removes any white spaces before and after the string. "
   ]
  },
  {
   "cell_type": "code",
   "execution_count": 4,
   "id": "c3bea8b3",
   "metadata": {},
   "outputs": [
    {
     "name": "stdout",
     "output_type": "stream",
     "text": [
      "Silver Spoon\n"
     ]
    }
   ],
   "source": [
    "str2 = \" Silver Spoon \"\n",
    "print(str2.strip())"
   ]
  },
  {
   "cell_type": "markdown",
   "id": "87015e3e",
   "metadata": {},
   "source": [
    "## rstrip()\n",
    "The rstrip() removes any trailing characters. "
   ]
  },
  {
   "cell_type": "code",
   "execution_count": 6,
   "id": "af0bfcc4",
   "metadata": {},
   "outputs": [
    {
     "name": "stdout",
     "output_type": "stream",
     "text": [
      "Hello \n"
     ]
    }
   ],
   "source": [
    "str3 = \"Hello !!!\"\n",
    "print(str3.rstrip(\"!\"))"
   ]
  },
  {
   "cell_type": "markdown",
   "id": "d1eb50c4",
   "metadata": {},
   "source": [
    "## replace(): \n",
    "\n",
    "The replace() method replaces all occurences of a string with another string. "
   ]
  },
  {
   "cell_type": "code",
   "execution_count": 8,
   "id": "5b1e7cfd",
   "metadata": {},
   "outputs": [
    {
     "name": "stdout",
     "output_type": "stream",
     "text": [
      "Silver Moon\n"
     ]
    }
   ],
   "source": [
    "str2 = \"Silver Spoon\"\n",
    "print(str2.replace(\"Sp\", \"M\"))"
   ]
  },
  {
   "cell_type": "markdown",
   "id": "a6c18a7e",
   "metadata": {},
   "source": [
    "## split():\n",
    "The split() method splits the given string at the specified instance and returns the separated strings as list items. "
   ]
  },
  {
   "cell_type": "code",
   "execution_count": 9,
   "id": "d383409b",
   "metadata": {},
   "outputs": [
    {
     "name": "stdout",
     "output_type": "stream",
     "text": [
      "['Silver', 'Spoon']\n"
     ]
    }
   ],
   "source": [
    "str2 = \"Silver Spoon\"\n",
    "print(str2.split(\" \"))      #Splits the string at the whitespace \" \"."
   ]
  },
  {
   "cell_type": "markdown",
   "id": "a7c2622a",
   "metadata": {},
   "source": [
    "## capitalize(): \n",
    "The capitalize() method turns only the first character of the string to uppercase and the rest other characters of the string are turned to lowercase. The string has no effect if the first character is already uppercase. "
   ]
  },
  {
   "cell_type": "code",
   "execution_count": 11,
   "id": "7d8a1713",
   "metadata": {},
   "outputs": [
    {
     "name": "stdout",
     "output_type": "stream",
     "text": [
      "Hello\n",
      "Hello world\n"
     ]
    }
   ],
   "source": [
    "str1 = \"hello\"\n",
    "capStr1 = str1.capitalize()\n",
    "print(capStr1)\n",
    "\n",
    "str2 = \"hello WorlD\"\n",
    "capStr2 = str2.capitalize()\n",
    "print(capStr2)"
   ]
  },
  {
   "cell_type": "code",
   "execution_count": null,
   "id": "c4e4cdc2",
   "metadata": {},
   "outputs": [],
   "source": []
  }
 ],
 "metadata": {
  "kernelspec": {
   "display_name": "Python 3 (ipykernel)",
   "language": "python",
   "name": "python3"
  },
  "language_info": {
   "codemirror_mode": {
    "name": "ipython",
    "version": 3
   },
   "file_extension": ".py",
   "mimetype": "text/x-python",
   "name": "python",
   "nbconvert_exporter": "python",
   "pygments_lexer": "ipython3",
   "version": "3.9.12"
  }
 },
 "nbformat": 4,
 "nbformat_minor": 5
}
