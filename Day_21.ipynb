{
 "cells": [
  {
   "cell_type": "markdown",
   "id": "44a7f232-8924-40b1-9ef1-b88f5c91b14c",
   "metadata": {},
   "source": [
    "# Functions Arguments and return statement\n",
    "\n",
    "There are four types of arguments that we can provide function:\n",
    "1. Default Arguments\n",
    "2. Keyword Arguments\n",
    "3. Variable length Arguments\n",
    "4. Required Arguments\n",
    "\n",
    "### Default arguments:\n",
    "We can provide a default value while creating a function. This way the function assumes a default value even if a value is not provided in the function call for that argument. \n"
   ]
  },
  {
   "cell_type": "code",
   "execution_count": 1,
   "id": "c7f8d131-3e3c-4d37-af1e-9582483c63e2",
   "metadata": {},
   "outputs": [
    {
     "name": "stdout",
     "output_type": "stream",
     "text": [
      "Hello Amy Jhon Whatson\n"
     ]
    }
   ],
   "source": [
    "def name(fname, mname = \"Jhon\", lname = \"Whatson\"):\n",
    "    print(\"Hello\", fname, mname, lname)\n",
    "\n",
    "name(\"Amy\")\n"
   ]
  },
  {
   "cell_type": "markdown",
   "id": "41b15e75-27ee-4cc4-a091-46f29883925a",
   "metadata": {},
   "source": [
    "### Keyword arguments: \n",
    "We can provide arguments with key = value, this way this interpreter recognizes the arguments by the parameter name. **Hence, the order in which the arguments are passed not matter.**"
   ]
  },
  {
   "cell_type": "code",
   "execution_count": 3,
   "id": "f4533722-cbaf-4e47-b96e-b49d96593e36",
   "metadata": {},
   "outputs": [
    {
     "name": "stdout",
     "output_type": "stream",
     "text": [
      "Hello, Jade Peter Wesker\n"
     ]
    }
   ],
   "source": [
    "def name(fname, mname, lname):\n",
    "    print(\"Hello,\", fname, mname, lname)\n",
    "\n",
    "name(mname = \"Peter\", lname = \"Wesker\", fname = \"Jade\")"
   ]
  },
  {
   "cell_type": "markdown",
   "id": "1984a6ae-5e1d-4796-aa2f-616c2e8e914d",
   "metadata": {},
   "source": [
    "### Required arguments: \n",
    "In case we don't pass the arguments with a key = value syntax, then it is necessary to pass the arguments in the correct positional order and the number of arguments passed should match with actual function definition. \n",
    "\n",
    "**Example 1:** when number of arguments passed does not match to the actual function definition. "
   ]
  },
  {
   "cell_type": "code",
   "execution_count": 5,
   "id": "fe89948f-ce87-47f2-9bf9-279eca889092",
   "metadata": {
    "scrolled": true
   },
   "outputs": [
    {
     "ename": "TypeError",
     "evalue": "name() missing 1 required positional argument: 'lname'",
     "output_type": "error",
     "traceback": [
      "\u001b[1;31m---------------------------------------------------------------------------\u001b[0m",
      "\u001b[1;31mTypeError\u001b[0m                                 Traceback (most recent call last)",
      "Cell \u001b[1;32mIn[5], line 4\u001b[0m\n\u001b[0;32m      1\u001b[0m \u001b[38;5;28;01mdef\u001b[39;00m \u001b[38;5;21mname\u001b[39m(fname, mname, lname):\n\u001b[0;32m      2\u001b[0m     \u001b[38;5;28mprint\u001b[39m(\u001b[38;5;124m\"\u001b[39m\u001b[38;5;124mHello,\u001b[39m\u001b[38;5;124m\"\u001b[39m, fname, mname, lname)\n\u001b[1;32m----> 4\u001b[0m \u001b[43mname\u001b[49m\u001b[43m(\u001b[49m\u001b[38;5;124;43m\"\u001b[39;49m\u001b[38;5;124;43mPeter\u001b[39;49m\u001b[38;5;124;43m\"\u001b[39;49m\u001b[43m,\u001b[49m\u001b[43m \u001b[49m\u001b[38;5;124;43m\"\u001b[39;49m\u001b[38;5;124;43mQuill\u001b[39;49m\u001b[38;5;124;43m\"\u001b[39;49m\u001b[43m)\u001b[49m\n",
      "\u001b[1;31mTypeError\u001b[0m: name() missing 1 required positional argument: 'lname'"
     ]
    }
   ],
   "source": [
    "def name(fname, mname, lname):\n",
    "    print(\"Hello,\", fname, mname, lname)\n",
    "\n",
    "name(\"Peter\", \"Quill\")"
   ]
  },
  {
   "cell_type": "markdown",
   "id": "f3915571-b13c-4b3b-b106-d4d78bd8cbfc",
   "metadata": {},
   "source": [
    "**Example 2:** When number of arguments passed matches to the actual function definition. "
   ]
  },
  {
   "cell_type": "code",
   "execution_count": 6,
   "id": "113f3deb-c0c2-41f3-a488-9436a1f7f759",
   "metadata": {},
   "outputs": [
    {
     "name": "stdout",
     "output_type": "stream",
     "text": [
      "Hello Peter Ego Quill\n"
     ]
    }
   ],
   "source": [
    "def name(fname, mname, lname):\n",
    "    print(\"Hello\", fname, mname, lname)\n",
    "\n",
    "name(\"Peter\", \"Ego\", \"Quill\")"
   ]
  },
  {
   "cell_type": "markdown",
   "id": "6cc17fdd-1e76-436a-8624-707f22da8167",
   "metadata": {},
   "source": [
    "### Variable-length arguments: \n",
    "Sometimes we may need to pass more arguments than those defined in the actual function. This can be done using variable-length arguments. \n",
    "\n",
    "There are two ways to achieve this: \n",
    "\n",
    "**Arbitrary Arguments:**\n",
    "While creating a function, pass a * (asterisk) before the parameter name while defining the function. The function accesses the arguments by processing them in the form of tuple. \n"
   ]
  },
  {
   "cell_type": "code",
   "execution_count": 7,
   "id": "e19c2efe-35c4-47e3-b52e-a9211b300f6c",
   "metadata": {},
   "outputs": [
    {
     "name": "stdout",
     "output_type": "stream",
     "text": [
      "Hello, James Buchanan Barnes\n"
     ]
    }
   ],
   "source": [
    "def name(*name):\n",
    "    print(\"Hello,\", name[0], name[1], name[2])\n",
    "\n",
    "name(\"James\", \"Buchanan\", \"Barnes\")"
   ]
  },
  {
   "cell_type": "markdown",
   "id": "5390a0f9-9c36-4704-823b-d03c2c3a4339",
   "metadata": {},
   "source": [
    "**Keyword Arbitrary Arguments:**\n",
    "While creating a function, pass * (asterisk) before the parameter name while defining the function. The function accesses the arguments by processing them in the form of a dictionary. "
   ]
  },
  {
   "cell_type": "code",
   "execution_count": 8,
   "id": "a0b692ff-b531-4ed3-857f-bc9711d7906f",
   "metadata": {},
   "outputs": [
    {
     "name": "stdout",
     "output_type": "stream",
     "text": [
      "Hello, James Buchanan Barnes\n"
     ]
    }
   ],
   "source": [
    "def name(**name):\n",
    "    print(\"Hello,\", name[\"fname\"], name[\"mname\"], name[\"lname\"])\n",
    "\n",
    "name(mname = \"Buchanan\", lname = \"Barnes\", fname = \"James\")"
   ]
  },
  {
   "cell_type": "markdown",
   "id": "48a418ae-94bf-4066-9482-b9a9f031321f",
   "metadata": {},
   "source": [
    "### return Statment\n",
    "\n",
    "The return statement is used to return the value of the expression back to the calling function."
   ]
  },
  {
   "cell_type": "code",
   "execution_count": 9,
   "id": "ed7e792f-5f6d-4bcf-88ae-fe6e47acd51b",
   "metadata": {},
   "outputs": [
    {
     "name": "stdout",
     "output_type": "stream",
     "text": [
      "Hello, James Buchanan Barnes\n"
     ]
    }
   ],
   "source": [
    "def name(fname, mname, lname):\n",
    "    return \"Hello, \" + fname + \" \" + mname + \" \" + lname\n",
    "\n",
    "print(name(\"James\", \"Buchanan\", \"Barnes\"))"
   ]
  },
  {
   "cell_type": "code",
   "execution_count": null,
   "id": "d837d2f8-71b0-4084-9698-ea82950696c1",
   "metadata": {},
   "outputs": [],
   "source": []
  }
 ],
 "metadata": {
  "kernelspec": {
   "display_name": "Python 3 (ipykernel)",
   "language": "python",
   "name": "python3"
  },
  "language_info": {
   "codemirror_mode": {
    "name": "ipython",
    "version": 3
   },
   "file_extension": ".py",
   "mimetype": "text/x-python",
   "name": "python",
   "nbconvert_exporter": "python",
   "pygments_lexer": "ipython3",
   "version": "3.9.19"
  }
 },
 "nbformat": 4,
 "nbformat_minor": 5
}
