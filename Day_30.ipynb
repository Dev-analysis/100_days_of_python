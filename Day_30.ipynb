{
 "cells": [
  {
   "cell_type": "markdown",
   "id": "933289cf-2191-4f2e-a370-90f94e8a3a63",
   "metadata": {},
   "source": [
    "# Recursion in python\n",
    "\n",
    "Recursion is the process of defining something in terms of itself. \n",
    "\n",
    "## Python Recursive Function\n",
    "In Python, we know that a function can call other functions. It is even possible for the function to call itself. These types of construct are termed as recursive functions. \n",
    "\n"
   ]
  },
  {
   "cell_type": "code",
   "execution_count": 1,
   "id": "c9824c3c-eac6-47e1-8f9e-d7f75ee5051f",
   "metadata": {},
   "outputs": [
    {
     "name": "stdout",
     "output_type": "stream",
     "text": [
      "Number:  7\n",
      "Factorial:  5040\n"
     ]
    }
   ],
   "source": [
    "def factorial(num):\n",
    "    if (num == 1 or num == 0):\n",
    "        return 1\n",
    "    else:\n",
    "        return (num * factorial(num -1))\n",
    "\n",
    "# Driver Code\n",
    "num = 7 \n",
    "print(\"Number: \", num)\n",
    "print(\"Factorial: \", factorial(num))"
   ]
  },
  {
   "cell_type": "code",
   "execution_count": null,
   "id": "e7a40106-e7a8-454a-bc9b-cebea1ac3dae",
   "metadata": {},
   "outputs": [],
   "source": []
  }
 ],
 "metadata": {
  "kernelspec": {
   "display_name": "Python 3 (ipykernel)",
   "language": "python",
   "name": "python3"
  },
  "language_info": {
   "codemirror_mode": {
    "name": "ipython",
    "version": 3
   },
   "file_extension": ".py",
   "mimetype": "text/x-python",
   "name": "python",
   "nbconvert_exporter": "python",
   "pygments_lexer": "ipython3",
   "version": "3.9.19"
  }
 },
 "nbformat": 4,
 "nbformat_minor": 5
}
