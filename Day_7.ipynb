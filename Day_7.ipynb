{
 "cells": [
  {
   "cell_type": "markdown",
   "id": "7a8119f3",
   "metadata": {},
   "source": [
    "# Excercise 1: Create a calculator"
   ]
  },
  {
   "cell_type": "markdown",
   "id": "5c559e33",
   "metadata": {},
   "source": [
    "## operators"
   ]
  },
  {
   "cell_type": "markdown",
   "id": "c34e024c",
   "metadata": {},
   "source": [
    "python has different types of operators for different operations."
   ]
  },
  {
   "cell_type": "markdown",
   "id": "27f9eb25",
   "metadata": {},
   "source": [
    "**Arithmetic operators**\n",
    "\n",
    "Addition    +\n",
    "\n",
    "Subtraction  - \n",
    "\n",
    "Multiplication * \n",
    "\n",
    "Exponential **\n",
    "\n",
    "Division      / \n",
    "\n",
    "Modulus   %         \n",
    "\n",
    "Floor Division   //"
   ]
  },
  {
   "cell_type": "code",
   "execution_count": 1,
   "id": "8c544aa9",
   "metadata": {},
   "outputs": [
    {
     "name": "stdout",
     "output_type": "stream",
     "text": [
      "11\n"
     ]
    }
   ],
   "source": [
    "print(5 +6)"
   ]
  },
  {
   "cell_type": "code",
   "execution_count": 2,
   "id": "f9506fb1",
   "metadata": {},
   "outputs": [
    {
     "name": "stdout",
     "output_type": "stream",
     "text": [
      "11\n"
     ]
    }
   ],
   "source": [
    "print(15-4)"
   ]
  },
  {
   "cell_type": "code",
   "execution_count": 3,
   "id": "f3232bf7",
   "metadata": {},
   "outputs": [
    {
     "name": "stdout",
     "output_type": "stream",
     "text": [
      "135\n"
     ]
    }
   ],
   "source": [
    "print(15*9)"
   ]
  },
  {
   "cell_type": "code",
   "execution_count": 4,
   "id": "ae32f0c4",
   "metadata": {},
   "outputs": [
    {
     "name": "stdout",
     "output_type": "stream",
     "text": [
      "3.0\n"
     ]
    }
   ],
   "source": [
    "print(15/5)"
   ]
  },
  {
   "cell_type": "code",
   "execution_count": 8,
   "id": "6941689d",
   "metadata": {},
   "outputs": [
    {
     "name": "stdout",
     "output_type": "stream",
     "text": [
      "1\n"
     ]
    }
   ],
   "source": [
    "print(17%4)"
   ]
  },
  {
   "cell_type": "code",
   "execution_count": 9,
   "id": "76e14941",
   "metadata": {},
   "outputs": [
    {
     "name": "stdout",
     "output_type": "stream",
     "text": [
      "4\n"
     ]
    }
   ],
   "source": [
    "print(17//4)"
   ]
  },
  {
   "cell_type": "code",
   "execution_count": 10,
   "id": "77e4e369",
   "metadata": {},
   "outputs": [
    {
     "name": "stdout",
     "output_type": "stream",
     "text": [
      "16\n"
     ]
    }
   ],
   "source": [
    "print(2**4)"
   ]
  },
  {
   "cell_type": "code",
   "execution_count": null,
   "id": "397958cd",
   "metadata": {},
   "outputs": [],
   "source": []
  }
 ],
 "metadata": {
  "kernelspec": {
   "display_name": "Python 3 (ipykernel)",
   "language": "python",
   "name": "python3"
  },
  "language_info": {
   "codemirror_mode": {
    "name": "ipython",
    "version": 3
   },
   "file_extension": ".py",
   "mimetype": "text/x-python",
   "name": "python",
   "nbconvert_exporter": "python",
   "pygments_lexer": "ipython3",
   "version": "3.9.12"
  }
 },
 "nbformat": 4,
 "nbformat_minor": 5
}
