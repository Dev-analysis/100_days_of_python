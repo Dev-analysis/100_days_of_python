{
 "cells": [
  {
   "cell_type": "markdown",
   "id": "3dde4eba-d6cd-4608-822b-87779a2752c6",
   "metadata": {},
   "source": [
    "# Python Dictionaries\n",
    "Dictionaries are ordered collection of data items. They store multiple items in a single variable. Dictionary items are key-value pairs that are separated by commas and enclosed within curly brackets{}. "
   ]
  },
  {
   "cell_type": "code",
   "execution_count": 1,
   "id": "88d78f4f-18ed-4261-999e-004a2f051c8e",
   "metadata": {},
   "outputs": [
    {
     "name": "stdout",
     "output_type": "stream",
     "text": [
      "{'name': 'Karan', 'age': 19, 'eligible': True}\n"
     ]
    }
   ],
   "source": [
    "info = {'name':'Karan', 'age':19, 'eligible':True}\n",
    "print(info)"
   ]
  },
  {
   "cell_type": "markdown",
   "id": "58607f35-0e5c-4806-b8a0-d02d3f102e39",
   "metadata": {},
   "source": [
    "## Accessing Dictionary items:\n",
    "\n",
    "### I. Accessing single values:\n",
    "Values in a dictionary can be accessed using keys. We can access dictionary values by mentioning keys either in square brackets or by using get method. "
   ]
  },
  {
   "cell_type": "code",
   "execution_count": 2,
   "id": "f2239ac3-0f99-48aa-90fd-2251a787486e",
   "metadata": {},
   "outputs": [
    {
     "name": "stdout",
     "output_type": "stream",
     "text": [
      "Karan\n",
      "True\n"
     ]
    }
   ],
   "source": [
    "info = {'name':'Karan', 'age':19, 'eligible':True}\n",
    "print(info['name'])\n",
    "print(info.get('eligible'))"
   ]
  },
  {
   "cell_type": "markdown",
   "id": "fb502bc9-fca5-4ede-a825-880be08fa617",
   "metadata": {},
   "source": [
    "### II. Accessing multiple values:\n",
    "We can print all the values in the dictionary usng values() method. "
   ]
  },
  {
   "cell_type": "code",
   "execution_count": 3,
   "id": "4f5889b0-6c49-4a9f-93da-7a230d67f2d6",
   "metadata": {},
   "outputs": [
    {
     "name": "stdout",
     "output_type": "stream",
     "text": [
      "dict_values(['Karan', 19, True])\n"
     ]
    }
   ],
   "source": [
    "info = {'name':'Karan', 'age':19, 'eligible':True}\n",
    "print(info.values())"
   ]
  },
  {
   "cell_type": "markdown",
   "id": "f63500e5-e587-44f6-8c7b-134ae8c8cfe9",
   "metadata": {},
   "source": [
    "### III. Accessing keys:\n",
    "We can print all the keys in the dictionary using keys() method."
   ]
  },
  {
   "cell_type": "code",
   "execution_count": 4,
   "id": "bff349b2-ab22-4c61-9d33-1ae1f6e0d33d",
   "metadata": {},
   "outputs": [
    {
     "name": "stdout",
     "output_type": "stream",
     "text": [
      "dict_keys(['name', 'age', 'eligible'])\n"
     ]
    }
   ],
   "source": [
    "info = {'name':'Karan', 'age':19, 'eligible':True}\n",
    "print(info.keys())"
   ]
  },
  {
   "cell_type": "markdown",
   "id": "d0af2f8a-629b-4b28-8a62-1bf9be9ae3fb",
   "metadata": {},
   "source": [
    "### Accessing key-value paris:\n",
    "We can print all the key-value pairs in the dictionary using items() method."
   ]
  },
  {
   "cell_type": "code",
   "execution_count": 6,
   "id": "1c849d24-97ee-4ab5-a47d-00cd7abc4132",
   "metadata": {},
   "outputs": [
    {
     "name": "stdout",
     "output_type": "stream",
     "text": [
      "dict_items([('name', 'Karan'), ('age', 19), ('eligible', True)])\n"
     ]
    }
   ],
   "source": [
    "info = {'name':'Karan', 'age':19, 'eligible':True}\n",
    "print(info.items())"
   ]
  },
  {
   "cell_type": "code",
   "execution_count": null,
   "id": "43dab33f-f123-4707-855f-6fb7e68ad00c",
   "metadata": {},
   "outputs": [],
   "source": []
  }
 ],
 "metadata": {
  "kernelspec": {
   "display_name": "Python 3 (ipykernel)",
   "language": "python",
   "name": "python3"
  },
  "language_info": {
   "codemirror_mode": {
    "name": "ipython",
    "version": 3
   },
   "file_extension": ".py",
   "mimetype": "text/x-python",
   "name": "python",
   "nbconvert_exporter": "python",
   "pygments_lexer": "ipython3",
   "version": "3.9.19"
  }
 },
 "nbformat": 4,
 "nbformat_minor": 5
}
