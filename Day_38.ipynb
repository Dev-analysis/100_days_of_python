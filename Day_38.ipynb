{
 "cells": [
  {
   "cell_type": "markdown",
   "id": "1d4f3f32-e2bf-427c-badc-d06e0fd7d369",
   "metadata": {},
   "source": [
    "# Raising Custom errors\n",
    "\n",
    "In python, we can raise custom errors by using the raise keyword. "
   ]
  },
  {
   "cell_type": "code",
   "execution_count": 2,
   "id": "e486970e-3eea-4799-8b86-cfb3c165cd00",
   "metadata": {},
   "outputs": [
    {
     "name": "stdin",
     "output_type": "stream",
     "text": [
      "Enter salary amount:  4000\n"
     ]
    }
   ],
   "source": [
    "salary = int(input(\"Enter salary amount: \"))\n",
    "if not 2000 < salary < 5000:\n",
    "    raise ValueError(\"Not a valid salary\")"
   ]
  },
  {
   "cell_type": "markdown",
   "id": "708a7bc1-1dc8-44b4-86b6-d1387856bcad",
   "metadata": {},
   "source": [
    "Sometimes we may need to create our own custom exceptions that serve our purpose. "
   ]
  },
  {
   "cell_type": "markdown",
   "id": "7cdfed22-71c4-4a47-8e4a-572154ef6bae",
   "metadata": {},
   "source": [
    "## Defining custom Exceptions\n",
    "In Python, we can define custom exceptions by creating a new class that is derived from the built-in Exception class. \n",
    "\n",
    "Here's the syntax to define custom exceptions:"
   ]
  },
  {
   "cell_type": "code",
   "execution_count": null,
   "id": "a3e15934-bd26-476a-bd78-a2ceb3eb32fa",
   "metadata": {},
   "outputs": [],
   "source": [
    "class CustomError(Exception):\n",
    "    #code....\n",
    "    pass\n",
    "\n",
    "try:\n",
    "    #code....\n",
    "\n",
    "except CustomError:\n",
    "    #code...\n",
    "    "
   ]
  },
  {
   "cell_type": "markdown",
   "id": "9161bebf-4699-471c-9415-5c56b2383bd8",
   "metadata": {},
   "source": [
    "This is useful because sometimes we might want to do something when a particular exception is raised. For example, sending an error report to the admin, calling an api, etc. "
   ]
  },
  {
   "cell_type": "code",
   "execution_count": null,
   "id": "291b4066-0d2e-48b8-ae87-5ece55d2c8bb",
   "metadata": {},
   "outputs": [],
   "source": []
  }
 ],
 "metadata": {
  "kernelspec": {
   "display_name": "Python 3 (ipykernel)",
   "language": "python",
   "name": "python3"
  },
  "language_info": {
   "codemirror_mode": {
    "name": "ipython",
    "version": 3
   },
   "file_extension": ".py",
   "mimetype": "text/x-python",
   "name": "python",
   "nbconvert_exporter": "python",
   "pygments_lexer": "ipython3",
   "version": "3.9.19"
  }
 },
 "nbformat": 4,
 "nbformat_minor": 5
}
