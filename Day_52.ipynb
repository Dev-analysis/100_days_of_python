{
 "cells": [
  {
   "cell_type": "markdown",
   "id": "c43f00b5-9653-4c3a-bca0-0c71abdce441",
   "metadata": {},
   "source": [
    "## Lambda Functions in Python\n",
    "In Python, a lambda function is a small anonymous function without a name. It is defined using the lambda keyword and has the following syntax:"
   ]
  },
  {
   "cell_type": "code",
   "execution_count": null,
   "id": "bb04e936-b49e-452c-9eaf-b8477df5b2f3",
   "metadata": {},
   "outputs": [],
   "source": [
    "lambda arguments: expression"
   ]
  },
  {
   "cell_type": "markdown",
   "id": "a14680e7-0c04-48ea-83b2-bb195da479ec",
   "metadata": {},
   "source": [
    "Lambda functions are often used in situations where a small function is required for a short period of time. They are commonly used as arguments to higher-order functions, such as map, filter, and reduce.\n",
    "\n",
    "Here is an example of how to use a lambda function:"
   ]
  },
  {
   "cell_type": "code",
   "execution_count": null,
   "id": "dcc03d1e-2688-4476-9fd5-fda5f1e1aa13",
   "metadata": {},
   "outputs": [],
   "source": [
    "# Function to double the input\n",
    "def double(x):\n",
    "  return x * 2\n",
    "\n",
    "# Lambda function to double the input\n",
    "lambda x: x * 2"
   ]
  },
  {
   "cell_type": "markdown",
   "id": "506c1df8-fb20-49a4-b1f3-d89fc9d52d79",
   "metadata": {},
   "source": [
    "The above lambda function has the same functionality as the double function defined earlier. However, the lambda function is anonymous, as it does not have a name.\n",
    "\n",
    "Lambda functions can have multiple arguments, just like regular functions. Here is an example of a lambda function with multiple arguments:"
   ]
  },
  {
   "cell_type": "markdown",
   "id": "e88a71e6-330c-471b-af45-980bc59fb847",
   "metadata": {},
   "source": [
    "Lambda functions can also include multiple statements, but they are limited to a single expression. For example:"
   ]
  },
  {
   "cell_type": "code",
   "execution_count": null,
   "id": "b46e2141-7830-4a38-afbc-b4e1a2f9414b",
   "metadata": {},
   "outputs": [],
   "source": [
    "# Lambda function to calculate the product of two numbers,\n",
    "# with additional print statement\n",
    "lambda x, y: print(f'{x} * {y} = {x * y}')"
   ]
  },
  {
   "cell_type": "markdown",
   "id": "7c2b8860-5a5a-45e1-9f5f-7ce4fb8a798e",
   "metadata": {},
   "source": [
    "In the above example, the lambda function includes a print statement, but it is still limited to a single expression.\n",
    "\n",
    "Lambda functions are often used in conjunction with higher-order functions, such as map, filter, and reduce which we will look into later."
   ]
  },
  {
   "cell_type": "code",
   "execution_count": null,
   "id": "2eb57804-d2b3-4ebe-8863-8d6d17d008fa",
   "metadata": {},
   "outputs": [],
   "source": []
  }
 ],
 "metadata": {
  "kernelspec": {
   "display_name": "Python 3 (ipykernel)",
   "language": "python",
   "name": "python3"
  },
  "language_info": {
   "codemirror_mode": {
    "name": "ipython",
    "version": 3
   },
   "file_extension": ".py",
   "mimetype": "text/x-python",
   "name": "python",
   "nbconvert_exporter": "python",
   "pygments_lexer": "ipython3",
   "version": "3.9.19"
  }
 },
 "nbformat": 4,
 "nbformat_minor": 5
}
