{
 "cells": [
  {
   "cell_type": "markdown",
   "id": "e93c1118-11b6-4a3e-abf9-05ee5cf46a95",
   "metadata": {},
   "source": [
    "## Introduction to Object-oriented programming\n",
    "\n",
    "In programming languages, mainly there are two approaches that are used to write program or code. \n",
    "1. **Procedural Programming**\n",
    "2. **Object-Oriented Programming**\n",
    "\n",
    "The Procedure we are following till now is the \"Procedural Programming\" approach. So, in this session, we will learn about Object Oriented Programming (OOP). The basic idea of object-oriented programming (OOP) in Python is to use classes and object to represent real-world concept and entities. \n",
    "\n",
    "A class is blueprint or template for creating objects. It defines the properties and method that an object of that class will have. Properties are the data or state of an object, and method are the actions or behaviours that an object can perform. \n",
    "\n",
    "An object is an instance of a class, and it contains its own data and methods. For example, you could create a class called \"Person\" that has properties such as name and age, and methods such as speak() and walk(). Each instance of the Person class would be a unique object with its own name and age, but they would all have the same methods to speak and walk. \n",
    "\n",
    "One of the key features of OOP in Python is encapsulation, which means that the internal state of an object is hidden and can only be accessed or modified through the object's methods. This helps to protect the object's data and prevent it from being modified in unexpected ways. \n",
    "\n",
    "Another key feature of OOP in Python is inheritance, which allows new classes to be created that inherit the properties and methods of an existing class. This allows for code reuse and makes it easy to create new classes that have similar functionality to existing classes.\r\n",
    "\r\n",
    "Polymorphism is also supported in Python, which means that objects of different classes can be treated as if they were objects of a common class. This allows for greater flexibility in code and makes it easier to write code that can work with multiple types of objects.\r\n",
    "\r\n",
    "In summary, OOP in Python allows developers to model real-world concepts and entities using classes and objects, encapsulate data, reuse code through inheritance, and write more flexible code through polymorphism."
   ]
  },
  {
   "cell_type": "code",
   "execution_count": null,
   "id": "418a6800-4d0b-47e4-9517-7ebd63389449",
   "metadata": {},
   "outputs": [],
   "source": []
  }
 ],
 "metadata": {
  "kernelspec": {
   "display_name": "Python 3 (ipykernel)",
   "language": "python",
   "name": "python3"
  },
  "language_info": {
   "codemirror_mode": {
    "name": "ipython",
    "version": 3
   },
   "file_extension": ".py",
   "mimetype": "text/x-python",
   "name": "python",
   "nbconvert_exporter": "python",
   "pygments_lexer": "ipython3",
   "version": "3.9.19"
  }
 },
 "nbformat": 4,
 "nbformat_minor": 5
}
