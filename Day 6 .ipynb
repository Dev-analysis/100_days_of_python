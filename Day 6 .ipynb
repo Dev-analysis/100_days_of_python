{
 "cells": [
  {
   "cell_type": "markdown",
   "id": "dd05abde",
   "metadata": {},
   "source": [
    "## Variables and data type"
   ]
  },
  {
   "cell_type": "code",
   "execution_count": 2,
   "id": "39ad83a4",
   "metadata": {},
   "outputs": [
    {
     "name": "stdout",
     "output_type": "stream",
     "text": [
      "(8+2j)\n",
      "True\n",
      "(17+2j)\n",
      "The type of a is  <class 'complex'>\n",
      "The type of b is  <class 'bool'>\n",
      "The type of c is  <class 'str'>\n"
     ]
    }
   ],
   "source": [
    "a = complex(8,2)\n",
    "b = True\n",
    "c = \"sentance\"\n",
    "d = None\n",
    "print(a)\n",
    "print(b)\n",
    "a1 = 9\n",
    "print(a + a1)\n",
    "print(\"The type of a is \", type(a))\n",
    "print(\"The type of b is \", type(b))\n",
    "print(\"The type of c is \", type(c))\n"
   ]
  },
  {
   "cell_type": "code",
   "execution_count": 3,
   "id": "a0ff3757",
   "metadata": {},
   "outputs": [
    {
     "name": "stdout",
     "output_type": "stream",
     "text": [
      "[8, 2.3, [-4, 5], ['apple', 'banna']]\n"
     ]
    }
   ],
   "source": [
    "list1 = [8, 2.3, [-4, 5], [\"apple\", \"banna\"]]\n",
    "print(list1)"
   ]
  },
  {
   "cell_type": "code",
   "execution_count": 4,
   "id": "dbd2c263",
   "metadata": {},
   "outputs": [
    {
     "name": "stdout",
     "output_type": "stream",
     "text": [
      "(('parrot', 'sparrow'), ('Lion', 'Tiger'))\n"
     ]
    }
   ],
   "source": [
    "tuple1 = ((\"parrot\", \"sparrow\"), (\"Lion\", \"Tiger\"))\n",
    "print(tuple1)"
   ]
  },
  {
   "cell_type": "code",
   "execution_count": 5,
   "id": "961ecc73",
   "metadata": {},
   "outputs": [
    {
     "name": "stdout",
     "output_type": "stream",
     "text": [
      "{'name': 'Sakshi', 'age': 20, 'canVote': True}\n"
     ]
    }
   ],
   "source": [
    "dict1 = {\"name\":\"Sakshi\", \"age\":20, \"canVote\":True}\n",
    "print(dict1)"
   ]
  },
  {
   "cell_type": "code",
   "execution_count": null,
   "id": "66de20d4",
   "metadata": {},
   "outputs": [],
   "source": []
  }
 ],
 "metadata": {
  "kernelspec": {
   "display_name": "Python 3 (ipykernel)",
   "language": "python",
   "name": "python3"
  },
  "language_info": {
   "codemirror_mode": {
    "name": "ipython",
    "version": 3
   },
   "file_extension": ".py",
   "mimetype": "text/x-python",
   "name": "python",
   "nbconvert_exporter": "python",
   "pygments_lexer": "ipython3",
   "version": "3.9.12"
  }
 },
 "nbformat": 4,
 "nbformat_minor": 5
}
