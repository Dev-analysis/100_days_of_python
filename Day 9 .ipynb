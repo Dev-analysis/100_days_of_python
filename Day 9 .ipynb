{
 "cells": [
  {
   "cell_type": "markdown",
   "id": "35cc35a7",
   "metadata": {},
   "source": [
    "# Type Casting"
   ]
  },
  {
   "cell_type": "markdown",
   "id": "d6a43fd4",
   "metadata": {},
   "source": [
    "The conversion of one data into the other data type is known as type casting in python or type conversion in python. \n",
    "\n",
    "Python supports a wide variety of funtions or methods like: \n",
    "\n",
    "int(), float(), str(), ord(), hex(), oct(), tuple(), list(), dict(), etc. \n",
    "for the type casting in python. "
   ]
  },
  {
   "cell_type": "markdown",
   "id": "f34776ca",
   "metadata": {},
   "source": [
    "## Two types of Typecasting: \n",
    "1. Explicit Conversion (Explicit type casting in python) \n",
    "2. Implicit Conversion (Implicit type casting in python)\n",
    "\n",
    "\n",
    "### Explicit typecasting: \n",
    "\n",
    "The conversion of one data type into another data type, done via developer or programmer's intervention or manually as per the requirement, is known as explicit type conversion. \n",
    "\n",
    "It can be achieved with the help of Python's built-in type conversion functions such as int(), float(), hex(), oct(), str(), etc. \n"
   ]
  },
  {
   "cell_type": "code",
   "execution_count": 1,
   "id": "ca180a68",
   "metadata": {},
   "outputs": [
    {
     "name": "stdout",
     "output_type": "stream",
     "text": [
      "The sum of both number is:  21\n"
     ]
    }
   ],
   "source": [
    "string = \"14\"\n",
    "number = 7\n",
    "\n",
    "string_number = int(string)\n",
    "#throws an error if the string is not a valid integer\n",
    "\n",
    "sum = number + string_number\n",
    "print(\"The sum of both number is: \", sum)"
   ]
  },
  {
   "cell_type": "markdown",
   "id": "382f31c5",
   "metadata": {},
   "source": [
    "### Implicit type casting: \n",
    "\n",
    "Data types in Python do not have the same level i.e. odering of data types is not the same in Python. Some of the data types have higher-order, and some have lower order. While performing any operations on variables with different data types in Python, one of the variable's data types will be changed to the higher data type. According to the level, one data type is converted into other by the Python interpreter itself (automatically). This is called, implicit typecasting in python. \n",
    "    \n",
    "Python converts a smaller data type to a higher data type to prevent data loss. \n",
    "    \n",
    "    "
   ]
  },
  {
   "cell_type": "code",
   "execution_count": 2,
   "id": "0542389f",
   "metadata": {},
   "outputs": [
    {
     "name": "stdout",
     "output_type": "stream",
     "text": [
      "<class 'int'>\n"
     ]
    }
   ],
   "source": [
    "# Python automatically convert a to int \n",
    "\n",
    "a = 7\n",
    "print(type(a))"
   ]
  },
  {
   "cell_type": "code",
   "execution_count": 3,
   "id": "25b52b02",
   "metadata": {},
   "outputs": [
    {
     "name": "stdout",
     "output_type": "stream",
     "text": [
      "<class 'float'>\n"
     ]
    }
   ],
   "source": [
    "# Python automatically converts b to float\n",
    "b = 3.0\n",
    "print(type(b))"
   ]
  },
  {
   "cell_type": "code",
   "execution_count": 6,
   "id": "dcc623cb",
   "metadata": {},
   "outputs": [
    {
     "name": "stdout",
     "output_type": "stream",
     "text": [
      "10.0\n",
      "<class 'float'>\n"
     ]
    }
   ],
   "source": [
    "# Python automatically converts c to float as it is a float addition\n",
    "c = a + b \n",
    "print(c)\n",
    "print(type(c))"
   ]
  },
  {
   "cell_type": "code",
   "execution_count": null,
   "id": "8b3e4d03",
   "metadata": {},
   "outputs": [],
   "source": []
  }
 ],
 "metadata": {
  "kernelspec": {
   "display_name": "Python 3 (ipykernel)",
   "language": "python",
   "name": "python3"
  },
  "language_info": {
   "codemirror_mode": {
    "name": "ipython",
    "version": 3
   },
   "file_extension": ".py",
   "mimetype": "text/x-python",
   "name": "python",
   "nbconvert_exporter": "python",
   "pygments_lexer": "ipython3",
   "version": "3.9.12"
  }
 },
 "nbformat": 4,
 "nbformat_minor": 5
}
