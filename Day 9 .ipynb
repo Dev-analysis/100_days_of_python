{
 "cells": [
  {
   "cell_type": "markdown",
   "id": "35cc35a7",
   "metadata": {},
   "source": [
    "# Type Casting"
   ]
  },
  {
   "cell_type": "markdown",
   "id": "d6a43fd4",
   "metadata": {},
   "source": [
    "The conversion of one data into the other data type is known as type casting in python or type conversion in python. \n",
    "\n",
    "Python supports a wide variety of funtions or methods like: \n",
    "\n",
    "int(), float(), str(), ord(), hex(), oct(), tuple(), list(), dict(), etc. \n",
    "for the type casting in python. "
   ]
  },
  {
   "cell_type": "markdown",
   "id": "f34776ca",
   "metadata": {},
   "source": [
    "## Two types of Typecasting: \n",
    "1. Explicit Conversion (Explicit type casting in python) \n",
    "2. Implicit Conversion (Implicit type casting in python)\n",
    "\n",
    "\n",
    "### Explicit typecasting: \n",
    "\n"
   ]
  }
 ],
 "metadata": {
  "kernelspec": {
   "display_name": "Python 3 (ipykernel)",
   "language": "python",
   "name": "python3"
  },
  "language_info": {
   "codemirror_mode": {
    "name": "ipython",
    "version": 3
   },
   "file_extension": ".py",
   "mimetype": "text/x-python",
   "name": "python",
   "nbconvert_exporter": "python",
   "pygments_lexer": "ipython3",
   "version": "3.9.12"
  }
 },
 "nbformat": 4,
 "nbformat_minor": 5
}
