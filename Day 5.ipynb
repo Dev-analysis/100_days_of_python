{
 "cells": [
  {
   "cell_type": "markdown",
   "id": "538dd760",
   "metadata": {},
   "source": [
    "## Comments, Escape sequence & Print in python \n",
    "\n",
    "**Comment:** comment is part of the coding file that the programmer does not want to execute, rather the programmer uses it to either explain a block of code or to avoid the execution of a specific part of code while testing. \n",
    "\n",
    "### Single line comment\n",
    "To write a single line comment, just add a \"#\" at the start of the line. "
   ]
  },
  {
   "cell_type": "code",
   "execution_count": 2,
   "id": "1f6106a3",
   "metadata": {},
   "outputs": [
    {
     "name": "stdout",
     "output_type": "stream",
     "text": [
      "It is a print statement\n"
     ]
    }
   ],
   "source": [
    "# This is a 'single line comment'\n",
    "print(\"It is a print statement\")"
   ]
  },
  {
   "cell_type": "code",
   "execution_count": 3,
   "id": "e2da46c6",
   "metadata": {},
   "outputs": [
    {
     "name": "stdout",
     "output_type": "stream",
     "text": [
      "Don't park here\n"
     ]
    }
   ],
   "source": [
    "print(\"Don't park here\") #printing \"Don't park here\""
   ]
  },
  {
   "cell_type": "code",
   "execution_count": 6,
   "id": "e413e8a6",
   "metadata": {},
   "outputs": [
    {
     "name": "stdout",
     "output_type": "stream",
     "text": [
      "Parking Zone\n"
     ]
    }
   ],
   "source": [
    "print(\"Parking Zone\")\n",
    "# printing \"Parking Zone\""
   ]
  },
  {
   "cell_type": "markdown",
   "id": "623249e6",
   "metadata": {},
   "source": [
    "### Multi-Line Comments:\n",
    "\n",
    "To write multi-line comments, we can use \"#\" in each line or multiline string (\"\"\"    \"\"\") "
   ]
  },
  {
   "cell_type": "code",
   "execution_count": 8,
   "id": "12573401",
   "metadata": {},
   "outputs": [
    {
     "name": "stdout",
     "output_type": "stream",
     "text": [
      "p is greater than 5.\n"
     ]
    }
   ],
   "source": [
    "# It will execut a block of code if a specified condition is true\n",
    "# If the condition is false then it will execute another block of code\n",
    "\n",
    "p = 7 \n",
    "if (p > 5):\n",
    "    print(\"p is greater than 5.\")\n",
    "else:\n",
    "    print(\"p is not greater than 5.\")"
   ]
  },
  {
   "cell_type": "code",
   "execution_count": 13,
   "id": "5ee22e41",
   "metadata": {},
   "outputs": [
    {
     "name": "stdout",
     "output_type": "stream",
     "text": [
      "p is greater than 5.\n"
     ]
    }
   ],
   "source": [
    "\"\"\"This is an if-else statement. \n",
    "It will execute a block of code\n",
    "if a specified condition is true if the condition is false \n",
    "then it will execuute another block of code\"\"\"\n",
    "\n",
    "p = 7\n",
    "if (p > 5):\n",
    "    print(\"p is greater than 5.\")\n",
    "else:\n",
    "    print(\"p is not greater than 5.\")"
   ]
  },
  {
   "cell_type": "markdown",
   "id": "07ea6f59",
   "metadata": {},
   "source": [
    "## Escape Sequence Characters\n",
    "\n",
    "To insert characters that cannot be directly used in a string, we use an escape sequence character. \n",
    "\n",
    "An escape sequence character is s blackslash \" \\ \" followed by the character that we want to insert. "
   ]
  },
  {
   "cell_type": "code",
   "execution_count": 16,
   "id": "bd9436c2",
   "metadata": {},
   "outputs": [
    {
     "ename": "SyntaxError",
     "evalue": "invalid syntax (925864343.py, line 1)",
     "output_type": "error",
     "traceback": [
      "\u001b[1;36m  Input \u001b[1;32mIn [16]\u001b[1;36m\u001b[0m\n\u001b[1;33m    print(\"This doesnt \"execute\")\u001b[0m\n\u001b[1;37m                        ^\u001b[0m\n\u001b[1;31mSyntaxError\u001b[0m\u001b[1;31m:\u001b[0m invalid syntax\n"
     ]
    }
   ],
   "source": [
    "print(\"This doesnt \"execute\")\n",
    "\n",
    "\"\"\"Here it will raise an error cause a character that cannot be directly\n",
    "used in a string is a double quote inside a string that is surrounded by\n",
    "double quotes\"\"\""
   ]
  },
  {
   "cell_type": "code",
   "execution_count": 15,
   "id": "f49a58ba",
   "metadata": {},
   "outputs": [
    {
     "name": "stdout",
     "output_type": "stream",
     "text": [
      "This will \" execute\n"
     ]
    }
   ],
   "source": [
    "print(\"This will \\\" execute\")"
   ]
  },
  {
   "cell_type": "markdown",
   "id": "3b98cf0a",
   "metadata": {},
   "source": [
    "## More on Print statement\n",
    "\n",
    "Syntax of a print statement: \n",
    "\n",
    "pirnt(object(s), sep = separator, end = end, file = file, flush = flush)\n",
    "\n",
    "1. object(s) = Any object, and as many as we need. Will be converted to string before printed\n",
    "\n",
    "2. sep = 'separator: Specify how to separate the object, if there is more than one. Default is  ' ' \n",
    "\n",
    "3. end = 'end': Specify what to print at the end. Default is '\\n' (line feed). \n",
    "\n",
    "4. file: An object with a write method. default is sys.stdout.\n",
    "\n",
    "**parameter 2 and 4 are optional**"
   ]
  },
  {
   "cell_type": "code",
   "execution_count": null,
   "id": "2f2f7617",
   "metadata": {},
   "outputs": [],
   "source": []
  }
 ],
 "metadata": {
  "kernelspec": {
   "display_name": "Python 3 (ipykernel)",
   "language": "python",
   "name": "python3"
  },
  "language_info": {
   "codemirror_mode": {
    "name": "ipython",
    "version": 3
   },
   "file_extension": ".py",
   "mimetype": "text/x-python",
   "name": "python",
   "nbconvert_exporter": "python",
   "pygments_lexer": "ipython3",
   "version": "3.9.12"
  }
 },
 "nbformat": 4,
 "nbformat_minor": 5
}
