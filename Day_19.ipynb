{
 "cells": [
  {
   "cell_type": "markdown",
   "id": "46b4b8f9-e498-4fc5-8fcd-3d21b9cf7263",
   "metadata": {},
   "source": [
    "# break statement\n",
    "\n",
    "The break statement enables a program to skip over a part of the code. A break statement terminates the very loop it lies within. "
   ]
  },
  {
   "cell_type": "code",
   "execution_count": 1,
   "id": "1f107f5b-3f69-431b-bb3a-ed30b5e4ecb9",
   "metadata": {},
   "outputs": [
    {
     "name": "stdout",
     "output_type": "stream",
     "text": [
      "1 Mississippi\n",
      "2 Mississippi\n",
      "3 Mississippi\n",
      "4 Mississippi\n",
      "5 Mississippi\n",
      "6 Mississippi\n",
      "7 Mississippi\n",
      "8 Mississippi\n",
      "9 Mississippi\n",
      "10 Mississippi\n",
      "11 Mississippi\n",
      "12 Mississippi\n",
      "13 Mississippi\n",
      "14 Mississippi\n",
      "15 Mississippi\n",
      "16 Mississippi\n",
      "17 Mississippi\n",
      "18 Mississippi\n",
      "19 Mississippi\n",
      "20 Mississippi\n",
      "21 Mississippi\n",
      "22 Mississippi\n",
      "23 Mississippi\n",
      "24 Mississippi\n",
      "25 Mississippi\n",
      "26 Mississippi\n",
      "27 Mississippi\n",
      "28 Mississippi\n",
      "29 Mississippi\n",
      "30 Mississippi\n",
      "31 Mississippi\n",
      "32 Mississippi\n",
      "33 Mississippi\n",
      "34 Mississippi\n",
      "35 Mississippi\n",
      "36 Mississippi\n",
      "37 Mississippi\n",
      "38 Mississippi\n",
      "39 Mississippi\n",
      "40 Mississippi\n",
      "41 Mississippi\n",
      "42 Mississippi\n",
      "43 Mississippi\n",
      "44 Mississippi\n",
      "45 Mississippi\n",
      "46 Mississippi\n",
      "47 Mississippi\n",
      "48 Mississippi\n",
      "49 Mississippi\n",
      "50 Thank you\n"
     ]
    }
   ],
   "source": [
    "for i in range(1,101,1):\n",
    "    print(i, end = \" \")\n",
    "    if(i==50):\n",
    "        break\n",
    "    else:\n",
    "        print(\"Mississippi\")\n",
    "print(\"Thank you\")\n"
   ]
  },
  {
   "cell_type": "markdown",
   "id": "a18228ed-9c71-40ed-baf6-90f2bc633b50",
   "metadata": {},
   "source": [
    "# continue Statement\n",
    "The continue statement skips the rest of the loop statement and causes the next iteration to occur. \n"
   ]
  },
  {
   "cell_type": "code",
   "execution_count": 3,
   "id": "fa9c52b7-b4c6-4895-8dac-facd35d22c05",
   "metadata": {},
   "outputs": [
    {
     "name": "stdout",
     "output_type": "stream",
     "text": [
      "2\n",
      "4\n",
      "6\n",
      "8\n",
      "0\n"
     ]
    }
   ],
   "source": [
    "for i in [2,3,4,6,8,0]:\n",
    "    if (i%2 != 0):\n",
    "        continue\n",
    "    print(i)"
   ]
  },
  {
   "cell_type": "code",
   "execution_count": null,
   "id": "a7d49354-79b4-431a-ab47-ef8d1de8fd4d",
   "metadata": {},
   "outputs": [],
   "source": []
  }
 ],
 "metadata": {
  "kernelspec": {
   "display_name": "Python 3 (ipykernel)",
   "language": "python",
   "name": "python3"
  },
  "language_info": {
   "codemirror_mode": {
    "name": "ipython",
    "version": 3
   },
   "file_extension": ".py",
   "mimetype": "text/x-python",
   "name": "python",
   "nbconvert_exporter": "python",
   "pygments_lexer": "ipython3",
   "version": "3.9.19"
  }
 },
 "nbformat": 4,
 "nbformat_minor": 5
}
