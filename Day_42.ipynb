{
 "cells": [
  {
   "cell_type": "markdown",
   "id": "f0653a28-d0f0-4c29-b070-f197ce73f41e",
   "metadata": {},
   "source": [
    "## Enumerate function in python\n",
    "\n",
    "The enumerate function is a built-in function in Python that allows you to loop over sequence (such as a list, tuple, or string) and get the index and value of each element in the sequence at the same time. Here's a basic example of how it works:"
   ]
  },
  {
   "cell_type": "code",
   "execution_count": 3,
   "id": "9558dfd7-8bd0-4509-a8b0-ca474792d291",
   "metadata": {},
   "outputs": [
    {
     "name": "stdout",
     "output_type": "stream",
     "text": [
      "0 apple\n",
      "1 banana\n",
      "2 mango\n"
     ]
    }
   ],
   "source": [
    "# Loop over a list and print the index and value of each element\n",
    "fruits = ['apple', 'banana', 'mango'] \n",
    "for index, fruit in enumerate(fruits):\n",
    "    print(index, fruit)"
   ]
  },
  {
   "cell_type": "markdown",
   "id": "0f082f44-9252-4dac-b3b2-1c46d3f2576a",
   "metadata": {},
   "source": [
    "As we can see, the enumerate function returns a tuple containing the index and value of each element in the sequence. we can use the for loop to unpack these tuples and assign them to variables, as shown in the example above. "
   ]
  },
  {
   "cell_type": "markdown",
   "id": "a13040e0-b8ca-4922-9128-ddb5d3188e81",
   "metadata": {},
   "source": [
    "## Changing the start index\n",
    "By default, the enumerate function starts the index at 0, but we can specify a different starting index by passing it as an argument to the enumerate function:"
   ]
  },
  {
   "cell_type": "code",
   "execution_count": 6,
   "id": "2c342e9f-0e1d-41ad-a8ed-557bb2033572",
   "metadata": {},
   "outputs": [
    {
     "name": "stdout",
     "output_type": "stream",
     "text": [
      "1 apple\n",
      "2 banana\n",
      "3 mango\n"
     ]
    }
   ],
   "source": [
    "# Loop over a list and print the index (starting at 1) and value of each element \n",
    "\n",
    "fruits = ['apple', 'banana', 'mango']\n",
    "for index, fruit in enumerate(fruits, start = 1):\n",
    "    print(index, fruit)"
   ]
  },
  {
   "cell_type": "markdown",
   "id": "057fc244-1d4a-479e-8f30-b99648d68142",
   "metadata": {},
   "source": [
    "The enumerate function is often used when we need to loop over a sequence and perform some action with both the index and value of each element. For example, we might use it to loop over a list of strings and print the index and value of each string in formatted way. "
   ]
  },
  {
   "cell_type": "code",
   "execution_count": 7,
   "id": "caa2d070-59d8-48c8-b79f-cf5d0644a383",
   "metadata": {},
   "outputs": [
    {
     "name": "stdout",
     "output_type": "stream",
     "text": [
      "1: apple\n",
      "2: banana\n",
      "3: mango\n"
     ]
    }
   ],
   "source": [
    "fruits = ['apple', 'banana', 'mango']\n",
    "for index, fruit in enumerate(fruits):\n",
    "    print(f'{index+1}: {fruit}')"
   ]
  },
  {
   "cell_type": "markdown",
   "id": "28bd3857-23a4-4a8d-a7e9-c90d5014c57d",
   "metadata": {},
   "source": [
    "In addition to lists, we can use the enumerate function with any other sequence type in Python, such as tuples and strings. Here's an example with a **tuple:**"
   ]
  },
  {
   "cell_type": "code",
   "execution_count": 8,
   "id": "7b830b0b-4d36-44b7-bc7e-86e14dd5a40b",
   "metadata": {},
   "outputs": [
    {
     "name": "stdout",
     "output_type": "stream",
     "text": [
      "0 red\n",
      "1 green\n",
      "2 blue\n"
     ]
    }
   ],
   "source": [
    "# Loop over a tuple and print the index and value of each element\n",
    "\n",
    "colors = ('red', 'green', 'blue')\n",
    "for index, color in enumerate(colors):\n",
    "    print(index, color)\n"
   ]
  },
  {
   "cell_type": "markdown",
   "id": "a1dd8114-f7b3-451e-9e85-2bd63f848294",
   "metadata": {},
   "source": [
    "And here's an example with a **string:**"
   ]
  },
  {
   "cell_type": "code",
   "execution_count": 9,
   "id": "7f94932e-45c5-435a-9e64-e4834b408bb1",
   "metadata": {},
   "outputs": [
    {
     "name": "stdout",
     "output_type": "stream",
     "text": [
      "0 h\n",
      "1 e\n",
      "2 l\n",
      "3 l\n",
      "4 o\n"
     ]
    }
   ],
   "source": [
    "# loop over a string and print the index and value of each character\n",
    "s = 'hello'\n",
    "for index, c in enumerate(s):\n",
    "    print(index, c)"
   ]
  },
  {
   "cell_type": "code",
   "execution_count": null,
   "id": "a25c44e5-acc7-4b0f-a1f8-267cd00e5e5a",
   "metadata": {},
   "outputs": [],
   "source": []
  }
 ],
 "metadata": {
  "kernelspec": {
   "display_name": "Python 3 (ipykernel)",
   "language": "python",
   "name": "python3"
  },
  "language_info": {
   "codemirror_mode": {
    "name": "ipython",
    "version": 3
   },
   "file_extension": ".py",
   "mimetype": "text/x-python",
   "name": "python",
   "nbconvert_exporter": "python",
   "pygments_lexer": "ipython3",
   "version": "3.9.19"
  }
 },
 "nbformat": 4,
 "nbformat_minor": 5
}
