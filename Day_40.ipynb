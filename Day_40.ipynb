{
 "cells": [
  {
   "cell_type": "markdown",
   "id": "126bd803-a056-42e8-8127-3d8f3c45fd86",
   "metadata": {},
   "source": [
    "Write a python program to translate a message into secret code language. Use the rules below to translate normal English into secret code language. \n",
    "\n",
    "- Coding\n",
    "  If the word contains atleast 3 characters, remove the first letter and append it at the end now append three random characters at the starting and the end.\n",
    "- else:  \n",
    "      simply reverse the string\n",
    "- Decoding:  \n",
    "    if the word contains less than 3 characters, reverse it.\n",
    "\n",
    "- else:  \n",
    "      remove 3 random characters from start and end. Now remove the last letter and append it to the beginning.\n",
    "\n",
    "Your program should ask whether you want to code or decode. "
   ]
  },
  {
   "cell_type": "code",
   "execution_count": null,
   "id": "58b2e4a3-ce7a-4dbf-b2f5-9836d52c9869",
   "metadata": {},
   "outputs": [],
   "source": []
  }
 ],
 "metadata": {
  "kernelspec": {
   "display_name": "Python 3 (ipykernel)",
   "language": "python",
   "name": "python3"
  },
  "language_info": {
   "codemirror_mode": {
    "name": "ipython",
    "version": 3
   },
   "file_extension": ".py",
   "mimetype": "text/x-python",
   "name": "python",
   "nbconvert_exporter": "python",
   "pygments_lexer": "ipython3",
   "version": "3.9.19"
  }
 },
 "nbformat": 4,
 "nbformat_minor": 5
}
