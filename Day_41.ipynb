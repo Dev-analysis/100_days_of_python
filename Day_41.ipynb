{
 "cells": [
  {
   "cell_type": "markdown",
   "id": "9860ba31-5033-4c4a-ba70-0261d1566dbd",
   "metadata": {},
   "source": [
    "## If ... Else in One Line\n",
    "\n",
    "There is also a shorthand syntax for the if-else statement that can be used when the condition being tested is simple and the code blocks to be executed are short.\n",
    "\n",
    "Here's an example:"
   ]
  },
  {
   "cell_type": "code",
   "execution_count": 1,
   "id": "f8e069f2-bf5a-477b-b267-ad4ec4392502",
   "metadata": {},
   "outputs": [
    {
     "name": "stdout",
     "output_type": "stream",
     "text": [
      "B\n"
     ]
    }
   ],
   "source": [
    "a = 2 \n",
    "b = 330\n",
    "print(\"A\") if a > b else print(\"B\")"
   ]
  },
  {
   "cell_type": "markdown",
   "id": "ce38f075-020f-4aab-95ef-a1b7de861985",
   "metadata": {},
   "source": [
    "One line if else statement, with 3 condition:\n"
   ]
  },
  {
   "cell_type": "code",
   "execution_count": 4,
   "id": "ead74c88-1e1e-45fa-a132-0353ccc35cb7",
   "metadata": {},
   "outputs": [
    {
     "name": "stdout",
     "output_type": "stream",
     "text": [
      "=\n"
     ]
    }
   ],
   "source": [
    "a = 330\n",
    "b = 330\n",
    "print(\"A\") if a > b else print(\"=\") if a == b else print(\"B\")"
   ]
  },
  {
   "cell_type": "markdown",
   "id": "ce7b7885-a88a-4f20-98e2-b17c54f60850",
   "metadata": {},
   "source": [
    "**result = value_if_true if condition else value_if_false**\n",
    "\n",
    "This syntax is equivalent to the following if-else statement:"
   ]
  },
  {
   "cell_type": "code",
   "execution_count": null,
   "id": "dc5215d9-904a-4ec1-a1a4-1719d757e560",
   "metadata": {},
   "outputs": [],
   "source": [
    "if condition:  \n",
    "       result = value = value_if_true  \n",
    "else:  \n",
    "       result = value_if_false"
   ]
  },
  {
   "cell_type": "markdown",
   "id": "2d22d717-ab11-4620-9fc1-b35c08a7872d",
   "metadata": {},
   "source": [
    "### Conclusion\n",
    "\n",
    "The shorthand syntax can be a convenient way to write simple if-else statements, especially when you want to assign a value to a variable based on a condition.  \n",
    "    However, it's not suitable for more complex situations where you need to execute multiple statements or perform more complex logic. In those cases, it's best to use the full if-else syntax. "
   ]
  },
  {
   "cell_type": "code",
   "execution_count": null,
   "id": "8f80f242-1840-42db-b961-12140fdc8e90",
   "metadata": {},
   "outputs": [],
   "source": []
  }
 ],
 "metadata": {
  "kernelspec": {
   "display_name": "Python 3 (ipykernel)",
   "language": "python",
   "name": "python3"
  },
  "language_info": {
   "codemirror_mode": {
    "name": "ipython",
    "version": 3
   },
   "file_extension": ".py",
   "mimetype": "text/x-python",
   "name": "python",
   "nbconvert_exporter": "python",
   "pygments_lexer": "ipython3",
   "version": "3.9.19"
  }
 },
 "nbformat": 4,
 "nbformat_minor": 5
}
