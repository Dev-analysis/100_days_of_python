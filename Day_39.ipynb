{
 "cells": [
  {
   "cell_type": "markdown",
   "id": "1b41178a-0ed5-4702-8440-2a0e3d42a8ec",
   "metadata": {},
   "source": [
    "#### Create a program capable of displaying questions to the user like KBC. Use List data type to store the questions and their correct answers. Display the final amount the person is taking home after playing the game. "
   ]
  },
  {
   "cell_type": "code",
   "execution_count": 1,
   "id": "7d216612-fc59-4d10-92ae-d164a9157d1f",
   "metadata": {},
   "outputs": [
    {
     "ename": "SyntaxError",
     "evalue": "f-string: expecting '}' (2266775243.py, line 18)",
     "output_type": "error",
     "traceback": [
      "\u001b[1;36m  Cell \u001b[1;32mIn[1], line 18\u001b[1;36m\u001b[0m\n\u001b[1;33m    print(f\"Correct answer, you have won Rs.{levels[i]\")\u001b[0m\n\u001b[1;37m                                                       ^\u001b[0m\n\u001b[1;31mSyntaxError\u001b[0m\u001b[1;31m:\u001b[0m f-string: expecting '}'\n"
     ]
    }
   ],
   "source": [
    "question = [\"Which language was used to create Facebook\", \"Python\",\"French\",\n",
    "            \"JavaScript\", \"Php\", \"None\", 4],[\"Which language was used to create Facebook\", \"Python\",\"French\",\n",
    "            \"JavaScript\", \"Php\", \"None\", 4],[\"Which language was used to create Facebook\", \"Python\",\"French\",\n",
    "            \"JavaScript\", \"Php\", \"None\", 4],[\"Which language was used to create Facebook\", \"Python\",\"French\",\n",
    "            \"JavaScript\", \"Php\", \"None\", 4],[\"Which language was used to create Facebook\", \"Python\",\"French\",\n",
    "            \"JavaScript\", \"Php\", \"None\", 4]\n",
    "\n",
    "levels = [1000, 2000, 3000, 5000, 10000, 20000]\n",
    "\n",
    "money = 0 \n",
    "for i in range(0, len(questions)):\n",
    "    question = questions[i]\n",
    "    print(f\"Question for Rs. {levels[i]}\")\n",
    "    print(f\"a. {question[1]}      b.{questions[2]} \")\n",
    "    print(f\"c. {question[3]}      d. {questions[4]} \")\n",
    "    reply = int(input(\"Enter your answer (1-4) \"))\n",
    "    if(reply == questions[-1]):\n",
    "        print(f\"Correct answer, you have won Rs.{levels[i]\")\n",
    "    else:\n",
    "        print(\"Wrong answer!\")\n",
    "        break"
   ]
  },
  {
   "cell_type": "code",
   "execution_count": null,
   "id": "22c6dff6-6c67-4d44-9fc8-66a495879999",
   "metadata": {},
   "outputs": [],
   "source": []
  }
 ],
 "metadata": {
  "kernelspec": {
   "display_name": "Python 3 (ipykernel)",
   "language": "python",
   "name": "python3"
  },
  "language_info": {
   "codemirror_mode": {
    "name": "ipython",
    "version": 3
   },
   "file_extension": ".py",
   "mimetype": "text/x-python",
   "name": "python",
   "nbconvert_exporter": "python",
   "pygments_lexer": "ipython3",
   "version": "3.9.19"
  }
 },
 "nbformat": 4,
 "nbformat_minor": 5
}
