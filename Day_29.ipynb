{
 "cells": [
  {
   "cell_type": "markdown",
   "id": "618e386f-6e81-42d9-bb1c-5560666d51c6",
   "metadata": {},
   "source": [
    "# Docstrings in Python\n",
    "Python docstrings are the string literals that appear right after the definition of a function, method, class, or module. "
   ]
  },
  {
   "cell_type": "code",
   "execution_count": null,
   "id": "72e7d0e9-aad0-40b3-b387-382ba2308433",
   "metadata": {},
   "outputs": [],
   "source": []
  }
 ],
 "metadata": {
  "kernelspec": {
   "display_name": "Python 3 (ipykernel)",
   "language": "python",
   "name": "python3"
  },
  "language_info": {
   "codemirror_mode": {
    "name": "ipython",
    "version": 3
   },
   "file_extension": ".py",
   "mimetype": "text/x-python",
   "name": "python",
   "nbconvert_exporter": "python",
   "pygments_lexer": "ipython3",
   "version": "3.9.19"
  }
 },
 "nbformat": 4,
 "nbformat_minor": 5
}
