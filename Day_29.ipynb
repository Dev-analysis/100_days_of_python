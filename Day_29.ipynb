{
 "cells": [
  {
   "cell_type": "markdown",
   "id": "618e386f-6e81-42d9-bb1c-5560666d51c6",
   "metadata": {},
   "source": [
    "# Docstrings in Python\n",
    "Python docstrings are the string literals that appear right after the definition of a function, method, class, or module. "
   ]
  },
  {
   "cell_type": "code",
   "execution_count": 1,
   "id": "72e7d0e9-aad0-40b3-b387-382ba2308433",
   "metadata": {},
   "outputs": [
    {
     "name": "stdout",
     "output_type": "stream",
     "text": [
      "25\n"
     ]
    }
   ],
   "source": [
    "def square(n):\n",
    "    '''Takes in a number n, returns the square of n'''\n",
    "    print(n**2)\n",
    "square(5)"
   ]
  },
  {
   "cell_type": "markdown",
   "id": "d747ad45-3f84-4b84-a67d-59d1a5f2713a",
   "metadata": {},
   "source": [
    "Here, \n",
    "\n",
    "'''Takes in a number n, returns the square of n''' is a docstring which will not appear in output. "
   ]
  },
  {
   "cell_type": "code",
   "execution_count": 3,
   "id": "2b462e93-d7fb-4b5e-8fc1-4a5a4e180ddb",
   "metadata": {},
   "outputs": [],
   "source": [
    "def add(num1, num2):\n",
    "    \"\"\"\n",
    "    Add up two integer numbers.\n",
    "\n",
    "    This function simply wraps the ``+`` operator, and does not\n",
    "    do anything interesting, except for illustrating what\n",
    "    the docstring of a very simple function looks like.\n",
    "\n",
    "    Parameters\n",
    "    ----------\n",
    "    num1 : int\n",
    "        First number to add.\n",
    "    num2 : int\n",
    "        Second number to add.\n",
    "\n",
    "    Returns\n",
    "    -------\n",
    "    int\n",
    "        The sum of ``num1`` and ``num2``.\n",
    "\n",
    "    See Also\n",
    "    --------\n",
    "    subtract : Subtract one integer from another.\n",
    "\n",
    "    Examples\n",
    "    --------\n",
    "    >>> add(2, 2)\n",
    "    4\n",
    "    >>> add(25, 0)\n",
    "    25\n",
    "    >>> add(10, -10)\n",
    "    0\n",
    "    \"\"\"\n",
    "    return num1 + num2"
   ]
  },
  {
   "cell_type": "markdown",
   "id": "4b4f3084-b765-403b-970d-225cdb5b01ee",
   "metadata": {},
   "source": [
    "## Python Comments vs Docstrings\n",
    "\n",
    "### Python Comments  \n",
    "Comments are descriptions that help programmers better understand the intent and functionality of the program. They are completely ignored by the Python interpreter. \n",
    "\n",
    "### Python docstrings  \n",
    "As mentioned above, Python docstrings are things used right after the definition of a function, method, class, or module (like in Example.1). They are used to document our code. \n",
    "\n",
    "### Python doc attribute\n",
    "Whenever string literals are present just after the definition of a function, module, class, or method, they are associated with the object as their **doc** attribute. We can later use this attribute to retrieve this docstring. "
   ]
  },
  {
   "cell_type": "code",
   "execution_count": 4,
   "id": "4ec212c5-4549-48a9-a277-ab8dfb5435ea",
   "metadata": {},
   "outputs": [
    {
     "name": "stdout",
     "output_type": "stream",
     "text": [
      "Takes in a number n, returns the square of n\n"
     ]
    }
   ],
   "source": [
    "def square(n):\n",
    "    '''Takes in a number n, returns the square of n'''\n",
    "    return n**2\n",
    "\n",
    "print(square.__doc__)"
   ]
  },
  {
   "cell_type": "markdown",
   "id": "2d439d06-622d-4a65-9fcb-56144a50be00",
   "metadata": {},
   "source": [
    "# PEP 8\n",
    "\n",
    "PEP 8 is a document that provides guidelines and best practices on how to write Python code. It was written in 2001 by Guido van Rossum, Barry Warsaw, and Nic Coghlan. The primary focus of PEP 8 is to improve the readability and consistency of Python code.\n",
    "\n",
    "PEP stands for Python Enhancement Proposal, and there are several of them. A PEP is document that describes new features proposed for Python and document aspects of Python, like design and style, for the community. \n",
    "\n"
   ]
  },
  {
   "cell_type": "markdown",
   "id": "171ad3a6-a3c2-46a8-823b-99892f4ef514",
   "metadata": {},
   "source": [
    "# The Zen of Python\n",
    "\n",
    "Long time Pythoneer Tim Peters succinctly channels the BDFL's guiding principles for Python's design into 20 aphorisms, only 19 of which have been written down. \n",
    "\n",
    "**Explicit is better than implicit.**  \n",
    "**Simple is better than complex.**  \n",
    "**Complex is better than complicated.**  \n",
    "**Flat is better than nested.**  \n",
    "**Sparse is better than dense.**  \n",
    "**Readability counts.**  \n",
    "**Special cases aren't special enough to break the rules.**  \n",
    "**Although Practicality beats purity.**  \n",
    "**Errors should never pass silently.**  \n",
    "**Unless explicitly silenced.**  \n",
    "**In the face of ambiguity, refuse the temptation to guess.**  \n",
    "**There should be one-- and preferably only one -- obvious way to do it.**   \n",
    "**Although that way may not be obvious at first unless you're Dutch.**   \n",
    "**Now is better than never.**  \n",
    "**Although never is often better than *right* now.**  \n",
    "**If the implementation is hard to explain, it's a bad idea.**  \n",
    "**If the implementation is easy to explain, it may be a good idea.**    \n",
    "**Namespaces are one honking great idea -- let's do more of those!**  "
   ]
  },
  {
   "cell_type": "markdown",
   "id": "696f5797-eb45-4790-b2bc-219fdc03c4dd",
   "metadata": {},
   "source": [
    "## Easter egg"
   ]
  },
  {
   "cell_type": "code",
   "execution_count": 2,
   "id": "643aa290-315f-4fde-b4dc-36eb18951a1b",
   "metadata": {},
   "outputs": [
    {
     "name": "stdout",
     "output_type": "stream",
     "text": [
      "The Zen of Python, by Tim Peters\n",
      "\n",
      "Beautiful is better than ugly.\n",
      "Explicit is better than implicit.\n",
      "Simple is better than complex.\n",
      "Complex is better than complicated.\n",
      "Flat is better than nested.\n",
      "Sparse is better than dense.\n",
      "Readability counts.\n",
      "Special cases aren't special enough to break the rules.\n",
      "Although practicality beats purity.\n",
      "Errors should never pass silently.\n",
      "Unless explicitly silenced.\n",
      "In the face of ambiguity, refuse the temptation to guess.\n",
      "There should be one-- and preferably only one --obvious way to do it.\n",
      "Although that way may not be obvious at first unless you're Dutch.\n",
      "Now is better than never.\n",
      "Although never is often better than *right* now.\n",
      "If the implementation is hard to explain, it's a bad idea.\n",
      "If the implementation is easy to explain, it may be a good idea.\n",
      "Namespaces are one honking great idea -- let's do more of those!\n"
     ]
    }
   ],
   "source": [
    "import this"
   ]
  },
  {
   "cell_type": "code",
   "execution_count": null,
   "id": "642da7cf-ed5c-4266-a82e-9f8f53165135",
   "metadata": {},
   "outputs": [],
   "source": []
  }
 ],
 "metadata": {
  "kernelspec": {
   "display_name": "Python 3 (ipykernel)",
   "language": "python",
   "name": "python3"
  },
  "language_info": {
   "codemirror_mode": {
    "name": "ipython",
    "version": 3
   },
   "file_extension": ".py",
   "mimetype": "text/x-python",
   "name": "python",
   "nbconvert_exporter": "python",
   "pygments_lexer": "ipython3",
   "version": "3.9.19"
  }
 },
 "nbformat": 4,
 "nbformat_minor": 5
}
