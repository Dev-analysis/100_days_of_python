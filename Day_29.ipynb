{
 "cells": [
  {
   "cell_type": "markdown",
   "id": "618e386f-6e81-42d9-bb1c-5560666d51c6",
   "metadata": {},
   "source": [
    "# Docstrings in Python\n",
    "Python docstrings are the string literals that appear right after the definition of a function, method, class, or module. "
   ]
  },
  {
   "cell_type": "code",
   "execution_count": 1,
   "id": "72e7d0e9-aad0-40b3-b387-382ba2308433",
   "metadata": {},
   "outputs": [
    {
     "name": "stdout",
     "output_type": "stream",
     "text": [
      "25\n"
     ]
    }
   ],
   "source": [
    "def square(n):\n",
    "    '''Takes in a number n, returns the square of n'''\n",
    "    print(n**2)\n",
    "square(5)"
   ]
  },
  {
   "cell_type": "markdown",
   "id": "d747ad45-3f84-4b84-a67d-59d1a5f2713a",
   "metadata": {},
   "source": [
    "Here, \n",
    "\n",
    "'''Takes in a number n, returns the square of n''' is a docstring which will not appear in output. "
   ]
  },
  {
   "cell_type": "code",
   "execution_count": 3,
   "id": "2b462e93-d7fb-4b5e-8fc1-4a5a4e180ddb",
   "metadata": {},
   "outputs": [],
   "source": [
    "def add(num1, num2):\n",
    "    \"\"\"\n",
    "    Add up two integer numbers.\n",
    "\n",
    "    This function simply wraps the ``+`` operator, and does not\n",
    "    do anything interesting, except for illustrating what\n",
    "    the docstring of a very simple function looks like.\n",
    "\n",
    "    Parameters\n",
    "    ----------\n",
    "    num1 : int\n",
    "        First number to add.\n",
    "    num2 : int\n",
    "        Second number to add.\n",
    "\n",
    "    Returns\n",
    "    -------\n",
    "    int\n",
    "        The sum of ``num1`` and ``num2``.\n",
    "\n",
    "    See Also\n",
    "    --------\n",
    "    subtract : Subtract one integer from another.\n",
    "\n",
    "    Examples\n",
    "    --------\n",
    "    >>> add(2, 2)\n",
    "    4\n",
    "    >>> add(25, 0)\n",
    "    25\n",
    "    >>> add(10, -10)\n",
    "    0\n",
    "    \"\"\"\n",
    "    return num1 + num2"
   ]
  },
  {
   "cell_type": "markdown",
   "id": "4b4f3084-b765-403b-970d-225cdb5b01ee",
   "metadata": {},
   "source": [
    "## Python Comments vs Docstrings\n",
    "\n",
    "### Python Comments  \n",
    "Comments are descriptions that help programmers better understand the intent and functionality of the program. They are completely ignored by the Python interpreter. \n",
    "\n",
    "### Python docstrings  \n",
    "As mentioned above, Python docstrings are things used right after the definition of a function, method, class, or module (like in Example.1). They are used to document our code. \n",
    "\n",
    "### Python doc attribute\n",
    "Whenever string literals are present just after the definition of a function, module, class, or method, they are associated with the object as their **doc** attribute. We can later use this attribute to retrieve this docstring. "
   ]
  },
  {
   "cell_type": "code",
   "execution_count": 4,
   "id": "4ec212c5-4549-48a9-a277-ab8dfb5435ea",
   "metadata": {},
   "outputs": [
    {
     "name": "stdout",
     "output_type": "stream",
     "text": [
      "Takes in a number n, returns the square of n\n"
     ]
    }
   ],
   "source": [
    "def square(n):\n",
    "    '''Takes in a number n, returns the square of n'''\n",
    "    return n**2\n",
    "\n",
    "print(square.__doc__)"
   ]
  },
  {
   "cell_type": "code",
   "execution_count": null,
   "id": "59800a68-0762-4988-8ecf-9cd7681f0295",
   "metadata": {},
   "outputs": [],
   "source": []
  }
 ],
 "metadata": {
  "kernelspec": {
   "display_name": "Python 3 (ipykernel)",
   "language": "python",
   "name": "python3"
  },
  "language_info": {
   "codemirror_mode": {
    "name": "ipython",
    "version": 3
   },
   "file_extension": ".py",
   "mimetype": "text/x-python",
   "name": "python",
   "nbconvert_exporter": "python",
   "pygments_lexer": "ipython3",
   "version": "3.9.19"
  }
 },
 "nbformat": 4,
 "nbformat_minor": 5
}
