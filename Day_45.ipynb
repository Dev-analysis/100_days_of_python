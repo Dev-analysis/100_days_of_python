{
 "cells": [
  {
   "cell_type": "raw",
   "id": "a5faa8fb-5b52-49b5-91b6-dea00488381b",
   "metadata": {},
   "source": [
    "if \"__name__ == \"__main__\" in Python**\n",
    "\n",
    "The if __name__ == \"__main__\" idiom is a common pattern used in Python script to determine whether the script is being run directly or being imported as a module into another script. \n",
    "\n",
    "In Python, the __name__ variable is a built-in variable that is automatically set to the name of the current module. When a Python script is run directly, the __name__ variable is set to the string __main__ When the script is imported as a module into another script, the __name__ variable is set to the name of the module. \n",
    "\n",
    "Here's an example of how the if __name__ == __main__ idiom can be used:\n"
   ]
  },
  {
   "cell_type": "code",
   "execution_count": 1,
   "id": "9a1cc754-30fa-42d4-8eea-94d8ae4431de",
   "metadata": {},
   "outputs": [
    {
     "name": "stdout",
     "output_type": "stream",
     "text": [
      "Running script directly\n"
     ]
    }
   ],
   "source": [
    "def main():\n",
    "    # Code to be run when the script is run directly\n",
    "    print(\"Running script directly\")\n",
    "\n",
    "if __name__ == \"__main__\":\n",
    "    main()\n"
   ]
  },
  {
   "cell_type": "raw",
   "id": "49ea3f9b-8914-46bb-abf9-08d51058c6ca",
   "metadata": {},
   "source": [
    "In this example, the main function contains the code that should be run when the script is run directly. The if statement at the bottom checks whether the __name__ variable is equal to __main__. If it is, the main function is called. "
   ]
  },
  {
   "cell_type": "markdown",
   "id": "e411d130-85a9-496b-b129-db12cb6d035f",
   "metadata": {},
   "source": [
    "## Why it is useful?\n",
    "\n",
    "The idiom is useful because it allows you to reuse code from a script by importing it as a module into another script, without running the code in the original script. For example, consider the following script:"
   ]
  },
  {
   "cell_type": "code",
   "execution_count": 2,
   "id": "7bdcdefd-fee5-45a6-9ede-971b6ef0283c",
   "metadata": {},
   "outputs": [
    {
     "name": "stdout",
     "output_type": "stream",
     "text": [
      "Running script directly\n"
     ]
    }
   ],
   "source": [
    "def main():\n",
    "    print(\"Running script directly\")\n",
    "\n",
    "if __name__ == \"__main__\":\n",
    "    main()"
   ]
  },
  {
   "cell_type": "markdown",
   "id": "b3b131a9-9e88-41d4-bf2a-7e35aa045ba0",
   "metadata": {},
   "source": [
    "If you run this script directly, it will output \"Running script directly\". However, if you import it as a module into another script and call the main function from the imported module, it will not output anything: "
   ]
  },
  {
   "cell_type": "code",
   "execution_count": null,
   "id": "bf130d72-83c6-4ac0-9320-72cc9e55521b",
   "metadata": {},
   "outputs": [],
   "source": [
    "import script\n",
    "\n",
    "script.main()    # Output: \"Running script directly\""
   ]
  },
  {
   "cell_type": "markdown",
   "id": "84e6aec0-0b12-44c3-966d-89c8b6dcaec1",
   "metadata": {},
   "source": [
    "This can be useful if you have code that you want to reuse in multiple scripts, but you only want it to run when the script is run directly and not when it's imported as a module. "
   ]
  },
  {
   "cell_type": "markdown",
   "id": "a377efcb-fbe9-4170-b215-0bba2e8cf0a6",
   "metadata": {},
   "source": [
    "## Is it a necessity? \n"
   ]
  },
  {
   "cell_type": "raw",
   "id": "618f432e-2fc9-432c-ad5e-c4e8aff21904",
   "metadata": {},
   "source": [
    "it's important to note that the if __name__ == \"__main__\" idiom is not required to run a Python script. You can still run a script without it by simply calling the functions or running the code you want to execute directly. \n",
    "However, the if __name__ == \"__main__\" idiom can be a useful tool for organizing and separating code that should be run directly from code that should be imported and used as a module. \n",
    "\n",
    "In summary, the if __name__ == \"__main__\" idiom is a common pattern used in Python scripts to determine whether the script is being run directly or being imported as a module into another script. It allows you to reuse code from script by importing it as a module into another script, without running the code in the original script. "
   ]
  },
  {
   "cell_type": "code",
   "execution_count": null,
   "id": "f0ff8992-a102-4717-84d5-2b4b4b0ea62f",
   "metadata": {},
   "outputs": [],
   "source": []
  }
 ],
 "metadata": {
  "kernelspec": {
   "display_name": "Python 3 (ipykernel)",
   "language": "python",
   "name": "python3"
  },
  "language_info": {
   "codemirror_mode": {
    "name": "ipython",
    "version": 3
   },
   "file_extension": ".py",
   "mimetype": "text/x-python",
   "name": "python",
   "nbconvert_exporter": "python",
   "pygments_lexer": "ipython3",
   "version": "3.9.19"
  }
 },
 "nbformat": 4,
 "nbformat_minor": 5
}
