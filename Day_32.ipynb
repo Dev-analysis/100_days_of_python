{
 "cells": [
  {
   "cell_type": "markdown",
   "id": "5fd06bae-a0d4-4ea7-a072-986a39175666",
   "metadata": {},
   "source": [
    "# Joining Sets\n",
    "\n",
    "Sets in python more or less work in the same way as sets in mathematics. we can perform operations like union and intersection on the sets just like in mathematics. \n",
    "\n",
    "### I. union() and update():\n",
    "\n",
    "The union() and update() methods prints all items that are present in the two sets. The union() method returns a new set whereas update() method adds item into the existing set from another set. \n"
   ]
  },
  {
   "cell_type": "code",
   "execution_count": 1,
   "id": "7d8c362b-81b7-4484-adc6-922e88489c4f",
   "metadata": {},
   "outputs": [
    {
     "name": "stdout",
     "output_type": "stream",
     "text": [
      "{'Madrid', 'Seoul', 'Delhi', 'Kabul', 'Tokoyo', 'Berlin'}\n"
     ]
    }
   ],
   "source": [
    "cities = {\"Tokoyo\", \"Madrid\", \"Berlin\", \"Delhi\"}\n",
    "cities2 = {\"Tokoyo\", \"Seoul\", \"Kabul\", \"Madrid\"}\n",
    "cities3 = cities.union(cities2)\n",
    "print(cities3)"
   ]
  },
  {
   "cell_type": "code",
   "execution_count": 2,
   "id": "035ee391-eaf6-4742-8bdc-44341fc811ff",
   "metadata": {},
   "outputs": [
    {
     "name": "stdout",
     "output_type": "stream",
     "text": [
      "{'Madrid', 'Seoul', 'Delhi', 'Tokyo', 'Kabul', 'Berlin'}\n"
     ]
    }
   ],
   "source": [
    "cities = {\"Tokyo\", \"Madrid\", \"Berlin\", \"Delhi\"}\n",
    "cities2 = {\"Tokyo\", \"Seoul\", \"Kabul\", \"Madrid\"}\n",
    "cities.update(cities2)\n",
    "print(cities)"
   ]
  },
  {
   "cell_type": "markdown",
   "id": "ce69e8b7-d0b6-445e-8abb-23b2eee9a16c",
   "metadata": {},
   "source": [
    "### II. intersection and intersection_update()\n",
    "\n",
    "The intersection() and intersection_update() methods prints only items that are similar to both the sets. The intersection() method returns a new set whereas intersection_update() method updates into the existing set from another set. "
   ]
  },
  {
   "cell_type": "code",
   "execution_count": 3,
   "id": "d373c0bc-9b93-4b2a-bb92-b8ab9a778b4a",
   "metadata": {},
   "outputs": [
    {
     "name": "stdout",
     "output_type": "stream",
     "text": [
      "{'Madrid', 'Tokyo'}\n"
     ]
    }
   ],
   "source": [
    "cities = {\"Tokyo\", \"Madrid\", \"Berlin\", \"Delhi\"}\n",
    "cities2 = {\"Tokyo\", \"Seoul\", \"Kabul\", \"Madrid\"}\n",
    "cities3 = cities.intersection(cities2)\n",
    "print(cities3)"
   ]
  },
  {
   "cell_type": "code",
   "execution_count": 4,
   "id": "ed08a338-3441-4419-8395-3da20921cd39",
   "metadata": {},
   "outputs": [
    {
     "name": "stdout",
     "output_type": "stream",
     "text": [
      "{'Madrid', 'Tokyo'}\n"
     ]
    }
   ],
   "source": [
    "cities = {\"Tokyo\", \"Madrid\", \"Berlin\", \"Delhi\"}\n",
    "cities2 = {\"Tokyo\", \"Seoul\", \"Kabul\", \"Madrid\"}\n",
    "cities.intersection_update(cities2)\n",
    "print(cities)"
   ]
  },
  {
   "cell_type": "markdown",
   "id": "f8b1cfcf-59e1-459c-9cfb-79836e072c72",
   "metadata": {},
   "source": [
    "### III. Sysmmetric_difference and symmetric_difference_update():\n",
    "\n",
    "The symmetric_difference() and symmetric_difference_update() methods print only items that are not similar to both the sets. The symmetric_difference() method returns a new set whereas symmetric_difference_update() method updates into the existing set from another. \n"
   ]
  },
  {
   "cell_type": "code",
   "execution_count": 2,
   "id": "43c58dd5-3483-4842-a6c9-6e9e70ccc5c5",
   "metadata": {},
   "outputs": [
    {
     "name": "stdout",
     "output_type": "stream",
     "text": [
      "{'Delhi', 'Kabul', 'Berlin', 'Seoul'}\n"
     ]
    }
   ],
   "source": [
    "cities = {\"Tokoyo\", \"Madrid\", \"Berlin\", \"Delhi\"}\n",
    "cities2 = {\"Tokoyo\", \"Seoul\", \"Kabul\", \"Madrid\"}\n",
    "cities3 = cities.symmetric_difference(cities2)\n",
    "print(cities3) \n"
   ]
  },
  {
   "cell_type": "code",
   "execution_count": 3,
   "id": "695ae4de-eb16-4d29-8a94-2b9863d957a2",
   "metadata": {},
   "outputs": [
    {
     "name": "stdout",
     "output_type": "stream",
     "text": [
      "{'Delhi', 'Kabul', 'Berlin', 'Seoul'}\n"
     ]
    }
   ],
   "source": [
    "cities = {\"Tokyo\", \"Madrid\", \"Berlin\", \"Delhi\"}\n",
    "cities2 = {\"Tokyo\", \"Seoul\", \"Kabul\", \"Madrid\"}\n",
    "cities.symmetric_difference_update(cities2)\n",
    "print(cities)\n"
   ]
  },
  {
   "cell_type": "markdown",
   "id": "972e11b6-111c-4487-9012-96a736d0a3d1",
   "metadata": {},
   "source": [
    "### IV. difference() and difference_update():\n",
    "\n",
    "The difference() and difference_update() methods prints only items that are only present in the original set and not in both the sets. The difference() method returns a new set whereas difference_update() method updates into the existing set from another set. \n",
    "\n"
   ]
  },
  {
   "cell_type": "code",
   "execution_count": 4,
   "id": "71d6d5b7-2002-4044-a178-3a96e6cde862",
   "metadata": {},
   "outputs": [
    {
     "name": "stdout",
     "output_type": "stream",
     "text": [
      "{'Berlin', 'Tokyo', 'Madrid'}\n"
     ]
    }
   ],
   "source": [
    "cities = {\"Tokyo\", \"Madrid\", \"Berlin\", \"Delhi\"}\n",
    "cities2 = {\"Seoul\", \"Kabul\", \"Delhi\"}\n",
    "cities3 = cities.difference(cities2)\n",
    "print(cities3)"
   ]
  },
  {
   "cell_type": "code",
   "execution_count": 5,
   "id": "70edff6c-0759-43e1-a4c9-28b58af5f9d2",
   "metadata": {},
   "outputs": [
    {
     "name": "stdout",
     "output_type": "stream",
     "text": [
      "{'Berlin', 'Tokyo', 'Madrid'}\n"
     ]
    }
   ],
   "source": [
    "cities = {\"Tokyo\", \"Madrid\", \"Berlin\", \"Delhi\"}\n",
    "cities2 = {\"Seoul\", \"Kabul\", \"Delhi\"}\n",
    "print(cities.difference(cities2))"
   ]
  },
  {
   "cell_type": "markdown",
   "id": "e0da0753-730d-4268-9387-a88df5f2047c",
   "metadata": {},
   "source": [
    "# Set Methods\n",
    "\n",
    "There are several in-built methods used for the manipulation of a set. They are explained below. "
   ]
  },
  {
   "cell_type": "markdown",
   "id": "bd635d74-daba-4157-9efc-1ae7d3623ba3",
   "metadata": {},
   "source": [
    "### isdisjoint():\n",
    "The isdisjoint() method checks if items of given set are present in another set. This method returns False if items are present, else it returns True. "
   ]
  },
  {
   "cell_type": "code",
   "execution_count": 6,
   "id": "748821a0-9c41-4358-b7d5-e0d3dcc93478",
   "metadata": {},
   "outputs": [
    {
     "name": "stdout",
     "output_type": "stream",
     "text": [
      "False\n"
     ]
    }
   ],
   "source": [
    "cities = {\"Tokyo\", \"Madrid\", \"Berlin\", \"Delhi\"}\n",
    "cities2 = {\"Tokyo\", \"Seoul\", \"Kabul\", \"Madrid\"}\n",
    "print(cities.isdisjoint(cities2))\n"
   ]
  },
  {
   "cell_type": "markdown",
   "id": "ecd92f44-89df-4fd6-988e-649e74198bc8",
   "metadata": {},
   "source": [
    "### issuperset():\n",
    "The issuperset() method checks if all the items of a particular set are present in the original set. It returns True if all the items are present, else it returns False. "
   ]
  },
  {
   "cell_type": "code",
   "execution_count": 7,
   "id": "4147944e-89e7-48a6-93d2-0b5196eb061e",
   "metadata": {},
   "outputs": [
    {
     "name": "stdout",
     "output_type": "stream",
     "text": [
      "False\n",
      "False\n"
     ]
    }
   ],
   "source": [
    "cities = {\"Tokyo\", \"Madrid\", \"Berlin\", \"Delhi\"}\n",
    "cities2 = {\"Seoul\", \"Kabul\"}\n",
    "print(cities.issuperset(cities2))\n",
    "cities3 = {\"Seoul\", \"Madrid\", \"Kabul\"}\n",
    "print(cities.issuperset(cities3))\n"
   ]
  },
  {
   "cell_type": "markdown",
   "id": "4fa79776-16e9-47a6-b78b-6100dd03d095",
   "metadata": {},
   "source": [
    "### issubset():\n",
    "The issubset() method checks if all the items of the original set are present in the particular set. It returns True if all the items are present, else it returns False. "
   ]
  },
  {
   "cell_type": "code",
   "execution_count": 8,
   "id": "cf65cb9c-6bbe-46a1-b730-0221f2003f83",
   "metadata": {},
   "outputs": [
    {
     "name": "stdout",
     "output_type": "stream",
     "text": [
      "True\n"
     ]
    }
   ],
   "source": [
    "cities = {\"Tokyo\", \"Madrid\", \"Berlin\", \"Delhi\"}\n",
    "cities2 = {\"Delhi\", \"Madrid\"}\n",
    "print(cities2.issubset(cities))\n"
   ]
  },
  {
   "cell_type": "markdown",
   "id": "2a10f5e2-5bb6-41a0-9908-a58693be4858",
   "metadata": {},
   "source": [
    "### add()\n",
    "If we need to add a single item to the set use the add() method. "
   ]
  },
  {
   "cell_type": "code",
   "execution_count": 10,
   "id": "d5ed008b-5ce6-492d-9bb2-34a79d0df180",
   "metadata": {},
   "outputs": [
    {
     "name": "stdout",
     "output_type": "stream",
     "text": [
      "{'Delhi', 'Madrid', 'Helsinki', 'Tokyo', 'Berlin'}\n"
     ]
    }
   ],
   "source": [
    "cities = {\"Tokyo\", \"Madrid\", \"Berlin\", \"Delhi\"}\n",
    "cities.add(\"Helsinki\")\n",
    "print(cities)"
   ]
  },
  {
   "cell_type": "code",
   "execution_count": null,
   "id": "24edaeba-043f-4b35-8d97-088c0bad6537",
   "metadata": {},
   "outputs": [],
   "source": []
  }
 ],
 "metadata": {
  "kernelspec": {
   "display_name": "Python 3 (ipykernel)",
   "language": "python",
   "name": "python3"
  },
  "language_info": {
   "codemirror_mode": {
    "name": "ipython",
    "version": 3
   },
   "file_extension": ".py",
   "mimetype": "text/x-python",
   "name": "python",
   "nbconvert_exporter": "python",
   "pygments_lexer": "ipython3",
   "version": "3.9.19"
  }
 },
 "nbformat": 4,
 "nbformat_minor": 5
}
