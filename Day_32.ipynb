{
 "cells": [
  {
   "cell_type": "markdown",
   "id": "5fd06bae-a0d4-4ea7-a072-986a39175666",
   "metadata": {},
   "source": [
    "# Joining Sets\n",
    "\n",
    "Sets in python more or less work in the same way as sets in mathematics. we can perform operations like union and intersection on the sets just like in mathematics. \n",
    "\n",
    "### I. union() and update():\n",
    "\n",
    "The union() and update() methods prints all items that are present in the two sets. The union() method returns a new set whereas update() method adds item into the existing set from another set. \n"
   ]
  },
  {
   "cell_type": "code",
   "execution_count": 1,
   "id": "7d8c362b-81b7-4484-adc6-922e88489c4f",
   "metadata": {},
   "outputs": [
    {
     "name": "stdout",
     "output_type": "stream",
     "text": [
      "{'Madrid', 'Seoul', 'Delhi', 'Kabul', 'Tokoyo', 'Berlin'}\n"
     ]
    }
   ],
   "source": [
    "cities = {\"Tokoyo\", \"Madrid\", \"Berlin\", \"Delhi\"}\n",
    "cities2 = {\"Tokoyo\", \"Seoul\", \"Kabul\", \"Madrid\"}\n",
    "cities3 = cities.union(cities2)\n",
    "print(cities3)"
   ]
  },
  {
   "cell_type": "code",
   "execution_count": 2,
   "id": "035ee391-eaf6-4742-8bdc-44341fc811ff",
   "metadata": {},
   "outputs": [
    {
     "name": "stdout",
     "output_type": "stream",
     "text": [
      "{'Madrid', 'Seoul', 'Delhi', 'Tokyo', 'Kabul', 'Berlin'}\n"
     ]
    }
   ],
   "source": [
    "cities = {\"Tokyo\", \"Madrid\", \"Berlin\", \"Delhi\"}\n",
    "cities2 = {\"Tokyo\", \"Seoul\", \"Kabul\", \"Madrid\"}\n",
    "cities.update(cities2)\n",
    "print(cities)"
   ]
  },
  {
   "cell_type": "markdown",
   "id": "ce69e8b7-d0b6-445e-8abb-23b2eee9a16c",
   "metadata": {},
   "source": [
    "### II. intersection and intersection_update()\n",
    "\n",
    "The intersection() and intersection_update() methods prints only items that are similar to both the sets. The intersection() method returns a new set whereas intersection_update() method updates into the existing set from another set. "
   ]
  },
  {
   "cell_type": "code",
   "execution_count": 3,
   "id": "d373c0bc-9b93-4b2a-bb92-b8ab9a778b4a",
   "metadata": {},
   "outputs": [
    {
     "name": "stdout",
     "output_type": "stream",
     "text": [
      "{'Madrid', 'Tokyo'}\n"
     ]
    }
   ],
   "source": [
    "cities = {\"Tokyo\", \"Madrid\", \"Berlin\", \"Delhi\"}\n",
    "cities2 = {\"Tokyo\", \"Seoul\", \"Kabul\", \"Madrid\"}\n",
    "cities3 = cities.intersection(cities2)\n",
    "print(cities3)"
   ]
  },
  {
   "cell_type": "code",
   "execution_count": 4,
   "id": "ed08a338-3441-4419-8395-3da20921cd39",
   "metadata": {},
   "outputs": [
    {
     "name": "stdout",
     "output_type": "stream",
     "text": [
      "{'Madrid', 'Tokyo'}\n"
     ]
    }
   ],
   "source": [
    "cities = {\"Tokyo\", \"Madrid\", \"Berlin\", \"Delhi\"}\n",
    "cities2 = {\"Tokyo\", \"Seoul\", \"Kabul\", \"Madrid\"}\n",
    "cities.intersection_update(cities2)\n",
    "print(cities)"
   ]
  },
  {
   "cell_type": "markdown",
   "id": "f8b1cfcf-59e1-459c-9cfb-79836e072c72",
   "metadata": {},
   "source": [
    "### III. Sysmmetric_difference and symmetric_difference_update():\n",
    "\n",
    "The symmetric_difference() and symmetric_difference_update() methods print only items that are not similar to both the sets. The symmetric_difference() method returns a new set whereas symmetric_difference_update() method updates into the existing set from another. \n"
   ]
  },
  {
   "cell_type": "code",
   "execution_count": 2,
   "id": "43c58dd5-3483-4842-a6c9-6e9e70ccc5c5",
   "metadata": {},
   "outputs": [
    {
     "name": "stdout",
     "output_type": "stream",
     "text": [
      "{'Delhi', 'Kabul', 'Berlin', 'Seoul'}\n"
     ]
    }
   ],
   "source": [
    "cities = {\"Tokoyo\", \"Madrid\", \"Berlin\", \"Delhi\"}\n",
    "cities2 = {\"Tokoyo\", \"Seoul\", \"Kabul\", \"Madrid\"}\n",
    "cities3 = cities.symmetric_difference(cities2)\n",
    "print(cities3) \n"
   ]
  },
  {
   "cell_type": "code",
   "execution_count": 3,
   "id": "695ae4de-eb16-4d29-8a94-2b9863d957a2",
   "metadata": {},
   "outputs": [
    {
     "name": "stdout",
     "output_type": "stream",
     "text": [
      "{'Delhi', 'Kabul', 'Berlin', 'Seoul'}\n"
     ]
    }
   ],
   "source": [
    "cities = {\"Tokyo\", \"Madrid\", \"Berlin\", \"Delhi\"}\n",
    "cities2 = {\"Tokyo\", \"Seoul\", \"Kabul\", \"Madrid\"}\n",
    "cities.symmetric_difference_update(cities2)\n",
    "print(cities)\n"
   ]
  },
  {
   "cell_type": "markdown",
   "id": "972e11b6-111c-4487-9012-96a736d0a3d1",
   "metadata": {},
   "source": [
    "### IV. difference() and difference_update():\n",
    "\n",
    "The difference() and difference_update() methods prints only items that are only present in the original set and not in both the sets. The difference() method returns a new set whereas difference_update() method updates into the existing set from another set. \n",
    "\n"
   ]
  },
  {
   "cell_type": "code",
   "execution_count": 4,
   "id": "71d6d5b7-2002-4044-a178-3a96e6cde862",
   "metadata": {},
   "outputs": [
    {
     "name": "stdout",
     "output_type": "stream",
     "text": [
      "{'Berlin', 'Tokyo', 'Madrid'}\n"
     ]
    }
   ],
   "source": [
    "cities = {\"Tokyo\", \"Madrid\", \"Berlin\", \"Delhi\"}\n",
    "cities2 = {\"Seoul\", \"Kabul\", \"Delhi\"}\n",
    "cities3 = cities.difference(cities2)\n",
    "print(cities3)"
   ]
  },
  {
   "cell_type": "code",
   "execution_count": 5,
   "id": "70edff6c-0759-43e1-a4c9-28b58af5f9d2",
   "metadata": {},
   "outputs": [
    {
     "name": "stdout",
     "output_type": "stream",
     "text": [
      "{'Berlin', 'Tokyo', 'Madrid'}\n"
     ]
    }
   ],
   "source": [
    "cities = {\"Tokyo\", \"Madrid\", \"Berlin\", \"Delhi\"}\n",
    "cities2 = {\"Seoul\", \"Kabul\", \"Delhi\"}\n",
    "print(cities.difference(cities2))"
   ]
  },
  {
   "cell_type": "markdown",
   "id": "e0da0753-730d-4268-9387-a88df5f2047c",
   "metadata": {},
   "source": [
    "# Set Methods\n",
    "\n",
    "There are several in-built methods used for the manipulation of a set. They are explained below. "
   ]
  },
  {
   "cell_type": "markdown",
   "id": "bd635d74-daba-4157-9efc-1ae7d3623ba3",
   "metadata": {},
   "source": [
    "### isdisjoint():\n",
    "The isdisjoint() method checks if items of given set are present in another set. This method returns False if items are present, else it returns True. "
   ]
  },
  {
   "cell_type": "code",
   "execution_count": 6,
   "id": "748821a0-9c41-4358-b7d5-e0d3dcc93478",
   "metadata": {},
   "outputs": [
    {
     "name": "stdout",
     "output_type": "stream",
     "text": [
      "False\n"
     ]
    }
   ],
   "source": [
    "cities = {\"Tokyo\", \"Madrid\", \"Berlin\", \"Delhi\"}\n",
    "cities2 = {\"Tokyo\", \"Seoul\", \"Kabul\", \"Madrid\"}\n",
    "print(cities.isdisjoint(cities2))\n"
   ]
  },
  {
   "cell_type": "markdown",
   "id": "ecd92f44-89df-4fd6-988e-649e74198bc8",
   "metadata": {},
   "source": [
    "### issuperset():\n",
    "The issuperset() method checks if all the items of a particular set are present in the original set. It returns True if all the items are present, else it returns False. "
   ]
  },
  {
   "cell_type": "code",
   "execution_count": 7,
   "id": "4147944e-89e7-48a6-93d2-0b5196eb061e",
   "metadata": {},
   "outputs": [
    {
     "name": "stdout",
     "output_type": "stream",
     "text": [
      "False\n",
      "False\n"
     ]
    }
   ],
   "source": [
    "cities = {\"Tokyo\", \"Madrid\", \"Berlin\", \"Delhi\"}\n",
    "cities2 = {\"Seoul\", \"Kabul\"}\n",
    "print(cities.issuperset(cities2))\n",
    "cities3 = {\"Seoul\", \"Madrid\", \"Kabul\"}\n",
    "print(cities.issuperset(cities3))\n"
   ]
  },
  {
   "cell_type": "markdown",
   "id": "4fa79776-16e9-47a6-b78b-6100dd03d095",
   "metadata": {},
   "source": [
    "### issubset():\n",
    "The issubset() method checks if all the items of the original set are present in the particular set. It returns True if all the items are present, else it returns False. "
   ]
  },
  {
   "cell_type": "code",
   "execution_count": 8,
   "id": "cf65cb9c-6bbe-46a1-b730-0221f2003f83",
   "metadata": {},
   "outputs": [
    {
     "name": "stdout",
     "output_type": "stream",
     "text": [
      "True\n"
     ]
    }
   ],
   "source": [
    "cities = {\"Tokyo\", \"Madrid\", \"Berlin\", \"Delhi\"}\n",
    "cities2 = {\"Delhi\", \"Madrid\"}\n",
    "print(cities2.issubset(cities))\n"
   ]
  },
  {
   "cell_type": "markdown",
   "id": "2a10f5e2-5bb6-41a0-9908-a58693be4858",
   "metadata": {},
   "source": [
    "### add()\n",
    "If we need to add a single item to the set use the add() method. "
   ]
  },
  {
   "cell_type": "code",
   "execution_count": 10,
   "id": "d5ed008b-5ce6-492d-9bb2-34a79d0df180",
   "metadata": {},
   "outputs": [
    {
     "name": "stdout",
     "output_type": "stream",
     "text": [
      "{'Delhi', 'Madrid', 'Helsinki', 'Tokyo', 'Berlin'}\n"
     ]
    }
   ],
   "source": [
    "cities = {\"Tokyo\", \"Madrid\", \"Berlin\", \"Delhi\"}\n",
    "cities.add(\"Helsinki\")\n",
    "print(cities)"
   ]
  },
  {
   "cell_type": "markdown",
   "id": "b63ba937-c49d-4fba-bf68-f5afb3fb1919",
   "metadata": {},
   "source": [
    "### update()\n",
    "\n",
    "If we need to add more than one item, simply create another set or any other iterable object(list, tuple, dictionary), and use the update() method to add it into the existing set. "
   ]
  },
  {
   "cell_type": "code",
   "execution_count": 1,
   "id": "cf285bea-871c-4a0e-8ecc-71f8ef923e6f",
   "metadata": {},
   "outputs": [
    {
     "name": "stdout",
     "output_type": "stream",
     "text": [
      "{'Seoul', 'Warsaw', 'Delhi', 'Berlin', 'Helsinki', 'Tokyo', 'Madrid'}\n"
     ]
    }
   ],
   "source": [
    "cities = {\"Tokyo\", \"Madrid\", \"Berlin\", \"Delhi\"}\n",
    "cities2 = {\"Helsinki\", \"Warsaw\", \"Seoul\"}\n",
    "cities.update(cities2)\n",
    "print(cities)"
   ]
  },
  {
   "cell_type": "markdown",
   "id": "4a92b4db-50b7-47e9-8c80-340c38e2d83f",
   "metadata": {},
   "source": [
    "### remove()/discard()\n",
    "\n",
    "We can use remove() and discard() methods to remove items form list. "
   ]
  },
  {
   "cell_type": "code",
   "execution_count": 2,
   "id": "a7181c64-e6e6-4c9e-a823-8363969d7d9a",
   "metadata": {},
   "outputs": [
    {
     "name": "stdout",
     "output_type": "stream",
     "text": [
      "{'Madrid', 'Delhi', 'Berlin'}\n"
     ]
    }
   ],
   "source": [
    "cities = {\"Tokyo\", \"Madrid\", \"Berlin\", \"Delhi\"}\n",
    "cities.remove(\"Tokyo\")\n",
    "print(cities)"
   ]
  },
  {
   "cell_type": "markdown",
   "id": "70c81cb0-5946-443b-bb0e-dffa0601eeed",
   "metadata": {},
   "source": [
    "The main difference between remove and discard is that, if we try to delete an item which is not present in set, then remove() raises an error, whereas discard() does not raise any error. "
   ]
  },
  {
   "cell_type": "code",
   "execution_count": 3,
   "id": "1af21a97-ee4a-4b5b-9fcd-cd57599168e4",
   "metadata": {},
   "outputs": [
    {
     "ename": "KeyError",
     "evalue": "'Seoul'",
     "output_type": "error",
     "traceback": [
      "\u001b[1;31m---------------------------------------------------------------------------\u001b[0m",
      "\u001b[1;31mKeyError\u001b[0m                                  Traceback (most recent call last)",
      "Cell \u001b[1;32mIn[3], line 2\u001b[0m\n\u001b[0;32m      1\u001b[0m cities \u001b[38;5;241m-\u001b[39m {\u001b[38;5;124m\"\u001b[39m\u001b[38;5;124mTokyo\u001b[39m\u001b[38;5;124m\"\u001b[39m, \u001b[38;5;124m\"\u001b[39m\u001b[38;5;124mMadrid\u001b[39m\u001b[38;5;124m\"\u001b[39m, \u001b[38;5;124m\"\u001b[39m\u001b[38;5;124mBerlin\u001b[39m\u001b[38;5;124m\"\u001b[39m, \u001b[38;5;124m\"\u001b[39m\u001b[38;5;124mDelhi\u001b[39m\u001b[38;5;124m\"\u001b[39m}\n\u001b[1;32m----> 2\u001b[0m \u001b[43mcities\u001b[49m\u001b[38;5;241;43m.\u001b[39;49m\u001b[43mremove\u001b[49m\u001b[43m(\u001b[49m\u001b[38;5;124;43m\"\u001b[39;49m\u001b[38;5;124;43mSeoul\u001b[39;49m\u001b[38;5;124;43m\"\u001b[39;49m\u001b[43m)\u001b[49m\n\u001b[0;32m      3\u001b[0m \u001b[38;5;28mprint\u001b[39m(cities)\n",
      "\u001b[1;31mKeyError\u001b[0m: 'Seoul'"
     ]
    }
   ],
   "source": [
    "cities - {\"Tokyo\", \"Madrid\", \"Berlin\", \"Delhi\"}\n",
    "cities.remove(\"Seoul\")\n",
    "print(cities)"
   ]
  },
  {
   "cell_type": "markdown",
   "id": "a02c42b5-8bb3-4cdb-8230-447ad6b94b78",
   "metadata": {},
   "source": [
    "### pop()\n",
    "This method removes the last item of the set but the catch is that we don't know which item gets popped as sets are unordered. However, we can access the popped item if we assign the pop() method to a variable. "
   ]
  },
  {
   "cell_type": "code",
   "execution_count": 4,
   "id": "51b8c0ff-6701-4486-a5a7-6c06b1572aea",
   "metadata": {},
   "outputs": [
    {
     "name": "stdout",
     "output_type": "stream",
     "text": [
      "{'Madrid', 'Delhi', 'Berlin'}\n",
      "Tokyo\n"
     ]
    }
   ],
   "source": [
    "cities = {\"Tokyo\", \"Madrid\", \"Berlin\", \"Delhi\"}\n",
    "item = cities.pop()\n",
    "print(cities)\n",
    "print(item)"
   ]
  },
  {
   "cell_type": "markdown",
   "id": "e32e9b20-aa25-4597-be7b-cf6b070ab96a",
   "metadata": {},
   "source": [
    "### del\n",
    "del is not a method, rather it is a keyword which deletes the set entirely. "
   ]
  },
  {
   "cell_type": "code",
   "execution_count": 5,
   "id": "874be2b1-3d33-47ef-9e2a-8b99fd802f88",
   "metadata": {},
   "outputs": [
    {
     "ename": "NameError",
     "evalue": "name 'cities' is not defined",
     "output_type": "error",
     "traceback": [
      "\u001b[1;31m---------------------------------------------------------------------------\u001b[0m",
      "\u001b[1;31mNameError\u001b[0m                                 Traceback (most recent call last)",
      "Cell \u001b[1;32mIn[5], line 3\u001b[0m\n\u001b[0;32m      1\u001b[0m cities \u001b[38;5;241m=\u001b[39m {\u001b[38;5;124m\"\u001b[39m\u001b[38;5;124mTokyo\u001b[39m\u001b[38;5;124m\"\u001b[39m, \u001b[38;5;124m\"\u001b[39m\u001b[38;5;124mMadrid\u001b[39m\u001b[38;5;124m\"\u001b[39m, \u001b[38;5;124m\"\u001b[39m\u001b[38;5;124mBerlin\u001b[39m\u001b[38;5;124m\"\u001b[39m, \u001b[38;5;124m\"\u001b[39m\u001b[38;5;124mDelhi\u001b[39m\u001b[38;5;124m\"\u001b[39m}\n\u001b[0;32m      2\u001b[0m \u001b[38;5;28;01mdel\u001b[39;00m cities\n\u001b[1;32m----> 3\u001b[0m \u001b[38;5;28mprint\u001b[39m(\u001b[43mcities\u001b[49m)\n",
      "\u001b[1;31mNameError\u001b[0m: name 'cities' is not defined"
     ]
    }
   ],
   "source": [
    "cities = {\"Tokyo\", \"Madrid\", \"Berlin\", \"Delhi\"}\n",
    "del cities\n",
    "print(cities)"
   ]
  },
  {
   "cell_type": "markdown",
   "id": "dac207b6-382c-493a-ae8b-75616564d440",
   "metadata": {},
   "source": [
    "**Output:**\n",
    "NameError: name 'cities' is not defined We get an error because our entire set has been deleted and there is no variable called cities which contains a set. \n",
    "\n",
    "What if we don't want to delete the entire set, we just want to delete all items within that set?"
   ]
  },
  {
   "cell_type": "markdown",
   "id": "51fa40fe-75c2-4e14-94b7-4a6f1e433bc9",
   "metadata": {},
   "source": [
    "### clear():\n",
    "This method clears all items in the set and prints an empty set.\n"
   ]
  },
  {
   "cell_type": "code",
   "execution_count": 6,
   "id": "dc5d918c-d30a-43a1-944d-8d66e409205b",
   "metadata": {},
   "outputs": [
    {
     "name": "stdout",
     "output_type": "stream",
     "text": [
      "set()\n"
     ]
    }
   ],
   "source": [
    "cities = {\"Tokyo\", \"Madrid\", \"Berlin\", \"Delhi\"}\n",
    "cities.clear()\n",
    "print(cities)"
   ]
  },
  {
   "cell_type": "markdown",
   "id": "5db70611-93b1-4e0e-9c94-05ac5510b48e",
   "metadata": {},
   "source": [
    "### Check if item exists\n",
    "We can also check if an item exists in the set or not. "
   ]
  },
  {
   "cell_type": "code",
   "execution_count": 7,
   "id": "199fb9ed-88ea-400e-83a7-a3105611944e",
   "metadata": {},
   "outputs": [
    {
     "name": "stdout",
     "output_type": "stream",
     "text": [
      "Carla is present.\n"
     ]
    }
   ],
   "source": [
    "info = {\"Carla\", 19, False, 5.9}\n",
    "if \"Carla\" in info:\n",
    "    print(\"Carla is present.\")\n",
    "else:\n",
    "    print(\"Carla is absent.\")"
   ]
  },
  {
   "cell_type": "code",
   "execution_count": null,
   "id": "56dacb2b-94d2-4cf7-b674-f1b3f6a2b179",
   "metadata": {},
   "outputs": [],
   "source": []
  }
 ],
 "metadata": {
  "kernelspec": {
   "display_name": "Python 3 (ipykernel)",
   "language": "python",
   "name": "python3"
  },
  "language_info": {
   "codemirror_mode": {
    "name": "ipython",
    "version": 3
   },
   "file_extension": ".py",
   "mimetype": "text/x-python",
   "name": "python",
   "nbconvert_exporter": "python",
   "pygments_lexer": "ipython3",
   "version": "3.9.19"
  }
 },
 "nbformat": 4,
 "nbformat_minor": 5
}
