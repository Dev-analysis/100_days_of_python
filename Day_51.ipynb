{
 "cells": [
  {
   "cell_type": "markdown",
   "id": "c5f437a6-f684-4a53-93ee-a41f9b64d397",
   "metadata": {},
   "source": [
    "## seek() and tell() functions\n",
    "In python, the seek() and tell() functions are used to work with file objects and their positions within a file. These functions are part of the built-in **io** mdoule, which provides a consistent interface for reading and writing to various file-like objects, such as files, pipes, and in-memory buffers. \n"
   ]
  },
  {
   "cell_type": "markdown",
   "id": "5fee6a33-0cc5-49ae-a61b-e0afe4e6d4ad",
   "metadata": {},
   "source": [
    "## seek() function\n",
    "The seek() function allows us to move the current position within a file to a specific point. The position is specified in bytes, and we can move either forward or backward from the current position. For example:"
   ]
  },
  {
   "cell_type": "code",
   "execution_count": 1,
   "id": "14f14843-5156-4e00-b8f1-edd653be8777",
   "metadata": {},
   "outputs": [],
   "source": [
    "with open('zen_poem.txt', 'r') as f:\n",
    "    # Move to the 10th byte in the file\n",
    "    f.seek(10)\n",
    "\n",
    "    #Read the next 5 bytes\n",
    "    data = f.read(5)\n",
    "    "
   ]
  },
  {
   "cell_type": "markdown",
   "id": "84f8aa46-e293-41a0-9ead-5cd8d9a20ac3",
   "metadata": {},
   "source": [
    "## tell() function\n",
    "The tell() function returns the current position within the file, in bytes. This can be useful for keeping track of your location within the file or for seeking to a specific position relative to the current position. For example:\n",
    "\n"
   ]
  },
  {
   "cell_type": "code",
   "execution_count": 2,
   "id": "27cd9e46-673c-485b-8fe9-1ee0254effc1",
   "metadata": {},
   "outputs": [],
   "source": [
    "with open('zen_opem.txt', 'r') as f:\n",
    "    # Read the first 10 bytes\n",
    "    data = f.read(10)\n",
    "\n",
    "    # Save the current position\n",
    "    current_position = f.tell()\n",
    "\n",
    "    # Seek to the saved position\n",
    "    f.seek(current_position)"
   ]
  },
  {
   "cell_type": "markdown",
   "id": "e64c778c-dbf8-4989-8794-ce91b18fecb0",
   "metadata": {},
   "source": [
    "## truncate() function\n",
    "When we open a file in Python using the open function, we can specify the mode in which we want to open the file. If we specify the mode as 'w' or 'a', the file is opened in  write mode and we can only write to the file. However, if we want to truncate the file to a specific size, we can use the truncate function. \n",
    "\n",
    "Here is an example of how to use the truncate function: \n",
    "\n",
    "\n"
   ]
  },
  {
   "cell_type": "code",
   "execution_count": 3,
   "id": "458689bc-3d3b-42a2-8a48-eccd07904f56",
   "metadata": {},
   "outputs": [
    {
     "name": "stdout",
     "output_type": "stream",
     "text": [
      "Hello\n"
     ]
    }
   ],
   "source": [
    "with open ('sample.txt', 'w') as f:\n",
    "    f.write(\"Hello World!\")\n",
    "    f.truncate(5)\n",
    "\n",
    "with open('sample.txt', 'r') as f:\n",
    "    print(f.read())"
   ]
  },
  {
   "cell_type": "code",
   "execution_count": null,
   "id": "5083f98d-253d-4aaf-ba21-37ce39720e06",
   "metadata": {},
   "outputs": [],
   "source": []
  }
 ],
 "metadata": {
  "kernelspec": {
   "display_name": "Python 3 (ipykernel)",
   "language": "python",
   "name": "python3"
  },
  "language_info": {
   "codemirror_mode": {
    "name": "ipython",
    "version": 3
   },
   "file_extension": ".py",
   "mimetype": "text/x-python",
   "name": "python",
   "nbconvert_exporter": "python",
   "pygments_lexer": "ipython3",
   "version": "3.9.19"
  }
 },
 "nbformat": 4,
 "nbformat_minor": 5
}
