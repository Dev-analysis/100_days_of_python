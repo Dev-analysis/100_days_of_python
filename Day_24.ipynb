{
 "cells": [
  {
   "cell_type": "markdown",
   "id": "ff4bc56b-d7c5-49b7-a930-3069765f4d9c",
   "metadata": {},
   "source": [
    "# Python Tuples\n",
    "\n",
    "Tuples are ordered collection of data items. They store multiple items in a single variable. Tuple items are separated by commas and enclosed within round brackets ( ). Tuples are unchangeable meaning we can not alter them after creation. "
   ]
  },
  {
   "cell_type": "code",
   "execution_count": 1,
   "id": "015bcceb-aedb-45e8-93d7-cdc658d1c895",
   "metadata": {},
   "outputs": [
    {
     "name": "stdout",
     "output_type": "stream",
     "text": [
      "(1, 2, 2, 3, 5, 4, 6)\n",
      "('Red', 'Green', 'Blue')\n"
     ]
    }
   ],
   "source": [
    "tuple1 = (1,2,2,3,5,4,6)\n",
    "tuple2 = (\"Red\", \"Green\", \"Blue\")\n",
    "print(tuple1)\n",
    "print(tuple2)"
   ]
  },
  {
   "cell_type": "code",
   "execution_count": 2,
   "id": "e9b4fc0d-d3ae-49e4-aa17-a18f55d718e6",
   "metadata": {},
   "outputs": [
    {
     "name": "stdout",
     "output_type": "stream",
     "text": [
      "('Abijeet', 18, 'FYBScIT', 9.8)\n"
     ]
    }
   ],
   "source": [
    "details = (\"Abijeet\", 18, \"FYBScIT\", 9.8)\n",
    "print(details)"
   ]
  },
  {
   "cell_type": "markdown",
   "id": "80da4c0b-fa16-4397-bf36-14d239ed6596",
   "metadata": {},
   "source": [
    "## Tuple Indexes\n",
    "\n",
    "Each item/element in a tuple has its own unique index. This index can be used to access any particular item from the tuple. The first item has index[0], second item has index[1], third item has index[2] and so on. \n",
    "\n"
   ]
  },
  {
   "cell_type": "code",
   "execution_count": 3,
   "id": "21d411e0-53c3-4c35-b482-6d220c9ac8c0",
   "metadata": {},
   "outputs": [],
   "source": [
    "country = (\"Spain\", \"Italy\", \"India\")\n",
    "#           [0]       [1]       [2]"
   ]
  },
  {
   "cell_type": "markdown",
   "id": "77a0f5d3-8b85-4d63-ad1b-091f8f8c5467",
   "metadata": {},
   "source": [
    "### Accessing tuple items:\n",
    "\n",
    "**I. Positive Indexing:**\n",
    "\n",
    "We can access tuple items using their respective indexes. "
   ]
  },
  {
   "cell_type": "code",
   "execution_count": 4,
   "id": "b7de84c5-9f30-48c5-ab27-2f1098584e2b",
   "metadata": {},
   "outputs": [
    {
     "name": "stdout",
     "output_type": "stream",
     "text": [
      "Spain\n",
      "Italy\n",
      "India\n"
     ]
    }
   ],
   "source": [
    "country = (\"Spain\", \"Italy\", \"India\")\n",
    "#           [0]       [1]      [2]\n",
    "\n",
    "print(country[0])\n",
    "print(country[1])\n",
    "print(country[2])"
   ]
  },
  {
   "cell_type": "markdown",
   "id": "f3d98a81-f8d0-4e2b-be6b-da9c4bb883b2",
   "metadata": {},
   "source": [
    "**II. Negative Indexing:**\n",
    "\n",
    "Similar to positive indexing, negative indexing is also used to access items, but from the end of the tuple. The last item has index [-1], second last index has index [-2], third last item has index [-3] and so on."
   ]
  },
  {
   "cell_type": "code",
   "execution_count": 6,
   "id": "4c33aa40-2db3-4351-9be2-554b1493d372",
   "metadata": {},
   "outputs": [
    {
     "name": "stdout",
     "output_type": "stream",
     "text": [
      "Germany\n",
      "India\n",
      "Italy\n"
     ]
    }
   ],
   "source": [
    "country = (\"Spain\", \"Italy\", \"India\", \"England\", \"Germany\")\n",
    "#            [0]      [1]      [2]       [3]        [4]\n",
    "print(country[-1]) \n",
    "# Similar to print(country[len(country) - 1])\n",
    "print(country[-3])\n",
    "print(country[-4])"
   ]
  },
  {
   "cell_type": "markdown",
   "id": "95df1835-ea27-4507-90b1-a4705427d67f",
   "metadata": {},
   "source": [
    "**III. Check for item:**\n",
    "\n",
    "We can check if a given item is present in the tuple. This is done using the \"in\" keyword."
   ]
  },
  {
   "cell_type": "code",
   "execution_count": 7,
   "id": "c4e58e31-4955-4eb0-b3d5-3652e561cca1",
   "metadata": {},
   "outputs": [
    {
     "name": "stdout",
     "output_type": "stream",
     "text": [
      "Germany is present.\n"
     ]
    }
   ],
   "source": [
    "country = (\"Spain\", \"Italy\", \"India\", \"England\", \"Germany\")\n",
    "if \"Germany\" in country:\n",
    "    print(\"Germany is present.\")\n",
    "else:\n",
    "    print(\"Germany is absent.\")"
   ]
  },
  {
   "cell_type": "code",
   "execution_count": 8,
   "id": "9ee713ab-d0b3-4099-9295-1823cab3ffdf",
   "metadata": {},
   "outputs": [
    {
     "name": "stdout",
     "output_type": "stream",
     "text": [
      "Russia is absent\n"
     ]
    }
   ],
   "source": [
    "country = (\"Spain\", \"Italy\", \"India\", \"England\", \"Germany\")\n",
    "if \"Russia\" in country:\n",
    "    print(\"Russia is present\")\n",
    "else:\n",
    "    print(\"Russia is absent\")"
   ]
  },
  {
   "cell_type": "markdown",
   "id": "cf9c1751-f6cd-4ea1-b62f-3674e366b5cd",
   "metadata": {},
   "source": [
    "**IV. Range of Index:**\n",
    "\n",
    "We can print a range of tuple items by specifying where do we want to start, where do we want to end and if we want to skip elements in between the range. \n",
    "\n",
    "**Syntax:**\n",
    "\n",
    "Tuple[Start : end : jumpIndex]\n",
    "\n",
    "Note: jumpIndex is optional. We will see this in given examples. "
   ]
  },
  {
   "cell_type": "code",
   "execution_count": 9,
   "id": "95df3a5a-5793-41d5-b9ae-1c6af1f608e4",
   "metadata": {},
   "outputs": [
    {
     "name": "stdout",
     "output_type": "stream",
     "text": [
      "('mouse', 'pig', 'horse', 'donkey')\n",
      "('bat', 'mouse', 'pig', 'horse', 'donkey')\n"
     ]
    }
   ],
   "source": [
    "# Example: Printing elements within a particular range:\n",
    "\n",
    "animals = (\"cat\", \"dog\", \"bat\", \"mouse\", \"pig\", \"horse\", \"donkey\", \"goat\", \"cow\")\n",
    "print(animals[3:7])\n",
    "print(animals[-7:-2])"
   ]
  },
  {
   "cell_type": "code",
   "execution_count": 10,
   "id": "14f9e718-a078-458c-9690-9d5d7b4bc45d",
   "metadata": {},
   "outputs": [
    {
     "name": "stdout",
     "output_type": "stream",
     "text": [
      "('pig', 'horse', 'donkey', 'goat', 'cow')\n",
      "('horse', 'donkey', 'goat', 'cow')\n"
     ]
    }
   ],
   "source": [
    "# Example: Printing all elements from a given index till the end\n",
    "\n",
    "animals = (\"cat\", \"dog\", \"bat\", \"mouse\", \"pig\", \"horse\", \"donkey\", \"goat\", \"cow\")\n",
    "print(animals[4:])\n",
    "print(animals[-4:])"
   ]
  },
  {
   "cell_type": "code",
   "execution_count": 11,
   "id": "29840bf3-9f92-48b5-9fad-731ad3698b35",
   "metadata": {},
   "outputs": [
    {
     "name": "stdout",
     "output_type": "stream",
     "text": [
      "('cat', 'dog', 'bat')\n",
      "('cat', 'dog', 'bat', 'mouse', 'pig', 'horse')\n"
     ]
    }
   ],
   "source": [
    "#Example: printing all elements from start to a given index\n",
    "\n",
    "animals = (\"cat\", \"dog\", \"bat\", \"mouse\", \"pig\", \"horse\", \"donkey\", \"goat\", \"cow\")\n",
    "print(animals[:-6])\n",
    "print(animals[:-3])"
   ]
  },
  {
   "cell_type": "code",
   "execution_count": 12,
   "id": "f96e27e8-f709-457b-825e-69f83142a7f0",
   "metadata": {},
   "outputs": [
    {
     "name": "stdout",
     "output_type": "stream",
     "text": [
      "('cat', 'bat', 'pig', 'donkey', 'cow')\n",
      "('dog', 'mouse', 'horse', 'goat')\n"
     ]
    }
   ],
   "source": [
    "# Example: Print alternate values\n",
    "\n",
    "animals = (\"cat\", \"dog\", \"bat\", \"mouse\", \"pig\", \"horse\", \"donkey\", \"goat\", \"cow\")\n",
    "print(animals[::2])\n",
    "print(animals[-8:-1:2])"
   ]
  },
  {
   "cell_type": "code",
   "execution_count": 14,
   "id": "a49bc146-e626-472a-8478-9d481431865f",
   "metadata": {},
   "outputs": [
    {
     "name": "stdout",
     "output_type": "stream",
     "text": [
      "('dog', 'pig', 'goat')\n"
     ]
    }
   ],
   "source": [
    "# Example: printing every 3rd consecutive within given range\n",
    "\n",
    "animals = (\"cat\", \"dog\", \"bat\", \"mouse\", \"pig\", \"horse\", \"donkey\", \"goat\", \"cow\")\n",
    "print(animals[1:8:3])"
   ]
  },
  {
   "cell_type": "code",
   "execution_count": null,
   "id": "cc263ca9-a322-468f-860f-da02d9783940",
   "metadata": {},
   "outputs": [],
   "source": []
  }
 ],
 "metadata": {
  "kernelspec": {
   "display_name": "Python 3 (ipykernel)",
   "language": "python",
   "name": "python3"
  },
  "language_info": {
   "codemirror_mode": {
    "name": "ipython",
    "version": 3
   },
   "file_extension": ".py",
   "mimetype": "text/x-python",
   "name": "python",
   "nbconvert_exporter": "python",
   "pygments_lexer": "ipython3",
   "version": "3.9.19"
  }
 },
 "nbformat": 4,
 "nbformat_minor": 5
}
