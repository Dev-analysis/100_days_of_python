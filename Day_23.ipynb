{
 "cells": [
  {
   "cell_type": "markdown",
   "id": "3c1dfc41-596c-4f55-96ed-a4db022dc28d",
   "metadata": {},
   "source": [
    "# List Methods\n",
    "\n",
    "**list.sort():**\n",
    "This method sorts the list in ascending order."
   ]
  },
  {
   "cell_type": "code",
   "execution_count": 1,
   "id": "0f6a83e6-8fbd-4059-a9bc-ca89133e009f",
   "metadata": {},
   "outputs": [
    {
     "name": "stdout",
     "output_type": "stream",
     "text": [
      "['blue', 'green', 'indigo', 'voilet']\n",
      "[1, 1, 2, 2, 2, 3, 3, 4, 5, 6, 7, 8, 9]\n"
     ]
    }
   ],
   "source": [
    "colors = [\"voilet\", \"indigo\", \"blue\", \"green\"]\n",
    "colors.sort()\n",
    "print(colors)\n",
    "\n",
    "num = [4,2,3,5,3,6,1,2,1,2,8,9,7]\n",
    "num.sort()\n",
    "print(num)"
   ]
  },
  {
   "cell_type": "markdown",
   "id": "86783827-9ffa-41f0-99b1-6f0e41a8d203",
   "metadata": {},
   "source": [
    "What if we don't want to print the list in descending order? \n",
    "We must give reverse=True as a parameter in the sort method. "
   ]
  },
  {
   "cell_type": "code",
   "execution_count": 2,
   "id": "737e43a1-eac7-4f4c-a9f5-88168025176e",
   "metadata": {},
   "outputs": [
    {
     "name": "stdout",
     "output_type": "stream",
     "text": [
      "['voilet', 'indigo', 'green', 'blue']\n",
      "[9, 8, 7, 6, 5, 4, 3, 2, 2, 2, 1, 1]\n"
     ]
    }
   ],
   "source": [
    "colors = [\"voilet\", \"indigo\", \"blue\", \"green\"]\n",
    "colors.sort(reverse=True)\n",
    "print(colors)\n",
    "\n",
    "num = [4,2,5,3,6,1,2,1,2,8,9,7]\n",
    "num.sort(reverse = True)\n",
    "print(num)"
   ]
  },
  {
   "cell_type": "markdown",
   "id": "855e1d6b-6a04-455e-baa3-414c948f9651",
   "metadata": {},
   "source": [
    "The reverse parameter is set to False by default. \n",
    "\n",
    "(Note: Do not mistake the reverse parameter with the reverse method)"
   ]
  },
  {
   "cell_type": "markdown",
   "id": "9e934d92-7d8d-49f2-832d-045eb96f8920",
   "metadata": {},
   "source": [
    "**reverse():**\n",
    "This method reverses the order of the list. "
   ]
  },
  {
   "cell_type": "code",
   "execution_count": 5,
   "id": "2117adb9-a3b0-4b8f-b351-8df800728a3b",
   "metadata": {},
   "outputs": [
    {
     "name": "stdout",
     "output_type": "stream",
     "text": [
      "['green', 'blue', 'indigo', 'voilet']\n",
      "[7, 9, 8, 2, 1, 2, 1, 6, 3, 5, 2, 4]\n"
     ]
    }
   ],
   "source": [
    "colors = [\"voilet\", \"indigo\", \"blue\", \"green\"]\n",
    "colors.reverse()\n",
    "print(colors)\n",
    "\n",
    "num = [4,2,5,3,6,1,2,1,2,8,9,7]\n",
    "num.reverse()\n",
    "print(num)"
   ]
  },
  {
   "cell_type": "markdown",
   "id": "14f57205-5d6e-4f32-ae43-d9529dd3fd42",
   "metadata": {},
   "source": [
    "**index():**\n",
    "This method returns the index of the first occurrence of the list item. \n"
   ]
  },
  {
   "cell_type": "code",
   "execution_count": 6,
   "id": "f9d96ffb-b0af-4998-9730-698e2d908268",
   "metadata": {},
   "outputs": [
    {
     "name": "stdout",
     "output_type": "stream",
     "text": [
      "1\n",
      "3\n"
     ]
    }
   ],
   "source": [
    "colors = [\"voilet\", \"green\", \"indigo\", \"blue\", \"green\"]\n",
    "print(colors.index(\"green\"))\n",
    "\n",
    "num = [4,2,5,3,6,1,2,1,3,2,8,9,7]\n",
    "print(num.index(3))"
   ]
  },
  {
   "cell_type": "markdown",
   "id": "9259696d-8264-42a0-a971-f24b20cb550d",
   "metadata": {},
   "source": [
    "**count():**\n",
    "Returns the count of the number of items with given value. "
   ]
  },
  {
   "cell_type": "code",
   "execution_count": 8,
   "id": "95289075-bbc8-4849-b659-41a444cb1d50",
   "metadata": {},
   "outputs": [
    {
     "name": "stdout",
     "output_type": "stream",
     "text": [
      "2\n",
      "1\n"
     ]
    }
   ],
   "source": [
    "colors = [\"voilet\", \"green\", \"indigo\", \"blue\", \"green\"]\n",
    "print(colors.count(\"green\"))\n",
    "\n",
    "num = [4,2,5,3,6,1,2,1,3,2,8,9,7]\n",
    "print(num.count(6))"
   ]
  },
  {
   "cell_type": "markdown",
   "id": "10d28f4c-29e4-43bd-80c3-55113416b835",
   "metadata": {},
   "source": [
    "**copy():**\n",
    "Returns copy of the list. This can be done to perform operations on the list without modifying the original list. "
   ]
  },
  {
   "cell_type": "code",
   "execution_count": 9,
   "id": "e43855dd-060f-4d1f-9145-f1e091d303cd",
   "metadata": {},
   "outputs": [
    {
     "name": "stdout",
     "output_type": "stream",
     "text": [
      "['voilet', 'green', 'indigo', 'blue']\n",
      "['voilet', 'green', 'indigo', 'blue']\n"
     ]
    }
   ],
   "source": [
    "colors = [\"voilet\", \"green\", \"indigo\", \"blue\"]\n",
    "newlist = colors.copy()\n",
    "print(colors)\n",
    "print(newlist)"
   ]
  },
  {
   "cell_type": "markdown",
   "id": "a1dc421a-05f2-4f49-be71-f2f860733dc8",
   "metadata": {},
   "source": [
    "**append():**\n",
    "This method appends items to the end of the existing list"
   ]
  },
  {
   "cell_type": "code",
   "execution_count": 11,
   "id": "de196948-a5c7-4a49-a7a4-210d0b929735",
   "metadata": {},
   "outputs": [
    {
     "name": "stdout",
     "output_type": "stream",
     "text": [
      "['voilet', 'indigo', 'blue', 'green']\n"
     ]
    }
   ],
   "source": [
    "colors = [\"voilet\", \"indigo\", \"blue\"]\n",
    "colors.append(\"green\")\n",
    "print(colors)"
   ]
  },
  {
   "cell_type": "markdown",
   "id": "9b575eb9-7aba-4302-a8aa-fe543dbb5e94",
   "metadata": {},
   "source": [
    "**insert():**\n",
    "This method inserts an item at the given index. User has to specify index and the item to be inserted within the insert() method. "
   ]
  },
  {
   "cell_type": "code",
   "execution_count": 14,
   "id": "ff209ac2-9686-48f5-96b4-4e0ae49fd24a",
   "metadata": {},
   "outputs": [
    {
     "name": "stdout",
     "output_type": "stream",
     "text": [
      "['voilet', 'green', 'indigo', 'blue']\n"
     ]
    }
   ],
   "source": [
    "colors = [\"voilet\", \"indigo\", \"blue\"]\n",
    "#          [0]         [1]      [2]\n",
    "\n",
    "colors.insert(1,\"green\")\n",
    "print(colors)"
   ]
  },
  {
   "cell_type": "markdown",
   "id": "fd409205-c13d-4edb-931d-84edad7e7370",
   "metadata": {},
   "source": [
    "**extend():**\n",
    "This method adds an entire list or any other collection datatype (set, tuple, dictionary) to the existing list. "
   ]
  },
  {
   "cell_type": "code",
   "execution_count": 15,
   "id": "7004845c-e5e0-48e4-bbb1-0a93ae8e245f",
   "metadata": {},
   "outputs": [
    {
     "name": "stdout",
     "output_type": "stream",
     "text": [
      "['voilet', 'indigo', 'blue', 'green', 'yellow', 'orange', 'red']\n"
     ]
    }
   ],
   "source": [
    "#adding a list to a list\n",
    "colors = [\"voilet\", \"indigo\", \"blue\"] \n",
    "rainbow = [\"green\", \"yellow\", \"orange\", \"red\"]\n",
    "colors.extend(rainbow)\n",
    "print(colors)"
   ]
  },
  {
   "cell_type": "markdown",
   "id": "b6682cf4-2140-482c-b367-1b381cb603f2",
   "metadata": {},
   "source": [
    "**Concatenating two lists:**\n",
    "We can simply concatenate two lists to join two lists. \n"
   ]
  },
  {
   "cell_type": "code",
   "execution_count": 16,
   "id": "a8262fd7-9102-486f-ba7b-49748d21f66d",
   "metadata": {},
   "outputs": [
    {
     "name": "stdout",
     "output_type": "stream",
     "text": [
      "['voilet', 'indigo', 'blue', 'green', 'yellow', 'oragne', 'red']\n"
     ]
    }
   ],
   "source": [
    "colors = [\"voilet\", \"indigo\", \"blue\", \"green\"]\n",
    "colors2 = [\"yellow\", \"oragne\", \"red\"]\n",
    "print(colors + colors2)"
   ]
  },
  {
   "cell_type": "code",
   "execution_count": null,
   "id": "a0360d8a-9891-4880-9889-f0160b5161f7",
   "metadata": {},
   "outputs": [],
   "source": []
  }
 ],
 "metadata": {
  "kernelspec": {
   "display_name": "Python 3 (ipykernel)",
   "language": "python",
   "name": "python3"
  },
  "language_info": {
   "codemirror_mode": {
    "name": "ipython",
    "version": 3
   },
   "file_extension": ".py",
   "mimetype": "text/x-python",
   "name": "python",
   "nbconvert_exporter": "python",
   "pygments_lexer": "ipython3",
   "version": "3.9.19"
  }
 },
 "nbformat": 4,
 "nbformat_minor": 5
}
