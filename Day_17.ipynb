{
 "cells": [
  {
   "cell_type": "markdown",
   "id": "f4e67be5-f924-4fe5-9568-66df565c53df",
   "metadata": {},
   "source": [
    "# Introduction to Loops\n",
    "Sometimes a programmer wants to execute a group of statements a certain number of times. This can be done using loops. Based on this loops are further classified into following main types; \n",
    " 1. for loop\n",
    " 2. while loop\n"
   ]
  },
  {
   "cell_type": "markdown",
   "id": "fed63fd9-3258-43eb-9a6e-b5df8597ab94",
   "metadata": {},
   "source": [
    "## The for loop\n",
    "\n",
    "for loop can iterate over a sequence of iterable objects in python. Iterating over a sequence is nothing but iterating over strings, lists, tuples, sets and dictionaries. "
   ]
  },
  {
   "cell_type": "code",
   "execution_count": 1,
   "id": "84920d72-3dc2-451a-a65e-901fe1f09512",
   "metadata": {},
   "outputs": [
    {
     "name": "stdout",
     "output_type": "stream",
     "text": [
      "3.9.12\n"
     ]
    }
   ],
   "source": [
    "from platform import python_version\n",
    "print(python_version())"
   ]
  },
  {
   "cell_type": "code",
   "execution_count": null,
   "id": "7b076c41-97ab-4234-a673-b1207271c6ae",
   "metadata": {},
   "outputs": [],
   "source": []
  }
 ],
 "metadata": {
  "kernelspec": {
   "display_name": "Python 3 (ipykernel)",
   "language": "python",
   "name": "python3"
  },
  "language_info": {
   "codemirror_mode": {
    "name": "ipython",
    "version": 3
   },
   "file_extension": ".py",
   "mimetype": "text/x-python",
   "name": "python",
   "nbconvert_exporter": "python",
   "pygments_lexer": "ipython3",
   "version": "3.9.12"
  }
 },
 "nbformat": 4,
 "nbformat_minor": 5
}
