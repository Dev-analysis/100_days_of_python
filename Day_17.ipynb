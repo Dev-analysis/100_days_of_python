{
 "cells": [
  {
   "cell_type": "markdown",
   "id": "f4e67be5-f924-4fe5-9568-66df565c53df",
   "metadata": {},
   "source": [
    "# Introduction to Loops\n",
    "Sometimes a programmer wants to execute a group of statements a certain number of times. This can be done using loops. Based on this loops are further classified into following main types; \n",
    " 1. for loop\n",
    " 2. while loop\n"
   ]
  },
  {
   "cell_type": "markdown",
   "id": "fed63fd9-3258-43eb-9a6e-b5df8597ab94",
   "metadata": {},
   "source": [
    "## The for loop\n",
    "\n",
    "for loop can iterate over a sequence of iterable objects in python. Iterating over a sequence is nothing but iterating over strings, lists, tuples, sets and dictionaries. "
   ]
  },
  {
   "cell_type": "markdown",
   "id": "2bc3e22a-668b-4fc6-a0ff-c70700fa124d",
   "metadata": {},
   "source": [
    "**iterating over a string**"
   ]
  },
  {
   "cell_type": "code",
   "execution_count": 5,
   "id": "c35147fc-52d6-4867-b09c-288a6476d1d6",
   "metadata": {},
   "outputs": [
    {
     "name": "stdout",
     "output_type": "stream",
     "text": [
      "A,b,h,i,s,h,e,k,"
     ]
    }
   ],
   "source": [
    "name = 'Abhishek'\n",
    "for i in name:\n",
    "    print(i, end=\",\")\n",
    "    "
   ]
  },
  {
   "cell_type": "markdown",
   "id": "a6e26567-9c93-4922-806f-4a044d1dd1b0",
   "metadata": {},
   "source": [
    "**iterating over a list**"
   ]
  },
  {
   "cell_type": "code",
   "execution_count": 6,
   "id": "7b076c41-97ab-4234-a673-b1207271c6ae",
   "metadata": {},
   "outputs": [
    {
     "name": "stdout",
     "output_type": "stream",
     "text": [
      "Red\n",
      "Green\n",
      "Blue\n",
      "Yellow\n"
     ]
    }
   ],
   "source": [
    "colors = [\"Red\", \"Green\", \"Blue\", \"Yellow\"]\n",
    "for x in colors:\n",
    "    print(x)"
   ]
  },
  {
   "cell_type": "markdown",
   "id": "8e217762-7b97-4ffa-8267-288aeb655407",
   "metadata": {},
   "source": [
    "**similarly, we can use loops for lists, sets and dictionaries.**"
   ]
  },
  {
   "cell_type": "markdown",
   "id": "01260ef1-87f7-4a1a-b7bd-492b0181cfff",
   "metadata": {},
   "source": [
    "### Range():\n",
    "\n",
    "when we want to use loop for a **specific number of time** we use range() function. "
   ]
  },
  {
   "cell_type": "code",
   "execution_count": 11,
   "id": "ad9e6fe4-0c8c-4654-ba5c-d8de46814471",
   "metadata": {},
   "outputs": [
    {
     "name": "stdout",
     "output_type": "stream",
     "text": [
      "0\n",
      "1\n",
      "2\n",
      "3\n",
      "4\n"
     ]
    }
   ],
   "source": [
    "for k in range(5):\n",
    "    print(k)"
   ]
  },
  {
   "cell_type": "code",
   "execution_count": 13,
   "id": "5c23b204-589e-4456-912d-a105db7f105a",
   "metadata": {},
   "outputs": [],
   "source": [
    "#here, we can see that the loop starts from 0 by default and increments\n",
    "#at each iteration. but we can also loop over a specific range. "
   ]
  },
  {
   "cell_type": "code",
   "execution_count": 14,
   "id": "b9de8141-5754-4712-a92a-ff866b72885f",
   "metadata": {},
   "outputs": [
    {
     "name": "stdout",
     "output_type": "stream",
     "text": [
      "4\n",
      "5\n",
      "6\n",
      "7\n",
      "8\n"
     ]
    }
   ],
   "source": [
    "for k in range(4,9): \n",
    "    print(k)"
   ]
  },
  {
   "cell_type": "markdown",
   "id": "8edc443e-7d7e-4502-a8c3-1fbcc22fe503",
   "metadata": {},
   "source": [
    "**Quiz: Explore about the third parameter in range (i.e, range(x,y,z))**"
   ]
  },
  {
   "cell_type": "code",
   "execution_count": 18,
   "id": "7eeac448-8d83-4282-bd92-ed8a7779f2ab",
   "metadata": {},
   "outputs": [
    {
     "name": "stdout",
     "output_type": "stream",
     "text": [
      "4\n",
      "5\n",
      "6\n",
      "7\n",
      "8\n",
      "9\n",
      "10\n",
      "11\n",
      "12\n",
      "13\n",
      "14\n",
      "15\n"
     ]
    }
   ],
   "source": [
    "for k in range(4,16):\n",
    "    print(k)"
   ]
  },
  {
   "cell_type": "code",
   "execution_count": 20,
   "id": "657c7478-e644-4fc3-9478-e5ed332bca58",
   "metadata": {},
   "outputs": [
    {
     "name": "stdout",
     "output_type": "stream",
     "text": [
      "4\n",
      "5\n",
      "6\n",
      "7\n",
      "8\n",
      "9\n",
      "10\n",
      "11\n",
      "12\n",
      "13\n",
      "14\n",
      "15\n"
     ]
    }
   ],
   "source": [
    "for k in range(4,16,1):\n",
    "    print(k)"
   ]
  },
  {
   "cell_type": "code",
   "execution_count": 21,
   "id": "f2e572a8-9c55-417b-aa39-df71eda239d7",
   "metadata": {},
   "outputs": [
    {
     "name": "stdout",
     "output_type": "stream",
     "text": [
      "4\n",
      "6\n",
      "8\n",
      "10\n",
      "12\n",
      "14\n"
     ]
    }
   ],
   "source": [
    "for k in range(4,16,2):\n",
    "    print(k)"
   ]
  },
  {
   "cell_type": "markdown",
   "id": "bbf5e708-3c18-4688-8531-bdbefb9a7be7",
   "metadata": {},
   "source": [
    "1. The default value of the third parameter in the range is 1.\n",
    "2. The third parameter represents incremental value.\n",
    "   example: start with 4, increment by 2, and stop at 16 (while the stop value is not included, 16)"
   ]
  },
  {
   "cell_type": "code",
   "execution_count": null,
   "id": "1cbbfe35-8bf2-4590-ba66-2223ec52026a",
   "metadata": {},
   "outputs": [],
   "source": []
  }
 ],
 "metadata": {
  "kernelspec": {
   "display_name": "Python 3 (ipykernel)",
   "language": "python",
   "name": "python3"
  },
  "language_info": {
   "codemirror_mode": {
    "name": "ipython",
    "version": 3
   },
   "file_extension": ".py",
   "mimetype": "text/x-python",
   "name": "python",
   "nbconvert_exporter": "python",
   "pygments_lexer": "ipython3",
   "version": "3.9.19"
  }
 },
 "nbformat": 4,
 "nbformat_minor": 5
}
