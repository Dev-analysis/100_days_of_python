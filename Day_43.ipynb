{
 "cells": [
  {
   "cell_type": "markdown",
   "id": "d58ef0cc-e775-44a3-81bf-c0a2d5adcd7c",
   "metadata": {},
   "source": [
    "## Virtual Environment\n",
    "\n",
    "A virtual environment is a tool used to isolate a specific Python environment on a single machine, allowing us to work on multiple projects with different dependencies and packages without conflicts. This can be especially useful when working on projects that have conflicting package versions or packages that are not compatible with each other.\n",
    "\n",
    "To create a virtual environment in Python, we can use the **venv** module that comes with Python. Here's an example of how to create a virtual environment and activate it:"
   ]
  },
  {
   "cell_type": "raw",
   "id": "f3b497a5-f08c-4b11-9cca-e8786186cded",
   "metadata": {},
   "source": [
    "# Create a virtual environment\n",
    "python -m venv myenv\n",
    "\n",
    "# Activate the virtual environment (Linux/macOS)\n",
    "source myenv/bin/activate\n",
    "\n",
    "# Activate the virtual environment (Windows)\n",
    "myenv\\Scripts\\activate.bat"
   ]
  },
  {
   "cell_type": "markdown",
   "id": "6a9197ea-49a0-4895-ba5e-43b713518a6c",
   "metadata": {},
   "source": [
    "Once the virtual environment is activated, *any packages that we install using pip will be installed in the virtual environment, rather than in the global Python environment. This allows us to have a separate set of packages for each project, without affecting the packages installed in the global environment.*\n",
    "\n",
    "To deactivate the virtual environment, we can use the deactivate command:\n"
   ]
  },
  {
   "cell_type": "raw",
   "id": "75928828-e438-444d-b8fb-ff1e9ef7aa71",
   "metadata": {},
   "source": [
    "# Deactivate the virtual environment\n",
    "deactivate"
   ]
  },
  {
   "cell_type": "markdown",
   "id": "053b9f61-17b8-49e5-a950-2c91fd54a6a4",
   "metadata": {},
   "source": [
    "## The \"requirements.txt\" file\n",
    "In addition to create and activating a virtual environment, it can be useful to create a requirement.txt file that lists the packages and their versions that our project depends on. This file can be used to easily install all the required packages in a new environment.\n",
    "\n",
    "To create a requirements.txt file, we can use the **pip freeze** command, which outputs a list of installed packages and their versions. For example: \n"
   ]
  },
  {
   "cell_type": "raw",
   "id": "fab417a3-60fe-44fe-ba95-d0c07f071edd",
   "metadata": {},
   "source": [
    "# Output the list of installed packages and their versions to a file. \n",
    "pip freeze > requirements.txt"
   ]
  },
  {
   "cell_type": "markdown",
   "id": "628f9da6-8879-4164-b127-5c39732b989b",
   "metadata": {},
   "source": [
    "To install the packages listed in the requirements.txt file, we can use the pip install command with the -rflag:\n"
   ]
  },
  {
   "cell_type": "raw",
   "id": "a7d3b683-b2d4-4724-9337-a3c6d8cdd93d",
   "metadata": {},
   "source": [
    "# Install the packages listed in the requirements.txt file\n",
    "pip install -r requirements.txt"
   ]
  },
  {
   "cell_type": "markdown",
   "id": "9b4cba0f-bb9d-4cb6-ba89-bd9194d38d57",
   "metadata": {},
   "source": [
    "Using a virtual environment and a requirements.txt file can help us manage the dependencies for the python projects and ensure that the projects are portable and can be easily set up on a new machine. "
   ]
  },
  {
   "cell_type": "code",
   "execution_count": null,
   "id": "b5058a7c-b37a-4ca2-9db2-f293e1fe706d",
   "metadata": {},
   "outputs": [],
   "source": []
  }
 ],
 "metadata": {
  "kernelspec": {
   "display_name": "Python 3 (ipykernel)",
   "language": "python",
   "name": "python3"
  },
  "language_info": {
   "codemirror_mode": {
    "name": "ipython",
    "version": 3
   },
   "file_extension": ".py",
   "mimetype": "text/x-python",
   "name": "python",
   "nbconvert_exporter": "python",
   "pygments_lexer": "ipython3",
   "version": "3.9.19"
  }
 },
 "nbformat": 4,
 "nbformat_minor": 5
}
