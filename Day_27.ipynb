{
 "cells": [
  {
   "cell_type": "markdown",
   "id": "3e89c871-7f52-4670-a1bf-fa920510fb5c",
   "metadata": {},
   "source": [
    "# Excercise\n",
    "\n",
    "**Create a program capable of displaying questions to the user like KBC. Use the List data type to store the questions and their correct answers. Display the final amount the person is taking home after playing the game.**"
   ]
  },
  {
   "cell_type": "markdown",
   "id": "f89facd9-3880-45f9-8fa1-67012bc2cdcd",
   "metadata": {},
   "source": [
    "there will be five questions in the KBC. \n"
   ]
  },
  {
   "cell_type": "code",
   "execution_count": 16,
   "id": "2be5ecb1-4af1-4e3a-a007-fc96dc05f874",
   "metadata": {},
   "outputs": [],
   "source": [
    "questions = [ \n",
    "    \"How many oceans are there on Earth?\",\n",
    "    \"How many days are there in a leap year?\",\n",
    "    \"What OS does Apple run on?\",\n",
    "    \"What is the capital of Germany?\", \n",
    "    \"How many letters does the English alphabet have?\"]\n",
    "\n",
    "options = [\n",
    "    [\"A. 8\" , \"B.7\" , \"C. 9\", \"D. 10\" ],\n",
    "    [\"A. 365\" , \"B.366\" , \"C.58\" , \"D.364\" ],\n",
    "    [\"A.Android\" ,\"B iOS\" , \"C. Window\" , \"D.Linux\" ],\n",
    "    [\"A.Munich\" , \"B.Frankfurt\" ,\"C. Berlin\" , \"D.Poland\"],\n",
    "    [\"A. 45\", \"B. 25\", \"C. 26\", \"D. 5\"]\n",
    "]\n",
    "    \n",
    "answers = [\"B\", \"B\", \"B\", \"C\", \"C\"]\n",
    "\n",
    "prize = [\"5L\", \"10L\", \"25L\", \"50L\", \"1Cr\"]\n",
    "\n",
    "\n",
    "\"\"\" 1. ask question and giving options\n",
    "    2. check the answers, if right showing the prize money\n",
    "    3. if right then giving the next question \n",
    "    4. at the total money win or loose \"\"\"\n",
    "\n",
    "def kbc(questions, options): \n",
    "    print(questions)\n",
    "    for option in options:\n",
    "        print(options)\n",
    "    "
   ]
  },
  {
   "cell_type": "code",
   "execution_count": 17,
   "id": "fbaf74ef-38c8-40aa-80a5-f03e3a0c322d",
   "metadata": {},
   "outputs": [
    {
     "data": {
      "text/plain": [
       "<function __main__.kbc(questions, options)>"
      ]
     },
     "execution_count": 17,
     "metadata": {},
     "output_type": "execute_result"
    }
   ],
   "source": [
    "kbc"
   ]
  },
  {
   "cell_type": "code",
   "execution_count": null,
   "id": "5847f634-e65d-4193-9f82-7a9cb838e4f8",
   "metadata": {},
   "outputs": [],
   "source": []
  },
  {
   "cell_type": "code",
   "execution_count": null,
   "id": "9a3d9189-dd31-493a-82c5-ecd1d5dfe375",
   "metadata": {},
   "outputs": [],
   "source": []
  }
 ],
 "metadata": {
  "kernelspec": {
   "display_name": "Python 3 (ipykernel)",
   "language": "python",
   "name": "python3"
  },
  "language_info": {
   "codemirror_mode": {
    "name": "ipython",
    "version": 3
   },
   "file_extension": ".py",
   "mimetype": "text/x-python",
   "name": "python",
   "nbconvert_exporter": "python",
   "pygments_lexer": "ipython3",
   "version": "3.9.19"
  }
 },
 "nbformat": 4,
 "nbformat_minor": 5
}
