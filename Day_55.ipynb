{
 "cells": [
  {
   "cell_type": "markdown",
   "id": "2533b822-f794-47f5-a832-3b2c07fca7ed",
   "metadata": {},
   "source": [
    "## Excercise: Snake Water Gun\n",
    "\n",
    "Snake, Water and Gun is a variation of the children's game \"rock-paper-scissors\" where players use hand gestures to represent a snake, water, or gun. The gun beats the snake, the water beats the gun and the snake beats the water. \n",
    "\n",
    "Write a python program to create a Snake Water Gun game in Python using if-else statement. (no need to create any fancy GUI. Use proper functions to check for win. "
   ]
  },
  {
   "cell_type": "code",
   "execution_count": null,
   "id": "34da6782-9adc-4fd9-9998-1bdf9afded8a",
   "metadata": {},
   "outputs": [],
   "source": []
  }
 ],
 "metadata": {
  "kernelspec": {
   "display_name": "Python 3 (ipykernel)",
   "language": "python",
   "name": "python3"
  },
  "language_info": {
   "codemirror_mode": {
    "name": "ipython",
    "version": 3
   },
   "file_extension": ".py",
   "mimetype": "text/x-python",
   "name": "python",
   "nbconvert_exporter": "python",
   "pygments_lexer": "ipython3",
   "version": "3.9.19"
  }
 },
 "nbformat": 4,
 "nbformat_minor": 5
}
