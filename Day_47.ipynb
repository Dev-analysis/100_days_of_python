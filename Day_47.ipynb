{
 "cells": [
  {
   "cell_type": "markdown",
   "id": "afea9e4c-048e-4688-858b-dbd08e0aef98",
   "metadata": {},
   "source": [
    "## Write a Python program to translate a message into secret code language. Use the rules below to translate normal English into secret code language. \n",
    "\n",
    "### Coding: \n",
    "If the word contains atleast 3 characters, remove the first letter and append it at the end now append three random characters at the starting and the end else: simply reverse the string. \n",
    "\n",
    "### Decoding:\n",
    "if the word contains less than 3 characters, reverse it else: remove 3 random characters from the start and end. Now remove the last letter and append it to the beginning. \n",
    "\n"
   ]
  }
 ],
 "metadata": {
  "kernelspec": {
   "display_name": "Python 3 (ipykernel)",
   "language": "python",
   "name": "python3"
  },
  "language_info": {
   "codemirror_mode": {
    "name": "ipython",
    "version": 3
   },
   "file_extension": ".py",
   "mimetype": "text/x-python",
   "name": "python",
   "nbconvert_exporter": "python",
   "pygments_lexer": "ipython3",
   "version": "3.9.19"
  }
 },
 "nbformat": 4,
 "nbformat_minor": 5
}
