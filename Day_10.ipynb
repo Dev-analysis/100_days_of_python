{
 "cells": [
  {
   "cell_type": "markdown",
   "id": "769c15b5",
   "metadata": {},
   "source": [
    "# Taking User Input in python"
   ]
  },
  {
   "cell_type": "markdown",
   "id": "35059db9",
   "metadata": {},
   "source": [
    "in python, we cam take user input directly by using input() function. This input function gives a return value as string/character hence we have to pass that into a variable. "
   ]
  },
  {
   "cell_type": "code",
   "execution_count": 2,
   "id": "f1005a00",
   "metadata": {},
   "outputs": [
    {
     "name": "stdout",
     "output_type": "stream",
     "text": [
      "name\n"
     ]
    }
   ],
   "source": [
    "variable = input()"
   ]
  },
  {
   "cell_type": "markdown",
   "id": "44a9c045",
   "metadata": {},
   "source": [
    "But input function returns the value as string. Hence we have to typecast them whenever required to another datatype"
   ]
  },
  {
   "cell_type": "code",
   "execution_count": 2,
   "id": "46f314d2",
   "metadata": {},
   "outputs": [
    {
     "name": "stdout",
     "output_type": "stream",
     "text": [
      "98\n",
      "98\n"
     ]
    }
   ],
   "source": [
    "variable = int(input())\n",
    "variable = float(input())"
   ]
  },
  {
   "cell_type": "markdown",
   "id": "4d400fa8",
   "metadata": {},
   "source": [
    "We can also disply a text using input function. This will make input() function take user input and display a message as well. "
   ]
  },
  {
   "cell_type": "code",
   "execution_count": 3,
   "id": "f73c54d8",
   "metadata": {
    "scrolled": true
   },
   "outputs": [
    {
     "name": "stdout",
     "output_type": "stream",
     "text": [
      "Enter the name: Dev_analysis\n",
      "Dev_analysis\n"
     ]
    }
   ],
   "source": [
    "a = input(\"Enter the name: \")\n",
    "print(a)"
   ]
  },
  {
   "cell_type": "code",
   "execution_count": null,
   "id": "12c4aef8",
   "metadata": {},
   "outputs": [],
   "source": []
  },
  {
   "cell_type": "code",
   "execution_count": null,
   "id": "f6641eb4",
   "metadata": {},
   "outputs": [],
   "source": []
  }
 ],
 "metadata": {
  "kernelspec": {
   "display_name": "Python 3 (ipykernel)",
   "language": "python",
   "name": "python3"
  },
  "language_info": {
   "codemirror_mode": {
    "name": "ipython",
    "version": 3
   },
   "file_extension": ".py",
   "mimetype": "text/x-python",
   "name": "python",
   "nbconvert_exporter": "python",
   "pygments_lexer": "ipython3",
   "version": "3.9.12"
  }
 },
 "nbformat": 4,
 "nbformat_minor": 5
}
