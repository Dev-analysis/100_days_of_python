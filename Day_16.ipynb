{
 "cells": [
  {
   "cell_type": "markdown",
   "id": "44df83a4",
   "metadata": {},
   "source": [
    "# Match Case Statements\n",
    "\n",
    "To implement switch-case like characteristics very similar to if-else functionality, we use a match case in python. \n",
    "\n",
    "**A match statement will compare a given variable's value to different shapes, also referred to as the pattern. The main idea is to keep on comparing the variable with all the present patterns until it fits into one.**\n",
    "\n",
    "The match case consists of three entities:\n",
    "1. The match keyword \n",
    "2. One or more case clauses\n",
    "3. Expression for each case\n",
    "\n",
    "The case clause consists of a pattern to be matched to the variable, a condition to be evaluated if the pattern matches, and a set of statement to be executed if the pattern matches. \n"
   ]
  },
  {
   "cell_type": "code",
   "execution_count": 2,
   "id": "91367cd0",
   "metadata": {},
   "outputs": [],
   "source": [
    "# match variable_name: \n",
    "#    case 'pattern1' : //statement1\n",
    "#    case 'pattern2' : //statement2\n",
    "#   ....\n",
    "#   case 'pattern n' : //statement n\"\"\""
   ]
  },
  {
   "cell_type": "code",
   "execution_count": 5,
   "id": "8f625f00",
   "metadata": {},
   "outputs": [
    {
     "ename": "SyntaxError",
     "evalue": "invalid syntax (3171482968.py, line 3)",
     "output_type": "error",
     "traceback": [
      "\u001b[1;36m  Input \u001b[1;32mIn [5]\u001b[1;36m\u001b[0m\n\u001b[1;33m    match x:\u001b[0m\n\u001b[1;37m          ^\u001b[0m\n\u001b[1;31mSyntaxError\u001b[0m\u001b[1;31m:\u001b[0m invalid syntax\n"
     ]
    }
   ],
   "source": [
    "x = 4\n",
    "# x is the variable to match\n",
    "match x: \n",
    "    #if x is 0\n",
    "    case 0:\n",
    "        print(\"x is zero\")\n",
    "    # case with if-condition\n",
    "    case 4 if x % 2 == 0:\n",
    "        print(\"x % 2 == 0 and cse is 4\")\n",
    "    # Empty case with if-condition\n",
    "    case _ if x <10: \n",
    "        print(\"x is < 10\")\n",
    "    #default case (will only be matched if the above cases were not matched)\n",
    "    # so it is basically just an else:\n",
    "    case _:\n",
    "        print(x)\n",
    "        "
   ]
  },
  {
   "cell_type": "code",
   "execution_count": null,
   "id": "75471073",
   "metadata": {},
   "outputs": [],
   "source": []
  }
 ],
 "metadata": {
  "kernelspec": {
   "display_name": "Python 3 (ipykernel)",
   "language": "python",
   "name": "python3"
  },
  "language_info": {
   "codemirror_mode": {
    "name": "ipython",
    "version": 3
   },
   "file_extension": ".py",
   "mimetype": "text/x-python",
   "name": "python",
   "nbconvert_exporter": "python",
   "pygments_lexer": "ipython3",
   "version": "3.9.12"
  }
 },
 "nbformat": 4,
 "nbformat_minor": 5
}
