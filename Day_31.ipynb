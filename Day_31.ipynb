{
 "cells": [
  {
   "cell_type": "markdown",
   "id": "2ab169c3-1ef5-4feb-b38d-6bfbc119059d",
   "metadata": {},
   "source": [
    "# Python Sets\n",
    "\n",
    "Sets are unordered collection of data items. They store multiple items in a single variable. Set items are separated by commas and enclosed within curly brackets {}. Sets are unchangeable, meaning we cannot change items of the set once created. Sets do not contain items. "
   ]
  },
  {
   "cell_type": "code",
   "execution_count": 6,
   "id": "f086e398-ad5d-439a-9ab8-2e16ce615f45",
   "metadata": {},
   "outputs": [
    {
     "name": "stdout",
     "output_type": "stream",
     "text": [
      "{False, 19, 5.9, 'Carla'}\n",
      "<class 'set'>\n"
     ]
    }
   ],
   "source": [
    "info = {\"Carla\", 19, False, 5.9, 19}\n",
    "print(info)\n",
    "\n",
    "print(type(info))"
   ]
  },
  {
   "cell_type": "markdown",
   "id": "70115609-8e3c-467e-bffe-5857add999be",
   "metadata": {},
   "source": [
    "Here we see that the items of the set occur in random order and hence they cannot be accessed using index numbers. Also sets do not allow duplicate values. \n",
    "\n",
    "**Quiz** Try to create an empty set. Check using the type function whether the type of your variable is a set. "
   ]
  },
  {
   "cell_type": "code",
   "execution_count": 8,
   "id": "9651b068-3f0a-40da-a87d-c428c36a6ce7",
   "metadata": {},
   "outputs": [
    {
     "name": "stdout",
     "output_type": "stream",
     "text": [
      "<class 'dict'>\n",
      "<class 'set'>\n"
     ]
    }
   ],
   "source": [
    "xyz = {}\n",
    "\n",
    "print(type(xyz))\n",
    "\n",
    "\n",
    "abc = set()\n",
    "print(type(abc))"
   ]
  },
  {
   "cell_type": "markdown",
   "id": "dca28288-1844-4b3d-8368-5b12c8dd6f4a",
   "metadata": {},
   "source": [
    "## Accessing set items:\n",
    "\n",
    "**Using a For loop**\n",
    "\n",
    "we can access items of set using a for loop. "
   ]
  },
  {
   "cell_type": "code",
   "execution_count": 5,
   "id": "b40a06e2-4d76-4730-a48a-0b4c2d578c79",
   "metadata": {},
   "outputs": [
    {
     "name": "stdout",
     "output_type": "stream",
     "text": [
      "False\n",
      "19\n",
      "5.9\n",
      "Carla\n"
     ]
    }
   ],
   "source": [
    "info = {\"Carla\", 19, False, 5.9}\n",
    "for item in info:\n",
    "    print(item)"
   ]
  },
  {
   "cell_type": "code",
   "execution_count": null,
   "id": "1e708251-b672-4378-b9cd-f2c56c23eee7",
   "metadata": {},
   "outputs": [],
   "source": []
  }
 ],
 "metadata": {
  "kernelspec": {
   "display_name": "Python 3 (ipykernel)",
   "language": "python",
   "name": "python3"
  },
  "language_info": {
   "codemirror_mode": {
    "name": "ipython",
    "version": 3
   },
   "file_extension": ".py",
   "mimetype": "text/x-python",
   "name": "python",
   "nbconvert_exporter": "python",
   "pygments_lexer": "ipython3",
   "version": "3.9.19"
  }
 },
 "nbformat": 4,
 "nbformat_minor": 5
}
