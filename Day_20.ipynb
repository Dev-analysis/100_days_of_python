{
 "cells": [
  {
   "cell_type": "markdown",
   "id": "f75e19df-5578-4064-8ab8-a3d228030baa",
   "metadata": {},
   "source": [
    "# Python Functions\n",
    "\n",
    "A function is a block of code that performs a specific task whenever it is called. In bigger programs, where we have large amounts of code, it is advisable to create or use existing functions that make the program flow organised and neat. \n",
    "\n",
    "There are two types of functions: \n",
    "\n",
    "1. Built-in functions\n",
    "2. User-defined functions"
   ]
  },
  {
   "cell_type": "markdown",
   "id": "81bbd77d-9dbf-45d1-be09-22dfdfb76c78",
   "metadata": {},
   "source": [
    "### Buit-in functions:\n",
    "These functions are defined and pre-coded in python. Some examples of built in functions are as follows: \n",
    "\n",
    "min(), max(), len(), sum(), type(), range()\n",
    "dict(), list(), tuple(), set() print() etc. \n",
    "\n",
    "\n",
    "### User-defined functions: \n",
    "We can create functions to perform specific tasks as per our needs. Such as functions are called user-defined functions. "
   ]
  },
  {
   "cell_type": "code",
   "execution_count": 2,
   "id": "2d04293f-7a9d-4d1a-8774-10683d221a71",
   "metadata": {},
   "outputs": [],
   "source": [
    "#Syntax:\n",
    "\n",
    "def function_name(parameters):\n",
    "    pass\n",
    "    #code and statements"
   ]
  },
  {
   "cell_type": "markdown",
   "id": "cb6bd9be-28b2-4177-9b21-4f2f06b5f3e6",
   "metadata": {},
   "source": [
    "#### Calling a function\n",
    "We call a function by giving the function name, followed by parameters (if any) in the parenthesis. \n",
    "\n"
   ]
  },
  {
   "cell_type": "code",
   "execution_count": 3,
   "id": "3cc561be-698f-474b-b3f8-361cb089fe57",
   "metadata": {},
   "outputs": [
    {
     "name": "stdout",
     "output_type": "stream",
     "text": [
      "Hello Sam Wilson\n"
     ]
    }
   ],
   "source": [
    "def name(fname, lname):\n",
    "    print(\"Hello\", fname, lname)\n",
    "\n",
    "name(\"Sam\", \"Wilson\")"
   ]
  },
  {
   "cell_type": "code",
   "execution_count": null,
   "id": "bc745d96-ae30-437b-ba8d-8d27510cad20",
   "metadata": {},
   "outputs": [],
   "source": []
  }
 ],
 "metadata": {
  "kernelspec": {
   "display_name": "Python 3 (ipykernel)",
   "language": "python",
   "name": "python3"
  },
  "language_info": {
   "codemirror_mode": {
    "name": "ipython",
    "version": 3
   },
   "file_extension": ".py",
   "mimetype": "text/x-python",
   "name": "python",
   "nbconvert_exporter": "python",
   "pygments_lexer": "ipython3",
   "version": "3.9.19"
  }
 },
 "nbformat": 4,
 "nbformat_minor": 5
}
