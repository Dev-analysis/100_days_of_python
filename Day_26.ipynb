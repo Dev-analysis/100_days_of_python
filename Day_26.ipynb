{
 "cells": [
  {
   "cell_type": "markdown",
   "id": "b0553c78-28ca-486e-b2d8-f99c0c0331a4",
   "metadata": {},
   "source": [
    "# Excersice 2: Good Morning Sir\n",
    "\n",
    "Create a Python program capable of greeting you with Good Morning, Good Afternoon and Good Evening. Your program should use time module to get the current hour. "
   ]
  },
  {
   "cell_type": "code",
   "execution_count": null,
   "id": "624ad3eb-2412-4138-b0a8-84f54ff1cb13",
   "metadata": {},
   "outputs": [],
   "source": [
    "Good morning time 5:00 a.m. to 12:00 p.m.\n",
    "Good afternoon time 12:00 p.m. to 16:00 p.m.\n",
    "Good evening time after 18 p.m."
   ]
  },
  {
   "cell_type": "code",
   "execution_count": 3,
   "id": "e1190f14-f17b-4be9-9d31-67658690b00b",
   "metadata": {},
   "outputs": [
    {
     "name": "stdout",
     "output_type": "stream",
     "text": [
      "Good morning sir\n"
     ]
    }
   ],
   "source": [
    "import time\n",
    "timestamp = time.strftime('%H')\n",
    "Intimestamp = int(timestamp)\n",
    "\n",
    "if Intimestamp > 5 and Intimestamp < 12:\n",
    "    print(\"Good morning sir\")\n",
    "elif Intimestamp > 12 and Intimestamp < 16:\n",
    "    print(\"Good afternoon sir\")\n",
    "elif Intimestamp > 18:\n",
    "    print(\"Good evening sir\")\n",
    "\n"
   ]
  },
  {
   "cell_type": "code",
   "execution_count": null,
   "id": "73830d1c-cd84-46d5-acb3-3f1fb73fec55",
   "metadata": {},
   "outputs": [],
   "source": []
  }
 ],
 "metadata": {
  "kernelspec": {
   "display_name": "Python 3 (ipykernel)",
   "language": "python",
   "name": "python3"
  },
  "language_info": {
   "codemirror_mode": {
    "name": "ipython",
    "version": 3
   },
   "file_extension": ".py",
   "mimetype": "text/x-python",
   "name": "python",
   "nbconvert_exporter": "python",
   "pygments_lexer": "ipython3",
   "version": "3.9.19"
  }
 },
 "nbformat": 4,
 "nbformat_minor": 5
}
