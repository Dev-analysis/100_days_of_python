{
 "cells": [
  {
   "cell_type": "markdown",
   "id": "cdef78c7-d3d7-49fd-a66f-894e75dee467",
   "metadata": {},
   "source": [
    "# Python while Loop\n",
    "\n",
    "As the name suggests, while loops execute statements while the condition is True. As soon as the condition becomes False, the interpreter comes out of the while loop. "
   ]
  },
  {
   "cell_type": "code",
   "execution_count": 2,
   "id": "f55d7da9-875d-483e-aeec-15f6a6338d81",
   "metadata": {},
   "outputs": [
    {
     "name": "stdout",
     "output_type": "stream",
     "text": [
      "5\n",
      "4\n",
      "3\n",
      "2\n",
      "1\n"
     ]
    }
   ],
   "source": [
    "count = 5\n",
    "while (count > 0):\n",
    "    print(count)\n",
    "    count = count-1"
   ]
  },
  {
   "cell_type": "markdown",
   "id": "a03202ab-29b7-4128-ade8-5d193a49c88e",
   "metadata": {},
   "source": [
    "## Else with While Loop\n",
    "We can use the else statement with the while loop. Essentially what the else statement does is that as soon as the while loop condition becomes False, the interpretor comes out of the while loop and the esle statement is executed."
   ]
  },
  {
   "cell_type": "code",
   "execution_count": 3,
   "id": "1ec140ee-c0a2-4af2-a6ec-0c589c660d77",
   "metadata": {},
   "outputs": [
    {
     "name": "stdout",
     "output_type": "stream",
     "text": [
      "5\n",
      "4\n",
      "3\n",
      "2\n",
      "1\n",
      "counter is 0\n"
     ]
    }
   ],
   "source": [
    "x = 5\n",
    "while (x > 0):\n",
    "    print(x)\n",
    "    x = x - 1 \n",
    "else:\n",
    "    print('counter is 0')"
   ]
  },
  {
   "cell_type": "markdown",
   "id": "602fd217-4bbf-46ea-965c-7ccd2783a3d0",
   "metadata": {},
   "source": [
    "# Do-While loop in python\n",
    "do.. while is a loop which a set of instructions will execute at least once (irrespective of the condition) and then the repetition of loop's body will depend on the condition passed at the end of the while loop. It is also known as an exit-controlled loop. \n",
    "\n",
    "### How to emulate do while loop in python? \n",
    "To create a do while loop in Python, we need to modify the while loop a bit in order to get similar behavior to a do while loop. \n",
    "\n",
    "To most common technique to emulate a do-while loop in Python is **to use an infinite while loop with a break statement wrapped in an if statement** that checks a given condition and breaks the iteration if that condition becomes true:"
   ]
  },
  {
   "cell_type": "code",
   "execution_count": 6,
   "id": "b403492c-4cf4-478d-8095-47d5006b8f35",
   "metadata": {},
   "outputs": [
    {
     "name": "stdin",
     "output_type": "stream",
     "text": [
      "Enter a positive number:  55\n"
     ]
    },
    {
     "name": "stdout",
     "output_type": "stream",
     "text": [
      "55\n"
     ]
    },
    {
     "name": "stdin",
     "output_type": "stream",
     "text": [
      "Enter a positive number:  1\n"
     ]
    },
    {
     "name": "stdout",
     "output_type": "stream",
     "text": [
      "1\n"
     ]
    },
    {
     "name": "stdin",
     "output_type": "stream",
     "text": [
      "Enter a positive number:  2\n"
     ]
    },
    {
     "name": "stdout",
     "output_type": "stream",
     "text": [
      "2\n"
     ]
    },
    {
     "name": "stdin",
     "output_type": "stream",
     "text": [
      "Enter a positive number:  -1\n"
     ]
    },
    {
     "name": "stdout",
     "output_type": "stream",
     "text": [
      "-1\n"
     ]
    }
   ],
   "source": [
    "while True:\n",
    "    number = int(input(\"Enter a positive number: \"))\n",
    "    print(number)\n",
    "    if not number > 0:\n",
    "        break"
   ]
  },
  {
   "cell_type": "markdown",
   "id": "7e0d7552-9433-42cd-8dce-b6506524f335",
   "metadata": {},
   "source": [
    "**Explanation**\n",
    "\n",
    "This loop uses True as its formal condition. This trick turns the loop into an infinite loop. Before the conditional statement, the loop runs all the required processing and updates the breaking condition. If this condition evaluates to true, then the break statement breaks out of the loop, and the program execution its normal path. "
   ]
  },
  {
   "cell_type": "code",
   "execution_count": null,
   "id": "d986267a-b627-417e-8565-baee4f5a8c74",
   "metadata": {},
   "outputs": [],
   "source": []
  }
 ],
 "metadata": {
  "kernelspec": {
   "display_name": "Python 3 (ipykernel)",
   "language": "python",
   "name": "python3"
  },
  "language_info": {
   "codemirror_mode": {
    "name": "ipython",
    "version": 3
   },
   "file_extension": ".py",
   "mimetype": "text/x-python",
   "name": "python",
   "nbconvert_exporter": "python",
   "pygments_lexer": "ipython3",
   "version": "3.9.19"
  }
 },
 "nbformat": 4,
 "nbformat_minor": 5
}
