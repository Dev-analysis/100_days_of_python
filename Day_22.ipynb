{
 "cells": [
  {
   "cell_type": "markdown",
   "id": "67a914d3-93a2-4aa5-9914-cd0e8cde722c",
   "metadata": {},
   "source": [
    "# Python Lists\n",
    "1. Lists are ordered collection of data items.\n",
    "2. They store multiple items in a single variable.\n",
    "3. List items are separated by commas and enclosed within square brackets [].\n",
    "4. Lists are changeable meaning we can alter them after creation.\n"
   ]
  },
  {
   "cell_type": "code",
   "execution_count": 1,
   "id": "da12204d-f395-42c9-83eb-70e55504737b",
   "metadata": {},
   "outputs": [
    {
     "name": "stdout",
     "output_type": "stream",
     "text": [
      "[1, 2, 8, 9, 2]\n",
      "['Red', 'Green', 'Purple', 'Blue']\n"
     ]
    }
   ],
   "source": [
    "lst1 = [1,2,8,9,2]\n",
    "lst2 = [\"Red\", \"Green\", \"Purple\", \"Blue\"]\n",
    "\n",
    "print(lst1)\n",
    "print(lst2)"
   ]
  },
  {
   "cell_type": "code",
   "execution_count": 2,
   "id": "22233517-c5a7-4f32-8ddf-e04bec45de84",
   "metadata": {},
   "outputs": [
    {
     "name": "stdout",
     "output_type": "stream",
     "text": [
      "['Nicole', 18, 'FYMSPsy', 9.5]\n"
     ]
    }
   ],
   "source": [
    "details = [\"Nicole\", 18, \"FYMSPsy\", 9.5]\n",
    "print(details)"
   ]
  },
  {
   "cell_type": "markdown",
   "id": "7bdb0998-8a4a-4038-946a-2ceaf6d01400",
   "metadata": {},
   "source": [
    "**As we can see, a single list can contain items of different data types.**"
   ]
  },
  {
   "cell_type": "markdown",
   "id": "ecbe7537-45d7-4fc7-8c65-c757a566afe8",
   "metadata": {},
   "source": [
    "## List Index\n",
    "Each item/element in a list has its own unique index. This index can be used to access any particular item from the list. The first item has index[0], second item has index [1], third item has index [2], and so on. "
   ]
  },
  {
   "cell_type": "code",
   "execution_count": 3,
   "id": "8e6e0189-ee27-4f48-a42d-61c6d008fe11",
   "metadata": {},
   "outputs": [],
   "source": [
    "color = [\"Red\", \"Green\", \"Blue\", \"Yellow\", \"Green\"]\n",
    "#         [0]     [1]       [2]     [3]      [4]"
   ]
  },
  {
   "cell_type": "markdown",
   "id": "b536552b-0f2c-4083-b3d2-d27183ef22bf",
   "metadata": {},
   "source": [
    "## Accessing list items\n",
    "We can access list items by using its index with the square bracket syntex[]. For example colors[0] will give \"Red\", color[1] will give \"Green\" and so on....\n",
    "\n",
    "**Positive Indexing:**\n",
    "As we have seen that list items have index, as such we can access items using these indexes. \n",
    "\n",
    "Example:"
   ]
  },
  {
   "cell_type": "code",
   "execution_count": 5,
   "id": "4027a7e2-4734-4521-b999-b4b45fe7e05b",
   "metadata": {},
   "outputs": [
    {
     "name": "stdout",
     "output_type": "stream",
     "text": [
      "Blue\n",
      "Red\n",
      "Yellow\n"
     ]
    }
   ],
   "source": [
    "color = [\"Red\", \"Green\", \"Blue\", \"Yellow\", \"Green\"] \n",
    "#           [0]   [1]      [2]     [3]        [4]\n",
    "\n",
    "print(color[2])\n",
    "print(color[0])\n",
    "print(color[3])"
   ]
  },
  {
   "cell_type": "markdown",
   "id": "b0dfd009-5f5b-40fe-8209-27c1c401b6e2",
   "metadata": {},
   "source": [
    "**Negative Indexing:**\n",
    "Similar to positive indexing, negative indexing is also used to access items, but from the end of the list. The last item has index[-1], second last item has index[-2], third last item has index [-3] and so on. \n",
    "\n",
    "( \"In a list, when counting from the front, it always starts with 0, while when counting from the back, it starts from -1.\")"
   ]
  },
  {
   "cell_type": "code",
   "execution_count": 7,
   "id": "24bb965b-e10e-4c72-ba45-69b5ca7da0d0",
   "metadata": {},
   "outputs": [
    {
     "name": "stdout",
     "output_type": "stream",
     "text": [
      "Green\n",
      "Red\n",
      "Blue\n"
     ]
    }
   ],
   "source": [
    "colors = [\"Red\", \"Green\", \"Blue\", \"Yellow\", \"Green\"]\n",
    "#         [-5]     [-4]    [-3]      [-2]    [-1]\n",
    "\n",
    "print(colors[-1])\n",
    "print(color[-5])\n",
    "print(color[-3])"
   ]
  },
  {
   "cell_type": "markdown",
   "id": "dfee2163-8677-4c27-965e-85cdd28c5564",
   "metadata": {},
   "source": [
    "## Check whether an item in present in the list?\n",
    "\n",
    "We can check if a given item is present in the list. This is done using the in keyword. \n",
    "\n"
   ]
  },
  {
   "cell_type": "code",
   "execution_count": 10,
   "id": "a9566baa-a249-414b-8b70-043a12ec95e7",
   "metadata": {},
   "outputs": [
    {
     "name": "stdout",
     "output_type": "stream",
     "text": [
      "Yellow is present\n"
     ]
    }
   ],
   "source": [
    "colors = [\"Red\", \"Green\", \"Blue\", \"Yellow\", \"Green\"]\n",
    "if \"Yellow\" in colors:\n",
    "    print(\"Yellow is present\")\n",
    "else:\n",
    "    print(\"Yellow is not present\")\n"
   ]
  },
  {
   "cell_type": "code",
   "execution_count": 11,
   "id": "5cea496a-9a11-4aec-b902-4f3543135117",
   "metadata": {},
   "outputs": [
    {
     "name": "stdout",
     "output_type": "stream",
     "text": [
      "Orange is not present\n"
     ]
    }
   ],
   "source": [
    "colors = [\"Red\", \"Green\", \"Blue\", \"Yellow\", \"Green\"]\n",
    "if \"Orange\" in colors:\n",
    "    print(\"Orange is present.\")\n",
    "else:\n",
    "    print(\"Orange is not present\")"
   ]
  },
  {
   "cell_type": "markdown",
   "id": "8f42a892-9f77-4a4e-95df-9041f5615f54",
   "metadata": {},
   "source": [
    "## Range of Index:\n",
    "We can print a range of list items by specifying where we want to start, where do we want to end and if we want to skip elements in between the range. \n",
    "\n",
    "listName[Start : end : jumpIndex]\n",
    "\n",
    "Note: The jump index is optional. "
   ]
  },
  {
   "cell_type": "code",
   "execution_count": 12,
   "id": "4f65e573-379c-4b72-9636-a8250b016a03",
   "metadata": {},
   "outputs": [
    {
     "name": "stdout",
     "output_type": "stream",
     "text": [
      "['mouse', 'pig', 'horse', 'donkey']\n",
      "['bat', 'mouse', 'pig', 'horse', 'donkey']\n"
     ]
    }
   ],
   "source": [
    "# Example: Printing elements within a particular range: \n",
    "\n",
    "animals = [\"cat\", \"dog\", \"bat\", \"mouse\", \"pig\", \"horse\", \"donkey\", \"goat\", \"cow\"]\n",
    "print(animals[3:7]) #using positive indexes\n",
    "print(animals[-7:-2]) #using negative indexs"
   ]
  },
  {
   "cell_type": "markdown",
   "id": "ec7e1525-7616-427b-80de-1695e8ed12bd",
   "metadata": {},
   "source": [
    "Here, we provide index of the element from where we want to start and the index of the element till which we want to print the values.\n",
    "\n",
    "Notes: **The element of the index provided will not be included.** "
   ]
  },
  {
   "cell_type": "code",
   "execution_count": 16,
   "id": "f9a1d817-e437-4c04-b6e0-033be61a33c2",
   "metadata": {},
   "outputs": [
    {
     "name": "stdout",
     "output_type": "stream",
     "text": [
      "['pig', 'horse', 'donkey', 'goat', 'cow']\n",
      "['horse', 'donkey', 'goat', 'cow']\n"
     ]
    }
   ],
   "source": [
    "# Example: printing all element from a given index till the end\n",
    "\n",
    "animals = [\"cat\", \"dog\", \"bat\", \"mouse\", \"pig\", \"horse\", \"donkey\", \"goat\", \"cow\"]\n",
    "\n",
    "print(animals[4:])  #using positive indexes\n",
    "print(animals[-4:])  # using negative indexes\n",
    "\n",
    "# When no end index is provided, the interpreter prints all values till the end. "
   ]
  },
  {
   "cell_type": "code",
   "execution_count": 17,
   "id": "9da6869d-c1b7-41d1-8ec2-15e4e270e63b",
   "metadata": {},
   "outputs": [
    {
     "name": "stdout",
     "output_type": "stream",
     "text": [
      "['Cat', 'dog', 'bat', 'mouse', 'pig', 'horse']\n",
      "['Cat', 'dog', 'bat', 'mouse', 'pig', 'horse']\n"
     ]
    }
   ],
   "source": [
    "#Example: printing all elements from start to a given index\n",
    "\n",
    "animals = [\"Cat\", \"dog\", \"bat\", \"mouse\", \"pig\", \"horse\", \"donkey\", \"goat\", \"cow\"]\n",
    "\n",
    "print(animals[:6])  #using positive indexes\n",
    "print(animals[:-3]) #using negative indexes\n"
   ]
  },
  {
   "cell_type": "markdown",
   "id": "66af355a-cacd-43c7-a772-b8a733b15c97",
   "metadata": {},
   "source": [
    "Here, we have not provided start index, which means all the values will be considered. But as we have provided a jump index of 2 only alternate values will be printed\n",
    "\n",
    "**Example:** printing every third consecutive value within a given range"
   ]
  },
  {
   "cell_type": "code",
   "execution_count": 21,
   "id": "c92791a6-1986-4ff8-b61f-924cb73068ce",
   "metadata": {},
   "outputs": [
    {
     "name": "stdout",
     "output_type": "stream",
     "text": [
      "['bat', 'horse', 'cow']\n"
     ]
    }
   ],
   "source": [
    "animals = [\"cat\", \"bat\", \"mouse\", \"pig\", \"horse\", \"donkey\", \"goat\", \"cow\"]\n",
    "\n",
    "print(animals[1:8:3])\n"
   ]
  },
  {
   "cell_type": "markdown",
   "id": "140af251-8b1e-40b2-a4ad-010ea477db51",
   "metadata": {},
   "source": [
    "Here, jump index is 3. Hence it prints every 3rd element within given index"
   ]
  },
  {
   "cell_type": "code",
   "execution_count": null,
   "id": "9ef59eca-5aac-41a2-b47c-2a25eea7704a",
   "metadata": {},
   "outputs": [],
   "source": []
  }
 ],
 "metadata": {
  "kernelspec": {
   "display_name": "Python 3 (ipykernel)",
   "language": "python",
   "name": "python3"
  },
  "language_info": {
   "codemirror_mode": {
    "name": "ipython",
    "version": 3
   },
   "file_extension": ".py",
   "mimetype": "text/x-python",
   "name": "python",
   "nbconvert_exporter": "python",
   "pygments_lexer": "ipython3",
   "version": "3.9.19"
  }
 },
 "nbformat": 4,
 "nbformat_minor": 5
}
