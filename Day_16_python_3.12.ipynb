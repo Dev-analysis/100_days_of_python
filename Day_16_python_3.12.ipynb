{
 "cells": [
  {
   "cell_type": "markdown",
   "id": "44df83a4",
   "metadata": {},
   "source": [
    "# Match Case Statements\n",
    "\n",
    "To implement switch-case like characteristics very similar to if-else functionality, we use a match case in python. \n",
    "\n",
    "**A match statement will compare a given variable's value to different shapes, also referred to as the pattern. The main idea is to keep on comparing the variable with all the present patterns until it fits into one.**\n",
    "\n",
    "The match case consists of three entities:\n",
    "1. The match keyword \n",
    "2. One or more case clauses\n",
    "3. Expression for each case\n",
    "\n",
    "The case clause consists of a pattern to be matched to the variable, a condition to be evaluated if the pattern matches, and a set of statement to be executed if the pattern matches. \n"
   ]
  },
  {
   "cell_type": "code",
   "execution_count": 1,
   "id": "91367cd0",
   "metadata": {},
   "outputs": [],
   "source": [
    "# match variable_name: \n",
    "#    case 'pattern1' : //statement1\n",
    "#    case 'pattern2' : //statement2\n",
    "#   ....\n",
    "#   case 'pattern n' : //statement n\"\"\""
   ]
  },
  {
   "cell_type": "code",
   "execution_count": 1,
   "id": "8f625f00",
   "metadata": {},
   "outputs": [
    {
     "name": "stdout",
     "output_type": "stream",
     "text": [
      "x % 2 == 0 and cse is 4\n"
     ]
    }
   ],
   "source": [
    "x = 4\n",
    "# x is the variable to match\n",
    "match x: \n",
    "    #if x is 0\n",
    "    case 0:\n",
    "        print(\"x is zero\")\n",
    "    # case with if-condition\n",
    "    case 4 if x % 2 == 0:\n",
    "        print(\"x % 2 == 0 and cse is 4\")\n",
    "    # Empty case with if-condition\n",
    "    case _ if x <10: \n",
    "        print(\"x is < 10\")\n",
    "    #default case (will only be matched if the above cases were not matched)\n",
    "    # so it is basically just an else:\n",
    "    case _:\n",
    "        print(x)\n",
    "        "
   ]
  },
  {
   "cell_type": "code",
   "execution_count": 2,
   "id": "75471073",
   "metadata": {},
   "outputs": [
    {
     "name": "stdout",
     "output_type": "stream",
     "text": [
      "x % 2 == 0 and case is 4\n"
     ]
    }
   ],
   "source": [
    "x = 4\n",
    "match x:\n",
    "    case 0: \n",
    "        print(\"x is zero\")\n",
    "    case 4 if x % 2 == 0:\n",
    "        print(\"x % 2 == 0 and case is 4\")\n",
    "    case _ if x < 10:\n",
    "        print(\"x is < 10\")\n",
    "    "
   ]
  },
  {
   "cell_type": "code",
   "execution_count": 3,
   "id": "ee48c551",
   "metadata": {},
   "outputs": [
    {
     "name": "stdout",
     "output_type": "stream",
     "text": [
      "3.12.2\n"
     ]
    }
   ],
   "source": [
    "from platform import python_version\n",
    "print(python_version())"
   ]
  },
  {
   "cell_type": "markdown",
   "id": "efbfb2f3",
   "metadata": {},
   "source": [
    "updating python notebook from 3.9 to 3.12"
   ]
  },
  {
   "cell_type": "markdown",
   "id": "14f682c8-789d-412a-95c5-22ece663d68a",
   "metadata": {},
   "source": [
    "# ERROR solution\r\n",
    "\r\n",
    "The `match` case function is available from Python 3.10 onwards. Therefore, in Python 3.9, it will result in an error.\r\n",
    "\r\n",
    "To utilize the `match` case function, I installed the latest version of Python, 3.12.\r\n",
    "\r\n",
    "Here are the steps to install the `match` case function in an Anaconda environment:\r\n",
    "\r\n",
    "First, create a new environment because installing it in the base environment might lead to conflicts with other installed packages.\r\n",
    "\r\n",
    "1. `mamba create -n py3.12_jupyter python=3.12`\r\n",
    "\r\n",
    "Secondly, install Python 3.12 in the `py3.12_jupyter` environment:\r\n",
    "\r\n",
    "2. `mamba install -n py3.12_jupyter python=3.12 jupyter`\r\n",
    "\r\n",
    "Finally, activate the environment to use Jupyter Notebook:\r\n",
    "\r\n",
    "3. `conda activate py3.12_jupyter`\r\n",
    "\r\n",
    "Now, you can use the `match` function in this environment.\r\n",
    "\r\n",
    "(Note: Each time you want to use Python 3.12, you need to activate this environment.)\r\n"
   ]
  },
  {
   "cell_type": "code",
   "execution_count": null,
   "id": "533621d1",
   "metadata": {},
   "outputs": [],
   "source": []
  },
  {
   "cell_type": "code",
   "execution_count": null,
   "id": "bd8add1a",
   "metadata": {},
   "outputs": [],
   "source": []
  },
  {
   "cell_type": "code",
   "execution_count": null,
   "id": "59d8cdb0",
   "metadata": {},
   "outputs": [],
   "source": []
  }
 ],
 "metadata": {
  "kernelspec": {
   "display_name": "Python 3 (ipykernel)",
   "language": "python",
   "name": "python3"
  },
  "language_info": {
   "codemirror_mode": {
    "name": "ipython",
    "version": 3
   },
   "file_extension": ".py",
   "mimetype": "text/x-python",
   "name": "python",
   "nbconvert_exporter": "python",
   "pygments_lexer": "ipython3",
   "version": "3.12.2"
  }
 },
 "nbformat": 4,
 "nbformat_minor": 5
}
