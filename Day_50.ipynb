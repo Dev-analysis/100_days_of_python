{
 "cells": [
  {
   "cell_type": "markdown",
   "id": "53d1936c-3cbe-4d00-8657-a2e3003ec589",
   "metadata": {},
   "source": [
    "## readlines() method\n",
    "\n",
    "The readline() method reads a single line from the file. If we want to read multiple lines, we can use a loop. "
   ]
  },
  {
   "cell_type": "raw",
   "id": "f1d5ee02-5427-4771-a166-da845c187c85",
   "metadata": {},
   "source": [
    "f = open('zen_opem.txt', 'r')\n",
    "while True:\n",
    "    line = f.readline()\n",
    "    if not line:\n",
    "        break\n",
    "    print(line)"
   ]
  },
  {
   "cell_type": "markdown",
   "id": "c9473605-db0b-4492-b98b-11d5c4f006c2",
   "metadata": {},
   "source": [
    "**The readlines() method reads all the lines of the file and returns them as a list of strings. \n",
    "\n",
    "## writelines() method\n",
    "\n",
    "The writelines() method in Python writes a sequence of strings to a file. The sequence can be any iterable object, such as a list or a tuple. \n",
    "\n",
    "Here's an example of how to use the writelines() method:\n"
   ]
  },
  {
   "cell_type": "raw",
   "id": "bdfb5193-053c-4bb1-b79d-1deb73f1ecfd",
   "metadata": {},
   "source": [
    "f = open('zen_opem.txt', 'w')\n",
    "lines = ['line 1\\n', 'line 2\\n, 'line 3\\n']\n",
    "f.writelines(lines)\n",
    "f.close()"
   ]
  },
  {
   "cell_type": "markdown",
   "id": "8f0a58b5-d02c-4868-8e18-269a9b5928e0",
   "metadata": {},
   "source": [
    "This will write the strings in the lines list to the file myfile.txt. The \\n characters are used to add newline characters to the end of each string. \n",
    "\n",
    "> the **writeline()** method does not add newline characters between the strings in the sequence. If you want to add newlines between the strings. you can use a loop to write each string separately: "
   ]
  },
  {
   "cell_type": "raw",
   "id": "28b03015-8fb8-4445-b30d-072330149fbf",
   "metadata": {},
   "source": [
    "f = open('zen_opem.txt', 'w')\n",
    "lines = ['line 1', 'line 2', 'line 3'] \n",
    "for line in lines:\n",
    "    f.write(line + '\\n')\n",
    "f.close()"
   ]
  },
  {
   "cell_type": "markdown",
   "id": "db941c52-b5a2-4e7f-b4d8-bca109eafe41",
   "metadata": {},
   "source": [
    "**It is also is also a good practice to close the file after you are done with it.**"
   ]
  },
  {
   "cell_type": "code",
   "execution_count": null,
   "id": "b5288d51-f458-4fdf-b59e-ae5fcc75879a",
   "metadata": {},
   "outputs": [],
   "source": []
  }
 ],
 "metadata": {
  "kernelspec": {
   "display_name": "Python 3 (ipykernel)",
   "language": "python",
   "name": "python3"
  },
  "language_info": {
   "codemirror_mode": {
    "name": "ipython",
    "version": 3
   },
   "file_extension": ".py",
   "mimetype": "text/x-python",
   "name": "python",
   "nbconvert_exporter": "python",
   "pygments_lexer": "ipython3",
   "version": "3.9.19"
  }
 },
 "nbformat": 4,
 "nbformat_minor": 5
}
