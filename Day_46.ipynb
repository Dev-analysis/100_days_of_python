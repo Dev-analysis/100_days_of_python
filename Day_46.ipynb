{
 "cells": [
  {
   "cell_type": "markdown",
   "id": "51731dbe-8ac8-4054-8e52-4a89023de24c",
   "metadata": {},
   "source": [
    "## os Module in Python\n",
    "The os module in Python is a built-in library that provides functions for interacting with the operating system. It allows you to perform a wide variety of tasks, such as reading and writing files, interacting with the file system, and running system commands.\n",
    "\n",
    "Here are some common tasks we can perform with the os module:\n",
    "\n",
    "Reading and writing files the os module provides functions for opening, reading, and writing files. For example, to open a file for reading, we can use the open function:"
   ]
  },
  {
   "cell_type": "code",
   "execution_count": null,
   "id": "81593fa4-7225-4a58-8af7-8a22ad5feed7",
   "metadata": {},
   "outputs": [],
   "source": [
    "import os\n",
    "\n",
    "# Open the files in read-only mode\n",
    "f = os.open(\"myfile.txt\", os.O_RDONLY)\n",
    "\n",
    "# Read the contents of the file\n",
    "contents = os.read(f, 1024)\n",
    "\n",
    "#Close the file\n",
    "os.close(f)\n"
   ]
  },
  {
   "cell_type": "markdown",
   "id": "2400ba7d-111a-4763-a4c0-a3d3df07c416",
   "metadata": {},
   "source": [
    "To open a file for writing, you can use the os.O_WRONLY flag:"
   ]
  },
  {
   "cell_type": "code",
   "execution_count": null,
   "id": "23457bdf-cc01-4cc6-9c65-d0d4aa3bb8c4",
   "metadata": {},
   "outputs": [],
   "source": [
    "import os\n",
    "\n",
    "# Open the file in write-only mode\n",
    "f = os.open(\"myfile.txt\", os.O_WRONLY)\n",
    "\n",
    "# Write to the file\n",
    "os.write(f, b\"Hello, world\")\n",
    "\n",
    "#Close the file\n",
    "os.close(f)\n"
   ]
  },
  {
   "cell_type": "markdown",
   "id": "a5be5a1d-e90e-4b7e-916c-1c04a6815a04",
   "metadata": {},
   "source": [
    "## Interacting with the file system\n",
    "The os module also provides functions for interacting with the file system. For example, you can use the **os.listdir** function to get a list of the files in a directory: "
   ]
  },
  {
   "cell_type": "code",
   "execution_count": null,
   "id": "9e16931e-4990-46af-b75c-682942a4e032",
   "metadata": {},
   "outputs": [],
   "source": [
    "import os\n",
    "\n",
    "# Get a list of the files in the current directory\n",
    "files = os.listdir(\".\")\n",
    "print(files) \n",
    "\n",
    "# Output: ['myfile.txt', 'otherfile.txt']"
   ]
  },
  {
   "cell_type": "markdown",
   "id": "61bba45e-c03e-413e-aac3-c1fce908c934",
   "metadata": {},
   "source": [
    "We can also use the os.mkdir function to create a new directory:\n"
   ]
  },
  {
   "cell_type": "code",
   "execution_count": null,
   "id": "9acd49b5-7d21-4efe-8a15-d37373e94f98",
   "metadata": {},
   "outputs": [],
   "source": [
    "import os \n",
    "\n",
    "# Create a new directory\n",
    "os.mkdir(\"newdir\")"
   ]
  },
  {
   "cell_type": "markdown",
   "id": "d88c97f8-454a-4d67-8f64-092ced6dec3b",
   "metadata": {},
   "source": [
    "## Running system commands\n",
    "Finally, the os module provides functions for running system commands. For example, you can use the os.system function to run a command and get the output:"
   ]
  },
  {
   "cell_type": "code",
   "execution_count": null,
   "id": "de7e3e33-32a8-4089-890b-c1b45d118ff0",
   "metadata": {},
   "outputs": [],
   "source": [
    "import os \n",
    "\n",
    "# Run the \"ls' command and print the output\n",
    "output = os.system('ls')\n",
    "print(output) \n",
    "\n",
    "# Output: ['myfile.txt', 'otherfile.txt']"
   ]
  },
  {
   "cell_type": "markdown",
   "id": "433c33f4-531f-4b2f-b3d0-71ab0f140389",
   "metadata": {},
   "source": [
    "We can also use the **os.popen** function to run a command and get the output as a file-like object: "
   ]
  },
  {
   "cell_type": "code",
   "execution_count": 2,
   "id": "333de77c-01f3-4178-9ebe-3116f410deea",
   "metadata": {},
   "outputs": [
    {
     "name": "stdout",
     "output_type": "stream",
     "text": [
      "\n"
     ]
    },
    {
     "data": {
      "text/plain": [
       "1"
      ]
     },
     "execution_count": 2,
     "metadata": {},
     "output_type": "execute_result"
    }
   ],
   "source": [
    "import os\n",
    "\n",
    "# Run the \"ls\" command and get the output as a file-like object\n",
    "f = os.popen(\"ls\")\n",
    "\n",
    "# Read the contents of the output\n",
    "output = f.read()\n",
    "print(output)\n",
    "\n",
    "# Output: ['myfile.txt', 'otherfile.txt']\n",
    "\n",
    "# Close the file-like object\n",
    "f.close()"
   ]
  },
  {
   "cell_type": "markdown",
   "id": "fa9893aa-3a3c-426c-ad88-4cea905017f6",
   "metadata": {},
   "source": [
    "In summary, the os module in Python is a built-in library that provides a wide variety of functions for interacting with the operating system. It allows us to perform tasks such as reading and writing files, interacting with the file system, and running system commands. "
   ]
  },
  {
   "cell_type": "code",
   "execution_count": null,
   "id": "2ac32bc0-7d88-4aca-bf81-0e68414a1553",
   "metadata": {},
   "outputs": [],
   "source": []
  }
 ],
 "metadata": {
  "kernelspec": {
   "display_name": "Python 3 (ipykernel)",
   "language": "python",
   "name": "python3"
  },
  "language_info": {
   "codemirror_mode": {
    "name": "ipython",
    "version": 3
   },
   "file_extension": ".py",
   "mimetype": "text/x-python",
   "name": "python",
   "nbconvert_exporter": "python",
   "pygments_lexer": "ipython3",
   "version": "3.9.19"
  }
 },
 "nbformat": 4,
 "nbformat_minor": 5
}
