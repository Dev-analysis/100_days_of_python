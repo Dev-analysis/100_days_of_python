{
 "cells": [
  {
   "cell_type": "markdown",
   "id": "9498afcd",
   "metadata": {},
   "source": [
    "# What are strings?"
   ]
  },
  {
   "cell_type": "markdown",
   "id": "9e67bc3e",
   "metadata": {},
   "source": [
    "In Python, anything that you enclose between single or double quotation marks is considered a string. A string is essentially a sequence or array of textual data. Strings are used when working with Unicode characters. "
   ]
  },
  {
   "cell_type": "code",
   "execution_count": 2,
   "id": "d9b9fb5c",
   "metadata": {},
   "outputs": [
    {
     "name": "stdout",
     "output_type": "stream",
     "text": [
      "Hello Dev\n"
     ]
    }
   ],
   "source": [
    "name = \"Dev\"\n",
    "print(\"Hello \" + name)"
   ]
  },
  {
   "cell_type": "markdown",
   "id": "7be5782a",
   "metadata": {},
   "source": [
    "Sometimes, the user might need to put quotation marks in between the strings. Example, consider the sentance: He said, \"I want to eat an apple\". \n",
    "\n"
   ]
  },
  {
   "cell_type": "code",
   "execution_count": 3,
   "id": "e9181e65",
   "metadata": {},
   "outputs": [
    {
     "name": "stdout",
     "output_type": "stream",
     "text": [
      "He said, \"I want to eat an apple\".\n"
     ]
    }
   ],
   "source": [
    "print('He said, \"I want to eat an apple\".')"
   ]
  },
  {
   "cell_type": "markdown",
   "id": "a28177ad",
   "metadata": {},
   "source": [
    "## Multiline strings\n",
    "\n",
    "If our string has multiple lines, we can create them like this: "
   ]
  },
  {
   "cell_type": "code",
   "execution_count": 5,
   "id": "b5756084",
   "metadata": {},
   "outputs": [
    {
     "name": "stdout",
     "output_type": "stream",
     "text": [
      "Lorem ipsum dolor sit amet\n",
      "consectetur adipiscing elit, \n",
      "sed do eiusmod tempor incididunt\n",
      "ut labore et dolore magna alique.\n"
     ]
    }
   ],
   "source": [
    "a = \"\"\"Lorem ipsum dolor sit amet\n",
    "consectetur adipiscing elit, \n",
    "sed do eiusmod tempor incididunt\n",
    "ut labore et dolore magna alique.\"\"\"\n",
    "\n",
    "print(a)"
   ]
  },
  {
   "cell_type": "markdown",
   "id": "e9f897b2",
   "metadata": {},
   "source": [
    "## Accessing Characters of a string\n",
    "\n",
    "In Python, string is like an array of characters. We can access parts of string by using its index which starts from 0. \n",
    "\n",
    "Square brackets can be used to access elements of the string."
   ]
  },
  {
   "cell_type": "code",
   "execution_count": 6,
   "id": "3e8100a4",
   "metadata": {},
   "outputs": [
    {
     "name": "stdout",
     "output_type": "stream",
     "text": [
      "D\n",
      "e\n"
     ]
    }
   ],
   "source": [
    "print(name[0])\n",
    "print(name[1])"
   ]
  },
  {
   "cell_type": "markdown",
   "id": "86fe0409",
   "metadata": {},
   "source": [
    "## Looping through the string\n",
    "\n",
    "We can loop through strings using a for loop like this: "
   ]
  },
  {
   "cell_type": "code",
   "execution_count": 7,
   "id": "11d487c0",
   "metadata": {},
   "outputs": [
    {
     "name": "stdout",
     "output_type": "stream",
     "text": [
      "D\n",
      "e\n",
      "v\n"
     ]
    }
   ],
   "source": [
    "for character in name: \n",
    "    print(character)"
   ]
  },
  {
   "cell_type": "markdown",
   "id": "88245cb6",
   "metadata": {},
   "source": [
    "Above code prints all the characters in the string name one by one!"
   ]
  },
  {
   "cell_type": "code",
   "execution_count": null,
   "id": "39e2504c",
   "metadata": {},
   "outputs": [],
   "source": []
  }
 ],
 "metadata": {
  "kernelspec": {
   "display_name": "Python 3 (ipykernel)",
   "language": "python",
   "name": "python3"
  },
  "language_info": {
   "codemirror_mode": {
    "name": "ipython",
    "version": 3
   },
   "file_extension": ".py",
   "mimetype": "text/x-python",
   "name": "python",
   "nbconvert_exporter": "python",
   "pygments_lexer": "ipython3",
   "version": "3.9.12"
  }
 },
 "nbformat": 4,
 "nbformat_minor": 5
}
