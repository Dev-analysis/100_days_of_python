{
 "cells": [
  {
   "cell_type": "markdown",
   "id": "fda33d50-3acc-4f7a-a6c0-3855b7b8afc5",
   "metadata": {},
   "source": [
    "## Local and global variables\n",
    "\n",
    "**variables:**\n",
    "A variable is a named location in memory that stores a value. In Python, we can assign values to variables using the assignment operator **=**. \n",
    "\n",
    "For example: "
   ]
  },
  {
   "cell_type": "code",
   "execution_count": 1,
   "id": "4e925e31-bd6b-48ca-ac7b-5486869c8721",
   "metadata": {},
   "outputs": [],
   "source": [
    "a = 5 \n",
    "b = \"Hello, World!\""
   ]
  },
  {
   "cell_type": "markdown",
   "id": "4b40c7f1-e638-45db-8107-ef04de342e6c",
   "metadata": {},
   "source": [
    "Now, local and global variables come into role.\n",
    "\n",
    "A **local variable** is a variable that is defined within a function and is only accessible within that function. It is created when the function is called and is destroyed when the function returns. \n",
    "\n",
    "On the other hand, a **global variable** is a variable that is defined outside of a function and is accessible from within any function in the code. \n",
    "\n",
    "Example: "
   ]
  },
  {
   "cell_type": "code",
   "execution_count": 2,
   "id": "4a64f840-f854-41b9-a35a-089c9fbef5ed",
   "metadata": {},
   "outputs": [
    {
     "name": "stdout",
     "output_type": "stream",
     "text": [
      "5\n",
      "10\n"
     ]
    },
    {
     "ename": "NameError",
     "evalue": "name 'y' is not defined",
     "output_type": "error",
     "traceback": [
      "\u001b[1;31m---------------------------------------------------------------------------\u001b[0m",
      "\u001b[1;31mNameError\u001b[0m                                 Traceback (most recent call last)",
      "Cell \u001b[1;32mIn[2], line 9\u001b[0m\n\u001b[0;32m      7\u001b[0m my_function()\n\u001b[0;32m      8\u001b[0m \u001b[38;5;28mprint\u001b[39m(x)\n\u001b[1;32m----> 9\u001b[0m \u001b[38;5;28mprint\u001b[39m(\u001b[43my\u001b[49m)\n",
      "\u001b[1;31mNameError\u001b[0m: name 'y' is not defined"
     ]
    }
   ],
   "source": [
    "x = 10 # global variable\n",
    "\n",
    "def my_function():\n",
    "    y = 5       # local variable\n",
    "    print (y)\n",
    "\n",
    "my_function()\n",
    "print(x)\n",
    "print(y) # this will cause an error because y is a local variable\n",
    "          #and is not accessible out of the function\n"
   ]
  },
  {
   "cell_type": "markdown",
   "id": "6ab464ce-112e-49a3-9dc6-df646cf691b6",
   "metadata": {},
   "source": [
    "In this example, we have a global variable x and a local variable y. We can access the value of the global variable x from within the function, but we cannot access the value of the local variable y outside of the function. "
   ]
  },
  {
   "cell_type": "markdown",
   "id": "bdda4e95-dc01-499c-8b6b-20fca170fa29",
   "metadata": {},
   "source": [
    "## The global keyword\n",
    "Now, what if we want to modify a global variable from within a function? This is where the global keyword comes in. \n",
    "\n",
    "The global keyword is used to declare that a variable is a global variable and should be accessed from the global scope. Here's an example:"
   ]
  },
  {
   "cell_type": "code",
   "execution_count": 3,
   "id": "cf20d250-07be-41eb-9f39-59390d699e60",
   "metadata": {},
   "outputs": [
    {
     "name": "stdout",
     "output_type": "stream",
     "text": [
      "5\n"
     ]
    },
    {
     "ename": "NameError",
     "evalue": "name 'y' is not defined",
     "output_type": "error",
     "traceback": [
      "\u001b[1;31m---------------------------------------------------------------------------\u001b[0m",
      "\u001b[1;31mNameError\u001b[0m                                 Traceback (most recent call last)",
      "Cell \u001b[1;32mIn[3], line 10\u001b[0m\n\u001b[0;32m      8\u001b[0m my_function()\n\u001b[0;32m      9\u001b[0m \u001b[38;5;28mprint\u001b[39m(x)  \u001b[38;5;66;03m# print 5 \u001b[39;00m\n\u001b[1;32m---> 10\u001b[0m \u001b[38;5;28mprint\u001b[39m(\u001b[43my\u001b[49m)\n",
      "\u001b[1;31mNameError\u001b[0m: name 'y' is not defined"
     ]
    }
   ],
   "source": [
    "x = 10 # global variable\n",
    "\n",
    "def my_function():\n",
    "    global x\n",
    "    x = 5 # This will change the value of the global variable x\n",
    "    y = 5 # local variable\n",
    "\n",
    "my_function()\n",
    "print(x)  # print 5 \n",
    "print(y)  # this will cause an error because y is local variable and is not\n",
    "          # accessible outside of the function\n"
   ]
  },
  {
   "cell_type": "markdown",
   "id": "aaf2de70-904a-421f-ad31-9ee11c057915",
   "metadata": {},
   "source": [
    "In this example, we used the global keyword to declare that we want to modify the global variable x from within the function. As a result, the value of x is changed to 5. \n",
    "\n",
    "It's important to note that it's generally considered good practice to avoid modifying global variables from within functions, as it can lead to unexpected behaviour and make the code harder to debug. \n"
   ]
  }
 ],
 "metadata": {
  "kernelspec": {
   "display_name": "Python 3 (ipykernel)",
   "language": "python",
   "name": "python3"
  },
  "language_info": {
   "codemirror_mode": {
    "name": "ipython",
    "version": 3
   },
   "file_extension": ".py",
   "mimetype": "text/x-python",
   "name": "python",
   "nbconvert_exporter": "python",
   "pygments_lexer": "ipython3",
   "version": "3.9.19"
  }
 },
 "nbformat": 4,
 "nbformat_minor": 5
}
