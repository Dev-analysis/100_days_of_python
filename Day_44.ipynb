{
 "cells": [
  {
   "cell_type": "markdown",
   "id": "fc0031fb-06c6-49e3-950d-05024f5f9f13",
   "metadata": {},
   "source": [
    "# How importing in python works\n",
    "Importing in Python is the process of loading code from a Python module into the current script. This allows you to use the functions and variables defined in the module in your current script, as well as any additional modules that the imported module may depend on. \n",
    "\n",
    "To import a module in Python, you use the import statement followed by the name of the module. For example, to import the math module, which contains a variety of mathematical functions, you would use the following statement:\n"
   ]
  },
  {
   "cell_type": "code",
   "execution_count": 1,
   "id": "c9b0ae1f-3309-47bb-943e-c96363fa241b",
   "metadata": {},
   "outputs": [],
   "source": [
    "import math"
   ]
  },
  {
   "cell_type": "markdown",
   "id": "a2054e31-270a-4165-8eac-a83ae3ca6743",
   "metadata": {},
   "source": [
    "Once a module is imported, you can use any of the functions and variables defined in the module by using the dot notation. For example, to use the sqrt function from the math module, you would write:"
   ]
  },
  {
   "cell_type": "code",
   "execution_count": 2,
   "id": "30ce8c92-d0ee-4911-b231-9ba67b210157",
   "metadata": {},
   "outputs": [
    {
     "name": "stdout",
     "output_type": "stream",
     "text": [
      "3.0\n"
     ]
    }
   ],
   "source": [
    "import math\n",
    "\n",
    "result = math.sqrt(9)\n",
    "print(result) # Output:3.0"
   ]
  },
  {
   "cell_type": "markdown",
   "id": "5200497e-f737-4532-9e07-1a3c2f968246",
   "metadata": {},
   "source": [
    "## From keyword\n",
    "You can also import specific functions or variables from a module using the from keyword. For example, to import only the squrt function from the math module, you would write:\n"
   ]
  },
  {
   "cell_type": "code",
   "execution_count": 3,
   "id": "cc1bd2f6-5b8c-441b-9bca-b0f69ed1123a",
   "metadata": {},
   "outputs": [
    {
     "name": "stdout",
     "output_type": "stream",
     "text": [
      "3.0\n"
     ]
    }
   ],
   "source": [
    "from math import sqrt\n",
    "\n",
    "result = sqrt(9)\n",
    "print(result)  #Output: 3.0"
   ]
  },
  {
   "cell_type": "markdown",
   "id": "89d7a509-bd30-4e3e-be30-a1ca801df6ce",
   "metadata": {},
   "source": [
    "You can also import multiple functions or variables at once by separting them with a comma: "
   ]
  },
  {
   "cell_type": "code",
   "execution_count": 5,
   "id": "6d4a841a-6235-4a51-a773-5a8f83d69ccc",
   "metadata": {},
   "outputs": [
    {
     "name": "stdout",
     "output_type": "stream",
     "text": [
      "3.0\n",
      "3.141592653589793\n"
     ]
    }
   ],
   "source": [
    "from math import sqrt, pi\n",
    "\n",
    "result = sqrt(9)\n",
    "print(result)    #Output: 3.0\n",
    "\n",
    "print(pi)      # Output: 3.141592653589793"
   ]
  },
  {
   "cell_type": "markdown",
   "id": "b4e1ce5a-d776-499d-aea2-67b327ce9f89",
   "metadata": {},
   "source": [
    "## Importing everything\n",
    "It's also possible to import all functions and variables from a module using the *wildcard. However, this is generally not recommended as it can lead to confusion and make it harder to understand where specific functions and variables are coming from. "
   ]
  },
  {
   "cell_type": "code",
   "execution_count": 6,
   "id": "a3ea0beb-4f85-4581-bd42-d5bc74c9d05b",
   "metadata": {},
   "outputs": [
    {
     "name": "stdout",
     "output_type": "stream",
     "text": [
      "3.0\n",
      "3.141592653589793\n"
     ]
    }
   ],
   "source": [
    "from math import *\n",
    "\n",
    "result = sqrt(9)\n",
    "print(result)    #Output: 3.0\n",
    "\n",
    "print(pi)   #Output: 3.141592653589793"
   ]
  },
  {
   "cell_type": "markdown",
   "id": "d85457c9-c0fa-4438-9da1-0cf5814c9f84",
   "metadata": {},
   "source": [
    "Python also allows you to rename imported modules using the as keyword. This can be useful if you want to use a shorter or more descriptive name for a module, or if you want to avoid naming conflicts with other modules or variables in your code. \n",
    "\n",
    "### The \"as\" keyword"
   ]
  },
  {
   "cell_type": "code",
   "execution_count": 7,
   "id": "02eadd50-0290-434f-9980-f3432d0d40fa",
   "metadata": {},
   "outputs": [
    {
     "name": "stdout",
     "output_type": "stream",
     "text": [
      "3.0\n",
      "3.141592653589793\n"
     ]
    }
   ],
   "source": [
    "import math as m\n",
    "\n",
    "result = m.sqrt(9)\n",
    "print(result)  # Output: 3.0\n",
    "print(m.pi)  # Output: 3.141592653589793"
   ]
  },
  {
   "cell_type": "markdown",
   "id": "ce6f97fd-066a-45a1-9fc0-0072886a5a9d",
   "metadata": {},
   "source": [
    "## The dir function\n",
    "\n",
    "Finally, Python has a built-in function called dir that you can use to view the names of all the functions and variables defined in a module. This can be helpful for exploring and understanding the contents of a new module. "
   ]
  },
  {
   "cell_type": "code",
   "execution_count": 8,
   "id": "08209ef6-750f-4c5a-9169-5e082447e829",
   "metadata": {},
   "outputs": [
    {
     "name": "stdout",
     "output_type": "stream",
     "text": [
      "['__doc__', '__loader__', '__name__', '__package__', '__spec__', 'acos', 'acosh', 'asin', 'asinh', 'atan', 'atan2', 'atanh', 'ceil', 'comb', 'copysign', 'cos', 'cosh', 'degrees', 'dist', 'e', 'erf', 'erfc', 'exp', 'expm1', 'fabs', 'factorial', 'floor', 'fmod', 'frexp', 'fsum', 'gamma', 'gcd', 'hypot', 'inf', 'isclose', 'isfinite', 'isinf', 'isnan', 'isqrt', 'lcm', 'ldexp', 'lgamma', 'log', 'log10', 'log1p', 'log2', 'modf', 'nan', 'nextafter', 'perm', 'pi', 'pow', 'prod', 'radians', 'remainder', 'sin', 'sinh', 'sqrt', 'tan', 'tanh', 'tau', 'trunc', 'ulp']\n"
     ]
    }
   ],
   "source": [
    "import math \n",
    "\n",
    "print(dir(math))"
   ]
  },
  {
   "cell_type": "markdown",
   "id": "93df8284-5f42-46b2-950e-47a2dabaf999",
   "metadata": {},
   "source": [
    "This will output a list of all the names defined in the math module, including functions like sqrt and pi, as well as other variables and constants. \n",
    "\n",
    "In summary, the import statement in Python allows you to access the functions and variables defined in a module from with your current script. You can import the entire module, specific functions or variables, or use the * wildcard to import everything. You can also use the as keyword to rename a module, and the dir function to view the contents of a module. "
   ]
  },
  {
   "cell_type": "code",
   "execution_count": null,
   "id": "b0ca7948-977a-4ec2-a640-1532a1c77eef",
   "metadata": {},
   "outputs": [],
   "source": []
  }
 ],
 "metadata": {
  "kernelspec": {
   "display_name": "Python 3 (ipykernel)",
   "language": "python",
   "name": "python3"
  },
  "language_info": {
   "codemirror_mode": {
    "name": "ipython",
    "version": 3
   },
   "file_extension": ".py",
   "mimetype": "text/x-python",
   "name": "python",
   "nbconvert_exporter": "python",
   "pygments_lexer": "ipython3",
   "version": "3.9.19"
  }
 },
 "nbformat": 4,
 "nbformat_minor": 5
}
