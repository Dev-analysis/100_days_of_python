{
 "cells": [
  {
   "cell_type": "markdown",
   "id": "dd05abde",
   "metadata": {},
   "source": [
    "## Variables and data type"
   ]
  },
  {
   "cell_type": "markdown",
   "id": "ddc8873d",
   "metadata": {},
   "source": [
    "What is variable?\n",
    "\n",
    "variable is like a container that holds data. \n",
    "    Creating a variable is like creating a placeholder in memory and assigning it some value. "
   ]
  },
  {
   "cell_type": "code",
   "execution_count": 1,
   "id": "39ad83a4",
   "metadata": {},
   "outputs": [],
   "source": [
    "a = complex(8,2)\n",
    "b = True\n",
    "c = \"sentance\"\n",
    "d = None\n"
   ]
  },
  {
   "cell_type": "markdown",
   "id": "43bfd782",
   "metadata": {},
   "source": [
    "What is Data type? \n",
    "\n",
    "Data type specifies the type of value a variable holds. This is required in programming to do various operations without causing an error. \n",
    "\n",
    "In python, we can print the type of any operator using type function: "
   ]
  },
  {
   "cell_type": "code",
   "execution_count": 3,
   "id": "283cffdb",
   "metadata": {},
   "outputs": [
    {
     "name": "stdout",
     "output_type": "stream",
     "text": [
      "<class 'int'>\n",
      "<class 'str'>\n"
     ]
    }
   ],
   "source": [
    "a = 1\n",
    "print(type(a))\n",
    "b = \"1\"\n",
    "print(type(b))"
   ]
  },
  {
   "cell_type": "markdown",
   "id": "6cc98b83",
   "metadata": {},
   "source": [
    "By default, python provides the following built-in data types: \n",
    "\n",
    "1. Numeric data: int, float, complex\n",
    "    int: 3, -8, 0 \n",
    "    float: 7.34, -9.34. 0.22234\n",
    "    complex: 7 + 2i\n",
    "\n",
    "2. Text data: str.\n",
    "    str: \"hello world\", \"python\"\n",
    "    \n",
    "3. Boolean data:\n",
    "    Boolean data consists of values True or False\n",
    "\n",
    "4. Sequenced data: list, tuple\n",
    "\n",
    "**List**: A list is an ordered collection of data with elements seprated by a comma and enclosed within square brackets. List are mutable and can be modified after creation\n",
    "\n"
   ]
  },
  {
   "cell_type": "code",
   "execution_count": 3,
   "id": "a0ff3757",
   "metadata": {},
   "outputs": [
    {
     "name": "stdout",
     "output_type": "stream",
     "text": [
      "[8, 2.3, [-4, 5], ['apple', 'banna']]\n"
     ]
    }
   ],
   "source": [
    "list1 = [8, 2.3, [-4, 5], [\"apple\", \"banna\"]]\n",
    "print(list1)"
   ]
  },
  {
   "cell_type": "markdown",
   "id": "8e211635",
   "metadata": {},
   "source": [
    "**Tuples**: A tuple is an ordered collection of data with elements separated by a comma and enclosed within parentheses. Tuples are immutable and can not be modified after creation. "
   ]
  },
  {
   "cell_type": "code",
   "execution_count": 4,
   "id": "dbd2c263",
   "metadata": {},
   "outputs": [
    {
     "name": "stdout",
     "output_type": "stream",
     "text": [
      "(('parrot', 'sparrow'), ('Lion', 'Tiger'))\n"
     ]
    }
   ],
   "source": [
    "tuple1 = ((\"parrot\", \"sparrow\"), (\"Lion\", \"Tiger\"))\n",
    "print(tuple1)"
   ]
  },
  {
   "cell_type": "code",
   "execution_count": 5,
   "id": "961ecc73",
   "metadata": {},
   "outputs": [
    {
     "name": "stdout",
     "output_type": "stream",
     "text": [
      "{'name': 'Sakshi', 'age': 20, 'canVote': True}\n"
     ]
    }
   ],
   "source": [
    "dict1 = {\"name\":\"Sakshi\", \"age\":20, \"canVote\":True}\n",
    "print(dict1)"
   ]
  },
  {
   "cell_type": "markdown",
   "id": "2b4bf25f",
   "metadata": {},
   "source": [
    "**5. Mapped data: dict**\n",
    "\n",
    "**dict**: A dictionary is unordered collection of data containing a key: value pair. \n",
    "\n",
    "the key: value pairs are enclosed within curly brackets."
   ]
  },
  {
   "cell_type": "code",
   "execution_count": 4,
   "id": "36ac844f",
   "metadata": {},
   "outputs": [
    {
     "name": "stdout",
     "output_type": "stream",
     "text": [
      "{'name': 'Sakshi', 'age': 20, 'canVote': True}\n"
     ]
    }
   ],
   "source": [
    "dict1 = {\"name\":\"Sakshi\", \"age\":20, \"canVote\":True}\n",
    "print(dict1)"
   ]
  },
  {
   "cell_type": "code",
   "execution_count": null,
   "id": "791cda77",
   "metadata": {},
   "outputs": [],
   "source": []
  }
 ],
 "metadata": {
  "kernelspec": {
   "display_name": "Python 3 (ipykernel)",
   "language": "python",
   "name": "python3"
  },
  "language_info": {
   "codemirror_mode": {
    "name": "ipython",
    "version": 3
   },
   "file_extension": ".py",
   "mimetype": "text/x-python",
   "name": "python",
   "nbconvert_exporter": "python",
   "pygments_lexer": "ipython3",
   "version": "3.9.12"
  }
 },
 "nbformat": 4,
 "nbformat_minor": 5
}
