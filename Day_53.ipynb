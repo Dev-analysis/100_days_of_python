{
 "cells": [
  {
   "cell_type": "markdown",
   "id": "fe4d7736-8a3d-40b5-ac01-3ca8585c5c38",
   "metadata": {},
   "source": [
    "## Map, Filter and Reduce\n",
    "In Python, the map, filter, and reduce functions are built-in functions that allow you to apply a function to a sequence of elements and return a new sequence. These functions are known as higher-order functions, as they take other functions as arguments. \n"
   ]
  },
  {
   "cell_type": "markdown",
   "id": "b314c39f-36f6-4e9f-8fca-3a9344d7746f",
   "metadata": {},
   "source": [
    "## map\n",
    "The map function applies a function to each element in a sequence and returns a new sequence containing the transformed elements. The map function has the following syntax:\n"
   ]
  },
  {
   "cell_type": "raw",
   "id": "751965c2-2d92-4df9-8ed0-93816a18ceca",
   "metadata": {},
   "source": [
    "map(function, iterable)"
   ]
  },
  {
   "cell_type": "markdown",
   "id": "567eb9bd-bce9-429c-9bcc-731a191582f6",
   "metadata": {},
   "source": [
    "The function argument is a function that is applied to each element in the iterable argument. The iterable argument can be a list, tuple, or any other iterable object. \n",
    "\n",
    "Here is an example of how to use the map function:"
   ]
  },
  {
   "cell_type": "code",
   "execution_count": 2,
   "id": "a19f11a2-f383-4b3f-aa3b-7bba873b6811",
   "metadata": {},
   "outputs": [
    {
     "name": "stdout",
     "output_type": "stream",
     "text": [
      "[2, 4, 6, 8, 10]\n"
     ]
    }
   ],
   "source": [
    "# List of numbers\n",
    "numbers = [1, 2, 3, 4, 5]\n",
    "\n",
    "# Double each number using the map function\n",
    "doubled = map(lambda x: x * 2, numbers)\n",
    "\n",
    "# Print the doubled numbers\n",
    "print(list(doubled))"
   ]
  },
  {
   "cell_type": "markdown",
   "id": "f5f67580-bf73-4727-b48a-16342cfcb33d",
   "metadata": {},
   "source": [
    "In the above example, the lambda function lambda x:x * 2 is used to double each element in the numbers list. The map function applies the lambda function to each element in the list and returns a new list containing the doubled numbers. \n"
   ]
  },
  {
   "cell_type": "markdown",
   "id": "b6a8785c-d2fb-455e-95a1-64a08cc49511",
   "metadata": {},
   "source": [
    "## filter\n",
    "The filter function filtera a sequence of elements based on a given predicate (function that returns a boolean value) and returns a new sequence containing only the elements that meet the predicate. The filter function has the following syntax:\n"
   ]
  },
  {
   "cell_type": "raw",
   "id": "ea5f5203-4664-41d8-926e-490ebca83c6e",
   "metadata": {},
   "source": [
    "filter(predicate, iterable)"
   ]
  },
  {
   "cell_type": "markdown",
   "id": "54f9d193-76dd-4829-aa01-8cc69d49a097",
   "metadata": {},
   "source": [
    "The predicate argument is a function that returns a boolean value and is applied to each element in the iterable argument. The iterable argument can be a list, tuple, or any other iterable object.\n",
    "\n",
    "Here is an example of how to use the filter function:"
   ]
  },
  {
   "cell_type": "code",
   "execution_count": 3,
   "id": "8160ef29-ea8b-4968-bee7-64a79e0d6dfc",
   "metadata": {},
   "outputs": [
    {
     "name": "stdout",
     "output_type": "stream",
     "text": [
      "[2, 4]\n"
     ]
    }
   ],
   "source": [
    "# List of numbers\n",
    "numbers = [1, 2, 3, 4, 5]\n",
    "\n",
    "# Get only the even numbers using the filter function\n",
    "evens = filter(lambda x: x % 2 == 0, numbers)\n",
    "\n",
    "# Print the even numbers\n",
    "print(list(evens))"
   ]
  },
  {
   "cell_type": "markdown",
   "id": "0d6bf064-4c55-482f-856f-47ee3ac4a8a6",
   "metadata": {},
   "source": [
    "In above example, the lambda function lambda x : x % 2 == 0 is used to filter the numbers list and return only the even numbers. The filter function applies the lambda function to each element in the list and returns a new list containing only the even numbers. "
   ]
  },
  {
   "cell_type": "markdown",
   "id": "ed1ffd0e-13e2-4f8c-b2d7-e541c613ff52",
   "metadata": {},
   "source": [
    "## reduce\n",
    "The reduce function is a higher-order function that applies a function to a sequence and returns a single value. It is a part of the functools module in Python and has the following syntax:\n"
   ]
  },
  {
   "cell_type": "raw",
   "id": "896a5ab8-53fd-4793-8e45-0b2c3218663e",
   "metadata": {},
   "source": [
    "reduce(function, iterable)"
   ]
  },
  {
   "cell_type": "markdown",
   "id": "51f0d82d-6a48-4a60-9960-151055b965ff",
   "metadata": {},
   "source": [
    "The function argument is a function that takes in two arguments and returns a single value. The iterable argument is a sequence of elements, such as a list or tuple. \n",
    "\n",
    "The reduce function applies the function to the first two elements in the iterable and then applies the function to the result and the next element, and so on. The reduce function returns the final result.\n",
    "\n",
    "Here is an example of how to use the reduce function: "
   ]
  },
  {
   "cell_type": "code",
   "execution_count": 4,
   "id": "7bcc19ee-c3b7-4cc2-b103-597bb83db785",
   "metadata": {},
   "outputs": [
    {
     "name": "stdout",
     "output_type": "stream",
     "text": [
      "15\n"
     ]
    }
   ],
   "source": [
    "from functools import reduce\n",
    "\n",
    "# List of numbers\n",
    "numbers = [1, 2, 3, 4, 5] \n",
    "\n",
    "# Calculate the sum of the numbers using the reduce function \n",
    "sum = reduce(lambda x, y: x + y, numbers)\n",
    "\n",
    "# Print the sum\n",
    "print(sum)"
   ]
  },
  {
   "cell_type": "markdown",
   "id": "9e74d63c-af25-4a25-805a-b0ebdf16dbb6",
   "metadata": {},
   "source": [
    "In the above example, the reduce function applies the lambda function **lambda x, y: x + y** to the elements in the numbers list. The lambda function adds the two arguments x and y and returns the result. The reduce function applies the lambda function to the first two elements in the list (1 and 2), then applies the function to the result(3) and the next element(3), and so on. The final result is the sum of all the elements in the list, which is 15. \n",
    "\n",
    "It is important to note that the reduce function requires the functools module to be imported in order to use it. "
   ]
  },
  {
   "cell_type": "code",
   "execution_count": null,
   "id": "130339f8-6b85-4cdf-8169-fdb1e4caafc1",
   "metadata": {},
   "outputs": [],
   "source": []
  }
 ],
 "metadata": {
  "kernelspec": {
   "display_name": "Python 3 (ipykernel)",
   "language": "python",
   "name": "python3"
  },
  "language_info": {
   "codemirror_mode": {
    "name": "ipython",
    "version": 3
   },
   "file_extension": ".py",
   "mimetype": "text/x-python",
   "name": "python",
   "nbconvert_exporter": "python",
   "pygments_lexer": "ipython3",
   "version": "3.9.19"
  }
 },
 "nbformat": 4,
 "nbformat_minor": 5
}
