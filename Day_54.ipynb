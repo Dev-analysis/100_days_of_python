{
 "cells": [
  {
   "cell_type": "markdown",
   "id": "1965ba05-9489-4de1-bcb3-f0c9502892e5",
   "metadata": {},
   "source": [
    "## 'is' vs '==' in Python\n",
    "In Python, **is** and **==** are both comparison operators that can be used to check if two values are equal. However, there are some important differences between the two.\n",
    "\n",
    "The **is** operator compares the identity of two objects, while the **==** operator compares the values of the objects. This means that **is** will only return True if the object being compared are the exact same object in memory, while **==** will return True if the objects have the same value. \n",
    "\n",
    "For example:\n"
   ]
  },
  {
   "cell_type": "code",
   "execution_count": 1,
   "id": "ee9f126b-2ef8-4afa-b921-ec764fb92882",
   "metadata": {},
   "outputs": [
    {
     "name": "stdout",
     "output_type": "stream",
     "text": [
      "True\n",
      "False\n"
     ]
    }
   ],
   "source": [
    "a = [ 1, 2, 3]\n",
    "b = [ 1, 2, 3]\n",
    "\n",
    "print(a == b) # True\n",
    "print(a is b) # False"
   ]
  },
  {
   "cell_type": "markdown",
   "id": "2adccbf8-1213-470a-a368-657c623389db",
   "metadata": {},
   "source": [
    "In this case, a and b are two separate lists that have the same values, so == returns True. However, a and b are not the same object in memory, so **is** returns False. \n",
    "\n",
    "One important thing to note is that, in Python, strings and integers are immutable, which means that once they are created, their value cannot be changed. This means that, for strings and integers, **is** and **==** will always return the same result: "
   ]
  },
  {
   "cell_type": "code",
   "execution_count": 2,
   "id": "5ff79f00-c88f-4352-beec-7630e15af3f4",
   "metadata": {},
   "outputs": [
    {
     "name": "stdout",
     "output_type": "stream",
     "text": [
      "True\n",
      "True\n",
      "True\n",
      "True\n"
     ]
    }
   ],
   "source": [
    "a = \"hello\"\n",
    "b = \"hello\"\n",
    "\n",
    "print(a == b) # True\n",
    "print(a is b) # True\n",
    "\n",
    "a = 5\n",
    "b = 5\n",
    "\n",
    "print(a == b) # True\n",
    "print(a is b) # True\n"
   ]
  },
  {
   "cell_type": "markdown",
   "id": "2b673688-11b8-431e-9a99-bcdd42fcb105",
   "metadata": {},
   "source": [
    "In these cases, a and b are both pointing to the same object in memory, so **is** and **==** both return True.\n",
    "\n",
    "For mutable objects such as lists and dictionaries, **is** and **==** can behave differently. In general, you should use **==** when you want to compare the value of two objects, and use is when you want to check if two objects are the same object in memory.\n",
    "\n"
   ]
  },
  {
   "cell_type": "code",
   "execution_count": null,
   "id": "2166dce0-d219-4b02-9896-96b3aa614189",
   "metadata": {},
   "outputs": [],
   "source": []
  }
 ],
 "metadata": {
  "kernelspec": {
   "display_name": "Python 3 (ipykernel)",
   "language": "python",
   "name": "python3"
  },
  "language_info": {
   "codemirror_mode": {
    "name": "ipython",
    "version": 3
   },
   "file_extension": ".py",
   "mimetype": "text/x-python",
   "name": "python",
   "nbconvert_exporter": "python",
   "pygments_lexer": "ipython3",
   "version": "3.9.19"
  }
 },
 "nbformat": 4,
 "nbformat_minor": 5
}
