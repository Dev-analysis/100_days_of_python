{
 "cells": [
  {
   "cell_type": "markdown",
   "id": "0c358180",
   "metadata": {},
   "source": [
    "## Excercise 1 "
   ]
  },
  {
   "cell_type": "markdown",
   "id": "88f46153",
   "metadata": {},
   "source": [
    "Create a calculator capable of performing addition, subtraction, multiplication and division operation on two numbers. Your program should format the output in readable manner!"
   ]
  },
  {
   "cell_type": "markdown",
   "id": "a663016d",
   "metadata": {},
   "source": [
    "**1. my attempt**"
   ]
  },
  {
   "cell_type": "code",
   "execution_count": 4,
   "id": "4414e28e",
   "metadata": {},
   "outputs": [
    {
     "name": "stdout",
     "output_type": "stream",
     "text": [
      "Addition of a and b is:  15\n",
      "Subtraction of a and b is:  5\n",
      "Multiplication of a and b is:  50\n",
      "Division of a and b is:  2.0\n"
     ]
    }
   ],
   "source": [
    "a = 10\n",
    "b = 5 \n",
    "\n",
    "# addition\n",
    "print(\"Addition of a and b is: \", a + b ) \n",
    "\n",
    "# subtraction \n",
    "print(\"Subtraction of a and b is: \", a - b )\n",
    "\n",
    "# multiplication\n",
    "print(\"Multiplication of a and b is: \", a * b )\n",
    "\n",
    "#division\n",
    "print(\"Division of a and b is: \", a / b )"
   ]
  },
  {
   "cell_type": "markdown",
   "id": "e1ea5c3e",
   "metadata": {},
   "source": [
    "**2. Answer by the code_with_harry**"
   ]
  },
  {
   "cell_type": "code",
   "execution_count": 5,
   "id": "260e201b",
   "metadata": {},
   "outputs": [
    {
     "name": "stdout",
     "output_type": "stream",
     "text": [
      "Addition of 15 and 7 is 22\n",
      "Subtraction of 15 and 7 is 8\n",
      "Multiplication of 15 and 7 is 105\n",
      "Division of 15 and 7 is 2.142857142857143\n",
      "Modulus of 15 and 7 is 1\n",
      "Floor Division of 15 and 7 is 2\n"
     ]
    }
   ],
   "source": [
    "n = 15\n",
    "m = 7 \n",
    "\n",
    "ans1 = n+m\n",
    "print(\"Addition of\",n,\"and\",m,\"is\", ans1)\n",
    "\n",
    "ans2 = n-m\n",
    "print(\"Subtraction of\",n,\"and\",m,\"is\", ans2)\n",
    "\n",
    "ans3 = n*m\n",
    "print(\"Multiplication of\",n,\"and\",m,\"is\", ans3)\n",
    "\n",
    "ans4 = n/m\n",
    "print(\"Division of\",n,\"and\",m,\"is\", ans4)\n",
    "\n",
    "ans5 = n%m\n",
    "print(\"Modulus of\",n,\"and\",m,\"is\", ans5)\n",
    "\n",
    "ans6 = n//m\n",
    "print(\"Floor Division of\",n,\"and\",m,\"is\", ans6)"
   ]
  },
  {
   "cell_type": "code",
   "execution_count": null,
   "id": "07c6322e",
   "metadata": {},
   "outputs": [],
   "source": []
  }
 ],
 "metadata": {
  "kernelspec": {
   "display_name": "Python 3 (ipykernel)",
   "language": "python",
   "name": "python3"
  },
  "language_info": {
   "codemirror_mode": {
    "name": "ipython",
    "version": 3
   },
   "file_extension": ".py",
   "mimetype": "text/x-python",
   "name": "python",
   "nbconvert_exporter": "python",
   "pygments_lexer": "ipython3",
   "version": "3.9.12"
  }
 },
 "nbformat": 4,
 "nbformat_minor": 5
}
