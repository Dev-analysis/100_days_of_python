{
 "cells": [
  {
   "cell_type": "markdown",
   "id": "c6f3ce0e-b7b0-4557-9c88-a2c6e5b87f81",
   "metadata": {},
   "source": [
    "# String formatting in python\n",
    "\n",
    "String formatting can be done in python using the format method. "
   ]
  },
  {
   "cell_type": "code",
   "execution_count": 1,
   "id": "7a6d8c5a-58da-44be-8b5f-0152bb69fbfb",
   "metadata": {},
   "outputs": [
    {
     "name": "stdout",
     "output_type": "stream",
     "text": [
      "For only 49.00 dollars!\n"
     ]
    }
   ],
   "source": [
    "txt = \"For only {price:.2f} dollars!\"\n",
    "print(txt.format(price = 49))"
   ]
  },
  {
   "cell_type": "markdown",
   "id": "7624c458-effa-4997-a526-0c59818392af",
   "metadata": {},
   "source": [
    "## f-string in python\n",
    "\n",
    "It is a new string formatting mechanism introduced by the PEP 498. It is also known as Literal String Interpolation or more commonly as F-strings (f character preceding the string literal). The primary focus of this mechanism is to make the interpolation easier.\n",
    "\n",
    "When we prefix the string with the letter 'f', the string becomes the f-string itself. The f-string can be formatted in much same as the str.format() method. The f-string offers a convenient way to embed Python expressions inside string literals for formatting. \n",
    "\n"
   ]
  },
  {
   "cell_type": "code",
   "execution_count": 3,
   "id": "2e0a17f5-f23b-41c2-b7a6-8995d94dae0b",
   "metadata": {},
   "outputs": [
    {
     "name": "stdout",
     "output_type": "stream",
     "text": [
      "GeeksforGeeks is a portal for Geeks.\n",
      "Hello, My name is Tushar and I'm 23 years old.\n"
     ]
    }
   ],
   "source": [
    "val = 'Geeks'\n",
    "print(f\"{val}for{val} is a portal for {val}.\")\n",
    "\n",
    "name = \"Tushar\"\n",
    "age = 23\n",
    "print(f\"Hello, My name is {name} and I'm {age} years old.\")"
   ]
  },
  {
   "cell_type": "markdown",
   "id": "981be6a6-b158-476d-b7de-e90439e194e0",
   "metadata": {},
   "source": [
    "**We can use it in signle statement as well.**"
   ]
  },
  {
   "cell_type": "code",
   "execution_count": 5,
   "id": "3e0cd755-5aa4-41fd-9c07-75e6ab5bca7e",
   "metadata": {},
   "outputs": [
    {
     "name": "stdout",
     "output_type": "stream",
     "text": [
      "60\n"
     ]
    }
   ],
   "source": [
    "print(f\"{2 * 30}\")"
   ]
  },
  {
   "cell_type": "code",
   "execution_count": null,
   "id": "1b27c136-ce03-4c27-979c-750bda3108d8",
   "metadata": {},
   "outputs": [],
   "source": []
  }
 ],
 "metadata": {
  "kernelspec": {
   "display_name": "Python 3 (ipykernel)",
   "language": "python",
   "name": "python3"
  },
  "language_info": {
   "codemirror_mode": {
    "name": "ipython",
    "version": 3
   },
   "file_extension": ".py",
   "mimetype": "text/x-python",
   "name": "python",
   "nbconvert_exporter": "python",
   "pygments_lexer": "ipython3",
   "version": "3.9.19"
  }
 },
 "nbformat": 4,
 "nbformat_minor": 5
}
