{
 "cells": [
  {
   "cell_type": "markdown",
   "id": "0f6671fd",
   "metadata": {},
   "source": [
    "## Modules and pip \n",
    "\n",
    "Module is like a code library which can be used to borrow code written by somebody else in our python program. There are two types of models in python. \n",
    "\n",
    "1. **Built in Module** - These modules are ready to import and use and ships with the python interpretor. There is no need to install such modules explicitly. \n",
    "\n",
    "\n",
    "2. **External modules** - These modules are imported from third party file or can be installed using a package manager like pip or conda. Since this code is written by someone else, we can install different versions of a same module with time. \n"
   ]
  },
  {
   "cell_type": "code",
   "execution_count": 1,
   "id": "2ebd3faa",
   "metadata": {},
   "outputs": [],
   "source": [
    "import pandas\n",
    "\n",
    "# This is an exmple of external module"
   ]
  },
  {
   "cell_type": "code",
   "execution_count": 2,
   "id": "a60d6f74",
   "metadata": {},
   "outputs": [],
   "source": [
    "import hashlib \n",
    "\n",
    "# this is an example of built in module"
   ]
  },
  {
   "cell_type": "code",
   "execution_count": 3,
   "id": "98c226a4",
   "metadata": {},
   "outputs": [
    {
     "name": "stdout",
     "output_type": "stream",
     "text": [
      "Hi\n"
     ]
    }
   ],
   "source": [
    "print(\"Hi\")"
   ]
  },
  {
   "cell_type": "code",
   "execution_count": null,
   "id": "c8065daa",
   "metadata": {
    "scrolled": true
   },
   "outputs": [],
   "source": []
  },
  {
   "cell_type": "code",
   "execution_count": null,
   "id": "2a6c5bd0",
   "metadata": {},
   "outputs": [],
   "source": []
  },
  {
   "cell_type": "code",
   "execution_count": null,
   "id": "3be8bfeb",
   "metadata": {
    "scrolled": true
   },
   "outputs": [],
   "source": []
  },
  {
   "cell_type": "code",
   "execution_count": null,
   "id": "b5045529",
   "metadata": {},
   "outputs": [],
   "source": []
  }
 ],
 "metadata": {
  "kernelspec": {
   "display_name": "Python 3 (ipykernel)",
   "language": "python",
   "name": "python3"
  },
  "language_info": {
   "codemirror_mode": {
    "name": "ipython",
    "version": 3
   },
   "file_extension": ".py",
   "mimetype": "text/x-python",
   "name": "python",
   "nbconvert_exporter": "python",
   "pygments_lexer": "ipython3",
   "version": "3.9.12"
  }
 },
 "nbformat": 4,
 "nbformat_minor": 5
}
