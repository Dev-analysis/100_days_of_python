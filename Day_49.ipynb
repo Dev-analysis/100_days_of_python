{
 "cells": [
  {
   "cell_type": "markdown",
   "id": "af67bf6b-7f55-4505-8311-c38974dba838",
   "metadata": {},
   "source": [
    "Ways to handle files in Python.\n",
    "\n",
    "## Opening a File\n",
    "Before we can perform any operations on a file, we must first open it. Python provides the open() function to open a file. It takes two arguments: the name of the file and the mode in which the file should be opened. The mode can be **'r'** for reading, **'w'** for writing, or **'a'** for appending. \n",
    "\n",
    "Here's an example of how to open a file for reading. "
   ]
  },
  {
   "cell_type": "raw",
   "id": "89b210e3-cb2c-4aca-9184-ca014fbc55e9",
   "metadata": {},
   "source": [
    "f = open('myfile.txt', 'r')"
   ]
  },
  {
   "cell_type": "markdown",
   "id": "40bb2adc-7716-4dca-b133-89b812220142",
   "metadata": {},
   "source": [
    "By default, the open() function returns a file object that can be used to read from or write to the file, depending on the mode. \n",
    "\n",
    "## Modes in file\n",
    "\n",
    "There are various modes in which we can open files. \n",
    "1. **read(r)**: This mode opens the file for reading only and gives an error if the file does not exist. This is the default mode if no mode is passed as a parameter.\n",
    "2. **write(w)**: This mode opens the file for writing only and creates a new file if the file does not exist.\n",
    "3. **append(a)**: This mode opens the file for appending only and creates a new file if the file does not exist.\n",
    "4. **create(x)**: This mode creates a file and gives an error if the file already exists.\n",
    "5. **text(t)**: Apart from these modes we also need to specify how the file must be handled. t mode is used to handle text files. t refers to the text mode. there is no difference between r and rt or w and wt since text mode is the default. The default mode is 'r' (open for reading text, a synonym of 'rt').\n",
    "6. **binary(b)**: used to handle binary files (images, pdfs, etc).\n",
    "\n",
    "## Reading from a File\n",
    "Once we have file object, we can use various methods to read from the file. \n",
    "\n",
    "The read() method reads the entire contents of the file and returns it as a string. \n"
   ]
  },
  {
   "cell_type": "raw",
   "id": "ece9fe14-7c3e-4a23-a6b9-0d50da09f962",
   "metadata": {},
   "source": [
    "f = open('myfile.txt', 'r')\n",
    "contents = f.read()\n",
    "print(contents)"
   ]
  },
  {
   "cell_type": "markdown",
   "id": "8ae1f23f-5ffc-403c-9b10-24e95ed7d393",
   "metadata": {},
   "source": [
    "## Writing to a File\n",
    "To write to a file, we first need to open it in write mode. "
   ]
  },
  {
   "cell_type": "markdown",
   "id": "dcc485d2-dbc7-4419-b332-ba4102b25430",
   "metadata": {},
   "source": [
    "f = open('myfile.txt', 'w')"
   ]
  },
  {
   "cell_type": "markdown",
   "id": "03b398e5-5c7a-4ecd-abd7-889a6fa21336",
   "metadata": {},
   "source": [
    "We can then use the write() method to the file. "
   ]
  },
  {
   "cell_type": "raw",
   "id": "a752e439-4cb1-43ad-bbb6-8e5adc9af339",
   "metadata": {},
   "source": [
    "f = open('myfile.txt', 'w')\n",
    "f.write('Hellow, world!')"
   ]
  },
  {
   "cell_type": "markdown",
   "id": "e132e7d3-bea5-4be2-9fa1-e01933eac88f",
   "metadata": {},
   "source": [
    "**Caution:** writing to a file will overwrite its contents. If you want to append to a file instead of overwriting it, you can open it in append mode. "
   ]
  },
  {
   "cell_type": "raw",
   "id": "63092985-7b98-4e78-8de1-e69fd0b66997",
   "metadata": {},
   "source": [
    "f = open('myfile.txt', 'a')\n",
    "f.write('Hello, world!')"
   ]
  },
  {
   "cell_type": "markdown",
   "id": "342da318-fa3c-43ad-9e28-05e8e64f6a5a",
   "metadata": {},
   "source": [
    "## Closing a File\n",
    "It is important to close a file after you are done with it. This releases the resources used by the file and allows other programs to access it. \n",
    "\n",
    "To close a file, you can use the close() method. \n"
   ]
  },
  {
   "cell_type": "raw",
   "id": "7283e5a7-899c-4ff3-b003-4e6070d6f8ed",
   "metadata": {},
   "source": [
    "f = open('myfile.txt', 'r')\n",
    "# .... other working process and then close the file >>\n",
    "f.close"
   ]
  },
  {
   "cell_type": "markdown",
   "id": "686129ed-b245-4fe9-88e5-13db08e056fc",
   "metadata": {},
   "source": [
    "## The 'with' statement\n",
    "Alternatively, you can use the with statement to automatically close the file after you are done with it. "
   ]
  },
  {
   "cell_type": "raw",
   "id": "4ec5bd9d-6478-4b60-aacc-b7b4358e583f",
   "metadata": {},
   "source": [
    "with open('myfile.txt', 'r') as f:\n",
    "    # ... do something with the file"
   ]
  },
  {
   "cell_type": "code",
   "execution_count": null,
   "id": "748bf3c9-f06b-42e4-8468-696edf5fd5f0",
   "metadata": {},
   "outputs": [],
   "source": []
  }
 ],
 "metadata": {
  "kernelspec": {
   "display_name": "Python 3 (ipykernel)",
   "language": "python",
   "name": "python3"
  },
  "language_info": {
   "codemirror_mode": {
    "name": "ipython",
    "version": 3
   },
   "file_extension": ".py",
   "mimetype": "text/x-python",
   "name": "python",
   "nbconvert_exporter": "python",
   "pygments_lexer": "ipython3",
   "version": "3.9.19"
  }
 },
 "nbformat": 4,
 "nbformat_minor": 5
}
