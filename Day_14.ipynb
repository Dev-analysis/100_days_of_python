{
 "cells": [
  {
   "cell_type": "markdown",
   "id": "5c7ec24b",
   "metadata": {},
   "source": [
    "# if-else Statements\n",
    "\n",
    "Sometimes the programmer needs to check the evaluation of certain expression(s), whether the expression(s) evaluate to True or False. If the expression evaluates to False, then the program execution follows a different path than it would have if the expression had evaluated to True.\n",
    "\n",
    "Based on this, the conditional statements are further classified into following types: \n",
    "**if**\n",
    "**if-else**\n",
    "**if-else-elif**\n",
    "**nested if-else-elif**\n",
    "\n",
    "## An if......else statement evaluates like this: \n",
    "\n",
    "### if the expression evaluates True: \n",
    "Execute the block of code inside if statement. After execution return to the code out of the if.........else bloc.\n",
    "\n",
    "### if the expression evaluates False:\n",
    "Execute the block of code inside else statement. After execution return to the code out of the if.....else block\n"
   ]
  },
  {
   "cell_type": "code",
   "execution_count": 1,
   "id": "c6ec8705",
   "metadata": {},
   "outputs": [
    {
     "name": "stdout",
     "output_type": "stream",
     "text": [
      "Alexa, do not add Apples to the cart.\n"
     ]
    }
   ],
   "source": [
    "applePrice = 210\n",
    "budget = 200\n",
    "if (applePrice <= budget):\n",
    "    print(\"Alexa, add 1 kg Apples to the cart.\")\n",
    "else:\n",
    "    print(\"Alexa, do not add Apples to the cart.\")"
   ]
  },
  {
   "cell_type": "code",
   "execution_count": null,
   "id": "f7b108ab",
   "metadata": {},
   "outputs": [],
   "source": []
  },
  {
   "cell_type": "markdown",
   "id": "f4b94820",
   "metadata": {},
   "source": [
    "# elif Statements\n",
    "\n",
    "Sometimes, the programmer may want to evaluate more than one condition, this can be done using an elif statement. \n",
    "\n",
    "### Working of an elif statement\n",
    "\n",
    "Execute the block of code inside if statement if the initial expression evaluates to True. After execution return to the code out of the if block. \n",
    "\n",
    "Execute the block of code inside the first elif statement if the expression inside it evaluates True. After execution return to the code out of the if block. \n",
    "\n",
    "Execute the block of code inside the second elif statement if the expression inside it evaluates True. After execution return to the code out of the if block. \n",
    "\n",
    ".\n",
    ".\n",
    "\n",
    "Execute the block of code inside the nth elif statement if the expression inside it evaluates True. After execution return to the code out of the if block. \n",
    "\n",
    "Execute the block of code inside else statement if none of the expression evaluates to True. After execution return to the code out of the if block\n"
   ]
  },
  {
   "cell_type": "code",
   "execution_count": 1,
   "id": "33598d7f",
   "metadata": {},
   "outputs": [
    {
     "name": "stdout",
     "output_type": "stream",
     "text": [
      "Number is Zero.\n"
     ]
    }
   ],
   "source": [
    "num = 0 \n",
    "if(num < 0):\n",
    "    print(\"Number is negative.\")\n",
    "elif (num == 0):\n",
    "    print(\"Number is Zero.\")\n",
    "else: \n",
    "    print(\"Number is positive\")"
   ]
  },
  {
   "cell_type": "code",
   "execution_count": null,
   "id": "6ed11073",
   "metadata": {},
   "outputs": [],
   "source": []
  },
  {
   "cell_type": "markdown",
   "id": "3f3d3119",
   "metadata": {},
   "source": [
    " # Nested if statements\n",
    " \n",
    " We can use if, if-else, elif statements inside other if statements as well. "
   ]
  },
  {
   "cell_type": "code",
   "execution_count": 2,
   "id": "d11007ac",
   "metadata": {},
   "outputs": [
    {
     "name": "stdout",
     "output_type": "stream",
     "text": [
      "Number is between 11-20\n"
     ]
    }
   ],
   "source": [
    "num = 18\n",
    "if(num < 0):\n",
    "    print(\"Number is negative.\")\n",
    "elif(num > 0):\n",
    "    if(num <= 0):\n",
    "        print(\"Number is between 1-10\")\n",
    "    elif(num> 10 and num <= 20):\n",
    "        print(\"Number is between 11-20\")\n",
    "    else:\n",
    "        print(\"Number is greater than 20\")\n",
    "else:\n",
    "    print(\"Number is zero\")\n",
    "    "
   ]
  },
  {
   "cell_type": "code",
   "execution_count": null,
   "id": "7fd5fdc8",
   "metadata": {},
   "outputs": [],
   "source": []
  }
 ],
 "metadata": {
  "kernelspec": {
   "display_name": "Python 3 (ipykernel)",
   "language": "python",
   "name": "python3"
  },
  "language_info": {
   "codemirror_mode": {
    "name": "ipython",
    "version": 3
   },
   "file_extension": ".py",
   "mimetype": "text/x-python",
   "name": "python",
   "nbconvert_exporter": "python",
   "pygments_lexer": "ipython3",
   "version": "3.9.12"
  }
 },
 "nbformat": 4,
 "nbformat_minor": 5
}
