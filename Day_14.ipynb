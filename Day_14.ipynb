{
 "cells": [
  {
   "cell_type": "markdown",
   "id": "5c7ec24b",
   "metadata": {},
   "source": [
    "# if-else Statements\n",
    "\n",
    "Sometimes the programmer needs to check the evaluation of certain expression(s), whether the expression(s) evaluate to True or False. If the expression evaluates to False, then the program execution follows a different path than it would have if the expression had evaluated to True.\n",
    "\n",
    "Based on this, the conditional statements are further classified into following types: \n",
    "**if**\n",
    "**if-else**\n",
    "**if-else-elif**\n",
    "**nested if-else-elif**\n",
    "\n",
    "## An if......else statement evaluates like this: \n",
    "\n",
    "### if the expression evaluates True: \n",
    "Execute the block of code inside if statement. After execution return to the code out of the if.........else bloc.\n",
    "\n",
    "### if the expression evaluates False:\n",
    "Execute the block of code inside else statement. After execution return to the code out of the if.....else block\n"
   ]
  },
  {
   "cell_type": "code",
   "execution_count": 1,
   "id": "c6ec8705",
   "metadata": {},
   "outputs": [
    {
     "name": "stdout",
     "output_type": "stream",
     "text": [
      "Alexa, do not add Apples to the cart.\n"
     ]
    }
   ],
   "source": [
    "applePrice = 210\n",
    "budget = 200\n",
    "if (applePrice <= budget):\n",
    "    print(\"Alexa, add 1 kg Apples to the cart.\")\n",
    "else:\n",
    "    print(\"Alexa, do not add Apples to the cart.\")"
   ]
  },
  {
   "cell_type": "code",
   "execution_count": null,
   "id": "f7b108ab",
   "metadata": {},
   "outputs": [],
   "source": []
  }
 ],
 "metadata": {
  "kernelspec": {
   "display_name": "Python 3 (ipykernel)",
   "language": "python",
   "name": "python3"
  },
  "language_info": {
   "codemirror_mode": {
    "name": "ipython",
    "version": 3
   },
   "file_extension": ".py",
   "mimetype": "text/x-python",
   "name": "python",
   "nbconvert_exporter": "python",
   "pygments_lexer": "ipython3",
   "version": "3.9.12"
  }
 },
 "nbformat": 4,
 "nbformat_minor": 5
}
