{
 "cells": [
  {
   "cell_type": "markdown",
   "id": "a9ef4392-d92d-400b-aa54-f275f8d8b16e",
   "metadata": {},
   "source": [
    "## 50 exercise to practice for loop\r\n",
    "* A for loop in Python is a control flow statement that allows you to iterate over a sequence of elements, such as a list, tuple, string, or range of numbers. It executes a block of code repeatedly for each item in the sequence**.\r",
    "**\n",
    "\r\n",
    "Here's the basic syntax of a for loop in Ponyth**\n",
    "\n",
    "**Synt**ax:** \n",
    "\n",
    "for item in sequen**\n",
    "\n",
    "**item:** is a variable that represents each element in the sequence during each iteration.  \n",
    "**sequence:** is the collection of items over which the loop iterates.\n",
    "\r\n",
    "\r\n",
    "\r\n",
    "\r\n",
    "1. Print numbers from 1 to 10.\r\n",
    "2. Print even numbers from 1 to 20.\r\n",
    "3. Print odd numbers from 1 to 20.\r\n",
    "4. Calculate the sum of numbers from 1 to 100.\r\n",
    "5. Print the multiplication table of a givn number.\r\n",
    "\r\n",
    "6. Calculate the factorial of a given number.\r\n",
    "7. Print Fibonacci series up to a certain number of terms.\r\n",
    "8. Print all prime numbers within a given range.\r\n",
    "9. Count the number of vowels in a string.\r\n",
    "10. Print the reverse of a string.\r\n",
    "11. Print the ASCII value of each character in a string.\r\n",
    "12. Print all uppercase letters.\r\n",
    "13. Print all lowercase letters.\r\n",
    "14. Print the square of numbers from 1 to 10.\r\n",
    "15. Print the cube of numbers from 1 to 10.\r\n",
    "16. Find the maximum number in a list.\r\n",
    "17. Find the minimum number in a list.\r\n",
    "18. Count the number of elements in a list.\r\n",
    "19. Calculate the average of numbers in a list.\r\n",
    "20. Print the elements of a list in reverse order.\r\n",
    "21. Print the common elements from two lists.\r\n",
    "22. Remove duplicates from a list.\r\n",
    "23. Print the index of a specific element in a list.\r\n",
    "24. Merge two lists into a single list.\r\n",
    "25. Print a pattern of stars in a pyramid shape.\r\n",
    "26. Check if a given number is a palindrome.\r\n",
    "27. Check if a given string is a palindrome.\r\n",
    "28. Check if a given number is Armstrong number.\r\n",
    "29. .Count the number of digits in a given number.\r\n",
    "30. Calculate the sum of digits in a given number.\r\n",
    "31. Find the largest digit in a given number.\r\n",
    "32. Find the smallest digit in a given number.\r\n",
    "33. Convert decimal to binary.\r\n",
    "34. Convert decimal to hexadecimal.\r\n",
    "35. Convert decimal to octal.\r\n",
    "36. Convert binary to decimal.\r\n",
    "37. Convert binary to hexadecimal.\r\n",
    "38. Convert binary to octal.\r\n",
    "39. Convert hexadecimal to decimal.\r\n",
    "40. Convert hexadecimal to binary.\r\n",
    "41. Convert hexadecimal to octal.\r\n",
    "42. Convert octal to decimal.\r\n",
    "43. Convert octal to binary.\r\n",
    "44. Convert octal to hexadecimal.\r\n",
    "45. Find the factorial of numbers in a list.\r\n",
    "46. Calculate the sum of squares of numbers in a list.\r\n",
    "47. Find the length of each word in a sentence.\r\n",
    "48. Count the number of occurrences of each character in a string.\r\n",
    "49. Remove all whitespace characters from a string.\r\n",
    "50 Check if a given number is a perfect number.r."
   ]
  },
  {
   "cell_type": "code",
   "execution_count": 5,
   "id": "eac2d1f3-fa67-4a3a-8898-3c248e79fdab",
   "metadata": {},
   "outputs": [
    {
     "name": "stdout",
     "output_type": "stream",
     "text": [
      "0\n",
      "1\n",
      "2\n",
      "3\n",
      "4\n",
      "5\n",
      "6\n",
      "7\n",
      "8\n",
      "9\n",
      "10\n"
     ]
    }
   ],
   "source": [
    "# 1. Print numbers from 1 to 10.\n",
    "\n",
    "\n",
    "for i in range(11):\n",
    "    print(i)"
   ]
  },
  {
   "cell_type": "code",
   "execution_count": 11,
   "id": "a2bdaa24-3df6-45c4-aa10-3e74f71db26b",
   "metadata": {},
   "outputs": [
    {
     "name": "stdout",
     "output_type": "stream",
     "text": [
      "0\n",
      "2\n",
      "4\n",
      "6\n",
      "8\n",
      "10\n",
      "12\n",
      "14\n",
      "16\n",
      "18\n"
     ]
    }
   ],
   "source": [
    "# 2. Print even numbers from 1 to 20.\n",
    "\n",
    "for i in range(20):\n",
    "    if i%2 == 0:\n",
    "        print(i)\n",
    "    else:\n",
    "        continue\n",
    "    "
   ]
  },
  {
   "cell_type": "code",
   "execution_count": 12,
   "id": "ab8e371e-08e3-4247-a909-ad28347754b3",
   "metadata": {
    "scrolled": true
   },
   "outputs": [
    {
     "name": "stdout",
     "output_type": "stream",
     "text": [
      "1\n",
      "3\n",
      "5\n",
      "7\n",
      "9\n",
      "11\n",
      "13\n",
      "15\n",
      "17\n",
      "19\n"
     ]
    }
   ],
   "source": [
    "# 3. Print odd numbers from 1 to 20.\n",
    "\n",
    "for i in range(20):\n",
    "    if i%2 != 0:\n",
    "        print(i)\n",
    "    else:\n",
    "        continue"
   ]
  },
  {
   "cell_type": "code",
   "execution_count": 20,
   "id": "fc1291ba-f138-4c9d-9215-3913edafc344",
   "metadata": {},
   "outputs": [
    {
     "name": "stdout",
     "output_type": "stream",
     "text": [
      "5050\n"
     ]
    }
   ],
   "source": [
    "# 4. Calculate the sum of numbers from 1 to 100.\n",
    "\n",
    "num = 0\n",
    "for i in range(101):\n",
    "    num = num + i\n",
    "\n",
    "print(num)"
   ]
  },
  {
   "cell_type": "code",
   "execution_count": 27,
   "id": "87402acf-1040-4f29-a496-dcbf519b1cb6",
   "metadata": {
    "scrolled": true
   },
   "outputs": [
    {
     "name": "stdin",
     "output_type": "stream",
     "text": [
      "give a number:  18\n"
     ]
    },
    {
     "name": "stdout",
     "output_type": "stream",
     "text": [
      "18\n",
      "36\n",
      "54\n",
      "72\n",
      "90\n",
      "108\n",
      "126\n",
      "144\n",
      "162\n",
      "180\n"
     ]
    }
   ],
   "source": [
    "#5. Print the multiplication table of a given number\n",
    "\n",
    "entry = input(\"give a number: \")\n",
    "\n",
    "for i in range(1,11):\n",
    "    i = int(entry) * i\n",
    "    print(i)\n",
    "    "
   ]
  },
  {
   "cell_type": "code",
   "execution_count": 18,
   "id": "e483e106-3ed2-49b6-a195-06b6089b513b",
   "metadata": {},
   "outputs": [
    {
     "name": "stdin",
     "output_type": "stream",
     "text": [
      "enter a positive number: 12\n"
     ]
    },
    {
     "name": "stdout",
     "output_type": "stream",
     "text": [
      "479001600\n"
     ]
    }
   ],
   "source": [
    "# 6. Calculate the factorial of a given number.\n",
    "\n",
    "num = input(\"enter a positive number:\")\n",
    "num1 = int(num) + 1\n",
    "\n",
    "a = 1\n",
    "for i in range(1, num1):\n",
    "    a = a * i\n",
    "\n",
    "print(a)"
   ]
  },
  {
   "cell_type": "markdown",
   "id": "5cb84c18-6e40-41d6-ae96-592d83ac1dc2",
   "metadata": {},
   "source": [
    "The Fibonacci series is a sequence of numbers where each number is the sum of the two preceding ones, usually starting with 0 and 1.\n",
    "\n",
    "F(n) = F(n-1) + F(n-2)"
   ]
  },
  {
   "cell_type": "code",
   "execution_count": 33,
   "id": "6c405ed0-4d78-47d9-a943-1bf4e453af9e",
   "metadata": {},
   "outputs": [
    {
     "ename": "ValueError",
     "evalue": "invalid literal for int() with base 10: 'enter a number:'",
     "output_type": "error",
     "traceback": [
      "\u001b[1;31m---------------------------------------------------------------------------\u001b[0m",
      "\u001b[1;31mValueError\u001b[0m                                Traceback (most recent call last)",
      "Cell \u001b[1;32mIn[33], line 3\u001b[0m\n\u001b[0;32m      1\u001b[0m \u001b[38;5;66;03m# 7. Print Fibonacci series up to a certain number of terms.\u001b[39;00m\n\u001b[1;32m----> 3\u001b[0m num \u001b[38;5;241m=\u001b[39m \u001b[38;5;28minput\u001b[39m(\u001b[38;5;28;43mint\u001b[39;49m\u001b[43m(\u001b[49m\u001b[38;5;124;43m\"\u001b[39;49m\u001b[38;5;124;43menter a number:\u001b[39;49m\u001b[38;5;124;43m\"\u001b[39;49m\u001b[43m)\u001b[49m)\n\u001b[0;32m      6\u001b[0m \u001b[38;5;28;01mfor\u001b[39;00m i \u001b[38;5;129;01min\u001b[39;00m \u001b[38;5;28mrange\u001b[39m(num1):\n\u001b[0;32m      7\u001b[0m     a \u001b[38;5;241m=\u001b[39m [i]\n",
      "\u001b[1;31mValueError\u001b[0m: invalid literal for int() with base 10: 'enter a number:'"
     ]
    }
   ],
   "source": [
    "# 7. Print Fibonacci series up to a certain number of terms.\n",
    "\n",
    "\n",
    "        \n"
   ]
  },
  {
   "cell_type": "code",
   "execution_count": null,
   "id": "8a7d3129-71bc-49df-9263-87923e717444",
   "metadata": {},
   "outputs": [],
   "source": []
  }
 ],
 "metadata": {
  "kernelspec": {
   "display_name": "Python 3 (ipykernel)",
   "language": "python",
   "name": "python3"
  },
  "language_info": {
   "codemirror_mode": {
    "name": "ipython",
    "version": 3
   },
   "file_extension": ".py",
   "mimetype": "text/x-python",
   "name": "python",
   "nbconvert_exporter": "python",
   "pygments_lexer": "ipython3",
   "version": "3.9.19"
  }
 },
 "nbformat": 4,
 "nbformat_minor": 5
}
