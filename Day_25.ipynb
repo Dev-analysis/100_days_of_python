{
 "cells": [
  {
   "cell_type": "markdown",
   "id": "e06cef85-cf42-4621-b5b4-42df4a44c07e",
   "metadata": {},
   "source": [
    "# Manipulating Tuples\n",
    "\n",
    "Tuples are immutable, hence if we want to add, remove or change tuple items, then first we have to convert the tuple to a list. Then perform operation on that list and convert it back to tuple. \n"
   ]
  },
  {
   "cell_type": "code",
   "execution_count": 2,
   "id": "8d86414f-71b8-44df-ba65-09a22ddf7b2f",
   "metadata": {},
   "outputs": [
    {
     "name": "stdout",
     "output_type": "stream",
     "text": [
      "('Spain', 'Italy', 'Finland', 'Germany', 'Russia')\n"
     ]
    }
   ],
   "source": [
    "countries = (\"Spain\", \"Italy\", \"India\", \"England\", \"Germany\")\n",
    "temp = list(countries)\n",
    "temp.append(\"Russia\")     #add item\n",
    "temp.pop(3)               # remove item\n",
    "temp[2] = \"Finland\"      # change item\n",
    "countries = tuple(temp)\n",
    "print(countries)"
   ]
  },
  {
   "cell_type": "markdown",
   "id": "3864669b-ba5d-4132-93b9-548784d5ddd0",
   "metadata": {},
   "source": [
    "Thus, we convert the tuple to a list, manipulate items of the list using list methods, then convert list back to tuple. \n",
    "\n",
    "However, we can directly concatenate two tuples without converting them to list. "
   ]
  },
  {
   "cell_type": "code",
   "execution_count": 4,
   "id": "54adaeb9-e9d7-439b-b5f9-aeafa0948341",
   "metadata": {},
   "outputs": [
    {
     "name": "stdout",
     "output_type": "stream",
     "text": [
      "('Pakistan', 'Afghanistan', 'Bangladesh', 'ShriLanka', 'Vietnam', 'India', 'China')\n"
     ]
    }
   ],
   "source": [
    "countries = (\"Pakistan\", \"Afghanistan\", \"Bangladesh\", \"ShriLanka\")\n",
    "countries2 = (\"Vietnam\", \"India\", \"China\")\n",
    "southEastAsia = countries + countries2\n",
    "print(southEastAsia)"
   ]
  },
  {
   "cell_type": "markdown",
   "id": "27833fa7-6721-4fa5-96bd-18c711cfb341",
   "metadata": {},
   "source": [
    "# Tuple methods\n",
    "\n",
    "As tuple is immutable type of collection of elements it have limited built in methods. They are explained below. \n",
    "\n",
    "**count( )** Method\n",
    "\n",
    "The count() method of tuple returns the number of times the given element appear in the tuple. \n",
    "\n",
    "**Syntax:**    \n",
    "tuple.count(element)"
   ]
  },
  {
   "cell_type": "code",
   "execution_count": 5,
   "id": "e0ccd45c-300d-48bf-886d-456aa930abe4",
   "metadata": {},
   "outputs": [
    {
     "name": "stdout",
     "output_type": "stream",
     "text": [
      "Count of 3 in Tuple1 is: 3\n"
     ]
    }
   ],
   "source": [
    "Tuple1 = (0, 1, 2, 3, 2, 3, 1, 3, 2)\n",
    "res = Tuple1.count(3)\n",
    "print('Count of 3 in Tuple1 is:', res)"
   ]
  },
  {
   "cell_type": "markdown",
   "id": "ff56a97d-569e-4ff0-8549-d414d1422d11",
   "metadata": {},
   "source": [
    "**index( )** Method  \n",
    "The index( ) method returns the first occurrence of the given element from the tuple. \n",
    "\n",
    "**Syntax:**  \n",
    "tuple.index(element, start, end)\n",
    "\n",
    "Note: This method raises a ValueError if the element is not found in the tuple."
   ]
  },
  {
   "cell_type": "code",
   "execution_count": 7,
   "id": "1844de19-77f6-49da-a767-5aa78e192825",
   "metadata": {},
   "outputs": [
    {
     "name": "stdout",
     "output_type": "stream",
     "text": [
      "First occurrence of 3 is 3\n"
     ]
    }
   ],
   "source": [
    "Tuple = (0, 1, 2, 3, 2, 3, 1, 3, 2)\n",
    "res = Tuple.index(3)\n",
    "print(\"First occurrence of 3 is\", res)"
   ]
  },
  {
   "cell_type": "code",
   "execution_count": null,
   "id": "2bc1d4b9-682d-4a10-8526-019ea3694d08",
   "metadata": {},
   "outputs": [],
   "source": []
  }
 ],
 "metadata": {
  "kernelspec": {
   "display_name": "Python 3 (ipykernel)",
   "language": "python",
   "name": "python3"
  },
  "language_info": {
   "codemirror_mode": {
    "name": "ipython",
    "version": 3
   },
   "file_extension": ".py",
   "mimetype": "text/x-python",
   "name": "python",
   "nbconvert_exporter": "python",
   "pygments_lexer": "ipython3",
   "version": "3.9.19"
  }
 },
 "nbformat": 4,
 "nbformat_minor": 5
}
