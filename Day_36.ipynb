{
 "cells": [
  {
   "cell_type": "markdown",
   "id": "6959b9c2-ab15-40e7-8fee-093d2b3f2b1f",
   "metadata": {},
   "source": [
    "# Exception Handling\n",
    "Exception handling is the process of responding to unwanted or unexpected events when a computer program runs. Exception handling deals with these events to avoid the program or system crashing, and without this process, exceptions would disrupt the normal operation of a program. \n",
    "\n",
    "## Exceptions in Python\n",
    "Python has many built-in exceptions that are raised when the program encounters an error (something in the program goes wrong).\n",
    "\n",
    "When these exceptions occur, the Python interpreter stops the current process and passes it to the calling process until it is handled. If not handled, the program will crash. \n",
    "\n",
    "### Python try...except\n",
    "**try..... except** blocks are used in Python to handle errors and exceptions. The code in try block runs when there is no error. If the try block catches the error, then the except block is executed. \n"
   ]
  },
  {
   "cell_type": "markdown",
   "id": "9292041d-51c8-4623-b175-9b0d33be68ac",
   "metadata": {},
   "source": [
    "**Syntax:**"
   ]
  },
  {
   "cell_type": "code",
   "execution_count": null,
   "id": "7ddfb1d9-1d07-48aa-bf02-dd971419dad3",
   "metadata": {},
   "outputs": [],
   "source": [
    "try:  \n",
    "    #Statements which could generate  \n",
    "    #exception  \n",
    "except:  \n",
    "    #Solution of generated exception"
   ]
  },
  {
   "cell_type": "code",
   "execution_count": 5,
   "id": "f48af647-d7d6-4f6b-aedc-3816ccd3ce04",
   "metadata": {},
   "outputs": [
    {
     "name": "stdin",
     "output_type": "stream",
     "text": [
      "Enter an integer:  6.002\n"
     ]
    },
    {
     "name": "stdout",
     "output_type": "stream",
     "text": [
      "Number entered is not an integer.\n"
     ]
    }
   ],
   "source": [
    "try:\n",
    "    num = int(input(\"Enter an integer: \"))\n",
    "except ValueError:\n",
    "    print(\"Number entered is not an integer.\")"
   ]
  },
  {
   "cell_type": "code",
   "execution_count": null,
   "id": "fa651a70-4ace-47c6-9711-ec36c5250d4d",
   "metadata": {},
   "outputs": [],
   "source": []
  }
 ],
 "metadata": {
  "kernelspec": {
   "display_name": "Python 3 (ipykernel)",
   "language": "python",
   "name": "python3"
  },
  "language_info": {
   "codemirror_mode": {
    "name": "ipython",
    "version": 3
   },
   "file_extension": ".py",
   "mimetype": "text/x-python",
   "name": "python",
   "nbconvert_exporter": "python",
   "pygments_lexer": "ipython3",
   "version": "3.9.19"
  }
 },
 "nbformat": 4,
 "nbformat_minor": 5
}
